{
 "cells": [
  {
   "cell_type": "markdown",
   "id": "516785d6-7df7-4f4e-8a3d-ab893f0b616d",
   "metadata": {},
   "source": [
    "# Set up"
   ]
  },
  {
   "cell_type": "raw",
   "id": "a9f778dc-32af-466b-bfe8-de53ae15510d",
   "metadata": {},
   "source": [
    "!poetry run python -m spacy download en_core_web_sm"
   ]
  },
  {
   "cell_type": "markdown",
   "id": "5cb70f7f-ae3b-4468-9918-515e37146614",
   "metadata": {},
   "source": [
    "# Test"
   ]
  },
  {
   "cell_type": "code",
   "execution_count": 1,
   "id": "2998ca58-468b-4eb3-bb7f-12a68c7b902f",
   "metadata": {},
   "outputs": [
    {
     "name": "stdout",
     "output_type": "stream",
     "text": [
      "Barack\tB-PERSON\n",
      "Obama\tI-PERSON\n",
      "was\tO\n",
      "born\tO\n",
      "in\tO\n",
      "Hawaii\tB-GPE\n",
      ".\tO\n"
     ]
    }
   ],
   "source": [
    "import spacy\n",
    "from spacy.tokens import Doc\n",
    "from spacy.training import Example\n",
    "\n",
    "# Example SpaCy JSON data\n",
    "spacy_json = {\n",
    "    \"text\": \"Barack Obama was born in Hawaii.\",\n",
    "    \"ents\": [\n",
    "        {\"start\": 0, \"end\": 12, \"label\": \"PERSON\"},\n",
    "        {\"start\": 25, \"end\": 31, \"label\": \"GPE\"}\n",
    "    ]\n",
    "}\n",
    "\n",
    "# Load a SpaCy model\n",
    "nlp = spacy.load(\"en_core_web_sm\")\n",
    "\n",
    "\n",
    "# Create a Doc object from the text\n",
    "text = spacy_json['text']\n",
    "doc = nlp(text)\n",
    "\n",
    "# Initialize the IOB2 tags\n",
    "iob2_tags = [\"O\"] * len(doc)\n",
    "\n",
    "# Function to assign IOB2 tags\n",
    "def assign_iob2_tags(doc, spacy_json):\n",
    "    entities = spacy_json['ents']\n",
    "    for ent in entities:\n",
    "        start_char = ent['start']\n",
    "        end_char = ent['end']\n",
    "        label = ent['label']\n",
    "        \n",
    "        for token in doc:\n",
    "            if token.idx >= start_char and token.idx < end_char:\n",
    "                if token.idx == start_char:\n",
    "                    iob2_tags[token.i] = f\"B-{label}\"\n",
    "                else:\n",
    "                    iob2_tags[token.i] = f\"I-{label}\"\n",
    "    \n",
    "    return iob2_tags\n",
    "\n",
    "# Get the IOB2 tags\n",
    "iob2_tags = assign_iob2_tags(doc, spacy_json)\n",
    "\n",
    "# Print the results\n",
    "for token, tag in zip(doc, iob2_tags):\n",
    "    print(f\"{token.text}\\t{tag}\")"
   ]
  },
  {
   "cell_type": "markdown",
   "id": "999c570a-f3da-4aef-a886-8883d52fc706",
   "metadata": {},
   "source": [
    "## With Reviews data"
   ]
  },
  {
   "cell_type": "code",
   "execution_count": 2,
   "id": "37cdc3b5-e0e8-41e9-8a92-baeff2f735a3",
   "metadata": {},
   "outputs": [],
   "source": [
    "import json\n",
    "\n",
    "def load_jsonl(file_path):\n",
    "    data = []\n",
    "    with open(file_path, 'r', encoding='utf-8') as f:\n",
    "        for line in f:\n",
    "            data.append(json.loads(line.strip()))\n",
    "    return data\n",
    "\n",
    "# Example usage\n",
    "spacy_formatted_persist_path = '../data/sampled_results_openai_spacy_format.jsonl'\n",
    "spacy_fmt_data = load_jsonl(spacy_formatted_persist_path)"
   ]
  },
  {
   "cell_type": "code",
   "execution_count": 3,
   "id": "39849a97-2d64-444f-b3de-aa11130e2997",
   "metadata": {
    "scrolled": true
   },
   "outputs": [
    {
     "data": {
      "text/plain": [
       "[{'id': '339593553392192228390882582566160737164',\n",
       "  'text': 'The place was nice and calm.',\n",
       "  'label': [[4, 27, 'AMBIENCE']],\n",
       "  'Comments': []}]"
      ]
     },
     "execution_count": 3,
     "metadata": {},
     "output_type": "execute_result"
    }
   ],
   "source": [
    "spacy_fmt_data[:1]"
   ]
  },
  {
   "cell_type": "markdown",
   "id": "c9395a9e-c720-4b55-9530-881adb1d4daa",
   "metadata": {},
   "source": [
    "### Convert"
   ]
  },
  {
   "cell_type": "code",
   "execution_count": 4,
   "id": "32abff5c-f435-490f-afeb-07d9d9ed9cb3",
   "metadata": {},
   "outputs": [],
   "source": [
    "import spacy\n",
    "\n",
    "# Load a SpaCy model\n",
    "nlp = spacy.load(\"en_core_web_sm\")\n",
    "\n",
    "def spacy_json_to_iob2(data):\n",
    "    results = []\n",
    "    for item in data:\n",
    "        text = item['text']\n",
    "        labels = item['label']\n",
    "        \n",
    "        # Create a SpaCy Doc object\n",
    "        doc = nlp(text)\n",
    "        \n",
    "        # Initialize IOB2 tags\n",
    "        iob2_tags = [\"O\"] * len(doc)\n",
    "        \n",
    "        # Assign IOB2 tags based on the labels\n",
    "        for label in labels:\n",
    "            start_char = label[0]\n",
    "            end_char = label[1]\n",
    "            entity_label = label[2]\n",
    "            \n",
    "            for token in doc:\n",
    "                if token.idx >= start_char and token.idx < end_char:\n",
    "                    if token.idx == start_char:\n",
    "                        iob2_tags[token.i] = f\"B-{entity_label}\"\n",
    "                    else:\n",
    "                        iob2_tags[token.i] = f\"I-{entity_label}\"\n",
    "        \n",
    "        # Collect the tokens and their IOB2 tags\n",
    "        token_tags = [(token.text, tag) for token, tag in zip(doc, iob2_tags)]\n",
    "        results.append(token_tags)\n",
    "    \n",
    "    return results\n",
    "\n",
    "iob2_results = spacy_json_to_iob2(spacy_fmt_data)"
   ]
  },
  {
   "cell_type": "code",
   "execution_count": 5,
   "id": "e077a90a-f8dc-4f6c-ae8e-f89ef9ac4094",
   "metadata": {
    "scrolled": true
   },
   "outputs": [
    {
     "data": {
      "text/plain": [
       "[[('The', 'O'),\n",
       "  ('place', 'B-AMBIENCE'),\n",
       "  ('was', 'I-AMBIENCE'),\n",
       "  ('nice', 'I-AMBIENCE'),\n",
       "  ('and', 'I-AMBIENCE'),\n",
       "  ('calm', 'I-AMBIENCE'),\n",
       "  ('.', 'O')],\n",
       " [('Their', 'O'),\n",
       "  ('sake', 'B-FOOD'),\n",
       "  ('martini', 'I-FOOD'),\n",
       "  ('is', 'I-FOOD'),\n",
       "  ('wonderful', 'I-FOOD'),\n",
       "  ('.', 'O')],\n",
       " [('Great', 'O'),\n",
       "  ('for', 'O'),\n",
       "  ('groups', 'O'),\n",
       "  (',', 'O'),\n",
       "  ('great', 'O'),\n",
       "  ('for', 'O'),\n",
       "  ('a', 'O'),\n",
       "  ('date', 'O'),\n",
       "  (',', 'O'),\n",
       "  ('great', 'O'),\n",
       "  ('for', 'O'),\n",
       "  ('early', 'O'),\n",
       "  ('brunch', 'O'),\n",
       "  ('or', 'O'),\n",
       "  ('a', 'O'),\n",
       "  ('nightcap', 'O'),\n",
       "  ('.', 'O')],\n",
       " [('i', 'O'),\n",
       "  ('recommend', 'B-FOOD'),\n",
       "  ('the', 'I-FOOD'),\n",
       "  ('thai', 'I-FOOD'),\n",
       "  ('popcorn', 'I-FOOD'),\n",
       "  (':)', 'O')],\n",
       " [('Most', 'O'),\n",
       "  ('of', 'O'),\n",
       "  ('the', 'O'),\n",
       "  ('servers', 'B-SERVICE'),\n",
       "  ('are', 'I-SERVICE'),\n",
       "  ('very', 'I-SERVICE'),\n",
       "  ('attentive', 'I-SERVICE'),\n",
       "  (',', 'I-SERVICE'),\n",
       "  ('friendly', 'I-SERVICE'),\n",
       "  ('and', 'I-SERVICE'),\n",
       "  ('quite', 'I-SERVICE'),\n",
       "  ('attractive', 'I-SERVICE'),\n",
       "  ('.', 'O')],\n",
       " [('My', 'O'),\n",
       "  ('boyfriend', 'O'),\n",
       "  ('had', 'O'),\n",
       "  ('the', 'O'),\n",
       "  ('New', 'B-FOOD'),\n",
       "  ('England', 'I-FOOD'),\n",
       "  ('Chowder', 'I-FOOD'),\n",
       "  ('it', 'I-FOOD'),\n",
       "  ('was', 'I-FOOD'),\n",
       "  ('good', 'I-FOOD'),\n",
       "  ('but', 'O'),\n",
       "  ('I', 'O'),\n",
       "  ('think', 'O'),\n",
       "  ('the', 'O'),\n",
       "  ('award', 'B-FOOD'),\n",
       "  ('should', 'I-FOOD'),\n",
       "  ('go', 'I-FOOD'),\n",
       "  ('to', 'I-FOOD'),\n",
       "  ('the', 'I-FOOD'),\n",
       "  ('Lobster', 'I-FOOD'),\n",
       "  ('Bisque', 'I-FOOD'),\n",
       "  ('.', 'O')],\n",
       " [('They', 'O'),\n",
       "  ('are', 'O'),\n",
       "  ('not', 'B-SERVICE'),\n",
       "  ('helpful', 'I-SERVICE'),\n",
       "  ('in', 'I-SERVICE'),\n",
       "  ('the', 'I-SERVICE'),\n",
       "  ('least', 'I-SERVICE'),\n",
       "  ('and', 'O'),\n",
       "  ('will', 'O'),\n",
       "  ('give', 'O'),\n",
       "  ('you', 'O'),\n",
       "  ('the', 'O'),\n",
       "  ('grand', 'O'),\n",
       "  ('run', 'O'),\n",
       "  ('around', 'O'),\n",
       "  ('so', 'O'),\n",
       "  ('by', 'O'),\n",
       "  ('the', 'O'),\n",
       "  ('time', 'O'),\n",
       "  ('the', 'O'),\n",
       "  ('event', 'O'),\n",
       "  ('date', 'O'),\n",
       "  ('rolls', 'O'),\n",
       "  ('around', 'O'),\n",
       "  ('you', 'O'),\n",
       "  ('will', 'O'),\n",
       "  ('not', 'O'),\n",
       "  ('only', 'O'),\n",
       "  ('regret', 'O'),\n",
       "  ('chosing', 'O'),\n",
       "  ('this', 'O'),\n",
       "  ('place', 'O'),\n",
       "  (',', 'O'),\n",
       "  ('but', 'O'),\n",
       "  ('also', 'O'),\n",
       "  ('become', 'O'),\n",
       "  ('hostile', 'O'),\n",
       "  ('!', 'O')],\n",
       " [('If', 'O'),\n",
       "  ('you', 'O'),\n",
       "  ('love', 'B-FOOD'),\n",
       "  ('seafood', 'I-FOOD'),\n",
       "  (',', 'O'),\n",
       "  ('you', 'O'),\n",
       "  ('would', 'O'),\n",
       "  ('love', 'O'),\n",
       "  ('this', 'O'),\n",
       "  ('place', 'O'),\n",
       "  ('!', 'O')],\n",
       " [('Nice', 'B-AMBIENCE'),\n",
       "  ('ambiance', 'I-AMBIENCE'),\n",
       "  (',', 'O'),\n",
       "  ('nice', 'B-AMBIENCE'),\n",
       "  ('little', 'I-AMBIENCE'),\n",
       "  ('bar', 'I-AMBIENCE'),\n",
       "  (',', 'O'),\n",
       "  ('good', 'B-SERVICE'),\n",
       "  ('bartender', 'I-SERVICE'),\n",
       "  (',', 'I-SERVICE'),\n",
       "  ('Francois', 'I-SERVICE'),\n",
       "  (',', 'O'),\n",
       "  ('and', 'O'),\n",
       "  ('good', 'B-SERVICE'),\n",
       "  ('service', 'I-SERVICE'),\n",
       "  ('.', 'O')],\n",
       " [('The', 'O'),\n",
       "  ('food', 'B-FOOD'),\n",
       "  ('was', 'I-FOOD'),\n",
       "  ('bland', 'I-FOOD'),\n",
       "  ('oily', 'I-FOOD'),\n",
       "  ('.', 'O')],\n",
       " [('Over', 'O'),\n",
       "  ('the', 'O'),\n",
       "  ('years', 'O'),\n",
       "  (',', 'O'),\n",
       "  ('it', 'O'),\n",
       "  ('has', 'O'),\n",
       "  ('always', 'O'),\n",
       "  ('provided', 'O'),\n",
       "  ('a', 'O'),\n",
       "  ('pleasurable', 'B-AMBIENCE'),\n",
       "  ('dining', 'I-AMBIENCE'),\n",
       "  ('experience', 'I-AMBIENCE'),\n",
       "  ('with', 'O'),\n",
       "  ('quality', 'B-FOOD'),\n",
       "  ('food', 'I-FOOD'),\n",
       "  ('and', 'I-FOOD'),\n",
       "  ('wine', 'I-FOOD'),\n",
       "  ('.', 'O')],\n",
       " [('people', 'B-SERVICE'),\n",
       "  ('are', 'I-SERVICE'),\n",
       "  ('rude', 'I-SERVICE'),\n",
       "  ('bit', 'O'),\n",
       "  ('again', 'O'),\n",
       "  ('it', 'O'),\n",
       "  (\"'s\", 'O'),\n",
       "  ('new', 'O'),\n",
       "  ('york', 'O'),\n",
       "  ('!', 'O')],\n",
       " [('Great', 'B-SERVICE'),\n",
       "  ('friendly', 'I-SERVICE'),\n",
       "  ('service', 'I-SERVICE'),\n",
       "  (',', 'O'),\n",
       "  ('Fast', 'B-SERVICE'),\n",
       "  ('seating', 'I-SERVICE'),\n",
       "  (',', 'O'),\n",
       "  ('Fast', 'B-SERVICE'),\n",
       "  ('Delivery', 'I-SERVICE'),\n",
       "  (',', 'O'),\n",
       "  ('Excellent', 'B-FOOD'),\n",
       "  ('sushi', 'I-FOOD'),\n",
       "  ('.', 'O')],\n",
       " [('The', 'O'),\n",
       "  ('only', 'O'),\n",
       "  ('friendly', 'B-SERVICE'),\n",
       "  ('staff', 'I-SERVICE'),\n",
       "  ('member', 'I-SERVICE'),\n",
       "  ('was', 'O'),\n",
       "  ('the', 'O'),\n",
       "  ('guy', 'O'),\n",
       "  ('at', 'O'),\n",
       "  ('the', 'O'),\n",
       "  ('bar', 'O'),\n",
       "  ('.', 'O')],\n",
       " [('Lahore', 'O'),\n",
       "  ('is', 'O'),\n",
       "  ('a', 'O'),\n",
       "  ('great', 'B-LOCATION'),\n",
       "  ('place', 'I-LOCATION'),\n",
       "  ('to', 'I-LOCATION'),\n",
       "  ('duck', 'I-LOCATION'),\n",
       "  ('into', 'I-LOCATION'),\n",
       "  ('late', 'I-LOCATION'),\n",
       "  ('-', 'I-LOCATION'),\n",
       "  ('night', 'I-LOCATION'),\n",
       "  ('when', 'O'),\n",
       "  ('you', 'O'),\n",
       "  ('need', 'O'),\n",
       "  ('some', 'O'),\n",
       "  ('really', 'B-FOOD'),\n",
       "  ('tasty', 'I-FOOD'),\n",
       "  ('food', 'I-FOOD'),\n",
       "  ('on', 'I-FOOD'),\n",
       "  ('the', 'I-FOOD'),\n",
       "  ('cheap', 'I-FOOD'),\n",
       "  ('--', 'O'),\n",
       "  ('you', 'O'),\n",
       "  (\"'ll\", 'O'),\n",
       "  ('likely', 'O'),\n",
       "  ('have', 'O'),\n",
       "  ('trouble', 'O'),\n",
       "  ('finishing', 'O'),\n",
       "  ('the', 'O'),\n",
       "  ('amount', 'B-PRICE'),\n",
       "  ('of', 'I-PRICE'),\n",
       "  ('food', 'I-PRICE'),\n",
       "  ('you', 'I-PRICE'),\n",
       "  ('get', 'I-PRICE'),\n",
       "  ('for', 'I-PRICE'),\n",
       "  ('FOUR', 'I-PRICE'),\n",
       "  ('DOLLARS', 'I-PRICE'),\n",
       "  ('.', 'O')],\n",
       " [('The', 'O'),\n",
       "  ('highlight', 'O'),\n",
       "  ('of', 'O'),\n",
       "  ('the', 'O'),\n",
       "  ('night', 'O'),\n",
       "  ('was', 'O'),\n",
       "  ('the', 'O'),\n",
       "  ('mayonaisse', 'B-FOOD'),\n",
       "  ('for', 'I-FOOD'),\n",
       "  ('my', 'I-FOOD'),\n",
       "  ('side', 'I-FOOD'),\n",
       "  ('of', 'I-FOOD'),\n",
       "  ('fries', 'I-FOOD'),\n",
       "  ('I', 'O'),\n",
       "  ('received', 'O'),\n",
       "  ('from', 'O'),\n",
       "  ('one', 'O'),\n",
       "  ('of', 'O'),\n",
       "  ('the', 'O'),\n",
       "  ('food', 'O'),\n",
       "  ('runners', 'O'),\n",
       "  (',', 'O'),\n",
       "  ('which', 'O'),\n",
       "  ('is', 'O'),\n",
       "  ('not', 'O'),\n",
       "  ('good', 'O'),\n",
       "  ('considering', 'O'),\n",
       "  ('the', 'O'),\n",
       "  ('bill', 'B-PRICE'),\n",
       "  ('was', 'I-PRICE'),\n",
       "  ('nearly', 'I-PRICE'),\n",
       "  ('$', 'I-PRICE'),\n",
       "  ('100', 'I-PRICE'),\n",
       "  ('.', 'O')],\n",
       " [('I', 'O'),\n",
       "  ('particularly', 'O'),\n",
       "  ('love', 'O'),\n",
       "  ('their', 'O'),\n",
       "  ('yellowfun', 'B-FOOD'),\n",
       "  ('tuna', 'I-FOOD'),\n",
       "  ('and', 'O'),\n",
       "  ('their', 'O'),\n",
       "  ('mussel', 'B-FOOD'),\n",
       "  ('selection', 'I-FOOD'),\n",
       "  ('.', 'O')],\n",
       " [('The', 'O'),\n",
       "  ('signs', 'B-AMBIENCE'),\n",
       "  (',', 'O'),\n",
       "  ('the', 'O'),\n",
       "  ('specials', 'B-FOOD'),\n",
       "  ('menus', 'I-FOOD'),\n",
       "  (',', 'O'),\n",
       "  ('food', 'B-FOOD'),\n",
       "  (',', 'O'),\n",
       "  ('and', 'O'),\n",
       "  ('even', 'O'),\n",
       "  ('all', 'O'),\n",
       "  ('the', 'O'),\n",
       "  ('waitstaff', 'B-SERVICE'),\n",
       "  ('are', 'I-SERVICE'),\n",
       "  ('ALL', 'I-SERVICE'),\n",
       "  ('TOTALLY', 'I-SERVICE'),\n",
       "  ('Japanese', 'I-SERVICE'),\n",
       "  ('.', 'O')],\n",
       " [('We', 'O'),\n",
       "  ('arrived', 'B-SERVICE'),\n",
       "  ('on', 'I-SERVICE'),\n",
       "  ('time', 'I-SERVICE'),\n",
       "  ('for', 'I-SERVICE'),\n",
       "  ('our', 'I-SERVICE'),\n",
       "  ('reservation', 'I-SERVICE'),\n",
       "  ('and', 'O'),\n",
       "  ('seated', 'B-SERVICE'),\n",
       "  ('promptly', 'I-SERVICE'),\n",
       "  ('.', 'O')],\n",
       " [('Last', 'O'),\n",
       "  ('time', 'O'),\n",
       "  ('I', 'O'),\n",
       "  ('went', 'O'),\n",
       "  ('here', 'O'),\n",
       "  (',', 'O'),\n",
       "  ('the', 'O'),\n",
       "  ('waitress', 'B-SERVICE'),\n",
       "  ('did', 'I-SERVICE'),\n",
       "  (\"n't\", 'I-SERVICE'),\n",
       "  ('come', 'I-SERVICE'),\n",
       "  ('back', 'I-SERVICE'),\n",
       "  ('after', 'I-SERVICE'),\n",
       "  ('taking', 'I-SERVICE'),\n",
       "  ('our', 'I-SERVICE'),\n",
       "  ('order', 'I-SERVICE'),\n",
       "  ('.', 'O')],\n",
       " [('Warm', 'B-AMBIENCE'),\n",
       "  (',', 'I-AMBIENCE'),\n",
       "  ('comfortable', 'I-AMBIENCE'),\n",
       "  ('surroundings', 'I-AMBIENCE'),\n",
       "  (',', 'O'),\n",
       "  ('nice', 'B-AMBIENCE'),\n",
       "  ('appointments', 'I-AMBIENCE'),\n",
       "  ('(', 'O'),\n",
       "  ('witness', 'O'),\n",
       "  ('the', 'O'),\n",
       "  ('etched', 'O'),\n",
       "  ('glass', 'O'),\n",
       "  ('and', 'O'),\n",
       "  ('brickwork', 'O'),\n",
       "  ('separating', 'O'),\n",
       "  ('the', 'O'),\n",
       "  ('dining', 'O'),\n",
       "  ('rooms', 'O'),\n",
       "  (')', 'O'),\n",
       "  ('.', 'O')],\n",
       " [('The', 'O'),\n",
       "  ('pesto', 'B-FOOD'),\n",
       "  ('pizza', 'I-FOOD'),\n",
       "  ('was', 'I-FOOD'),\n",
       "  ('excellent', 'I-FOOD'),\n",
       "  (',', 'O'),\n",
       "  ('thin', 'B-FOOD'),\n",
       "  ('-', 'I-FOOD'),\n",
       "  ('crust', 'I-FOOD'),\n",
       "  ('pizza', 'I-FOOD'),\n",
       "  ('with', 'I-FOOD'),\n",
       "  ('a', 'I-FOOD'),\n",
       "  ('nice', 'I-FOOD'),\n",
       "  ('amount', 'I-FOOD'),\n",
       "  ('of', 'I-FOOD'),\n",
       "  ('spicy', 'I-FOOD'),\n",
       "  ('Italian', 'I-FOOD'),\n",
       "  ('cheese', 'I-FOOD'),\n",
       "  ('that', 'O'),\n",
       "  ('I', 'O'),\n",
       "  (\"'d\", 'O'),\n",
       "  ('never', 'O'),\n",
       "  ('heard', 'O'),\n",
       "  ('of', 'O'),\n",
       "  ('before', 'O'),\n",
       "  ('.', 'O')],\n",
       " [('The', 'O'),\n",
       "  ('wine', 'B-FOOD'),\n",
       "  ('is', 'I-FOOD'),\n",
       "  ('always', 'I-FOOD'),\n",
       "  ('good', 'I-FOOD'),\n",
       "  (',', 'O'),\n",
       "  ('the', 'O'),\n",
       "  ('tapas', 'B-FOOD'),\n",
       "  ('are', 'I-FOOD'),\n",
       "  ('always', 'I-FOOD'),\n",
       "  ('yummy', 'I-FOOD'),\n",
       "  (',', 'O'),\n",
       "  ('especially', 'O'),\n",
       "  ('with', 'O'),\n",
       "  ('the', 'O'),\n",
       "  ('warm', 'B-FOOD'),\n",
       "  ('pita', 'I-FOOD'),\n",
       "  ('bread', 'I-FOOD'),\n",
       "  ('.', 'O')],\n",
       " [('Pastrami', 'B-FOOD'),\n",
       "  ('or', 'I-FOOD'),\n",
       "  ('corned', 'I-FOOD'),\n",
       "  ('beef', 'I-FOOD'),\n",
       "  ('are', 'I-FOOD'),\n",
       "  ('juicy', 'I-FOOD'),\n",
       "  ('and', 'I-FOOD'),\n",
       "  ('piled', 'I-FOOD'),\n",
       "  ('high', 'I-FOOD'),\n",
       "  ('(', 'O'),\n",
       "  ('ask', 'O'),\n",
       "  ('for', 'O'),\n",
       "  ('extra', 'O'),\n",
       "  ('rye', 'O'),\n",
       "  ('bread', 'O'),\n",
       "  (')', 'O'),\n",
       "  ('.', 'O')],\n",
       " [('Seriously', 'O'),\n",
       "  (',', 'O'),\n",
       "  ('this', 'O'),\n",
       "  ('is', 'O'),\n",
       "  ('the', 'O'),\n",
       "  ('best', 'B-FOOD'),\n",
       "  ('all', 'I-FOOD'),\n",
       "  ('you', 'I-FOOD'),\n",
       "  ('can', 'I-FOOD'),\n",
       "  ('eat', 'I-FOOD'),\n",
       "  ('in', 'I-FOOD'),\n",
       "  ('town-', 'I-FOOD'),\n",
       "  ('As', 'O'),\n",
       "  ('everyone', 'O'),\n",
       "  ('says', 'O'),\n",
       "  (',', 'O'),\n",
       "  ('the', 'O'),\n",
       "  ('Spicy', 'B-FOOD'),\n",
       "  ('Tuna', 'I-FOOD'),\n",
       "  ('hand', 'I-FOOD'),\n",
       "  ('rolls', 'I-FOOD'),\n",
       "  ('are', 'I-FOOD'),\n",
       "  ('the', 'I-FOOD'),\n",
       "  ('best-', 'I-FOOD'),\n",
       "  ('have', 'O'),\n",
       "  ('4', 'O'),\n",
       "  ('of', 'O'),\n",
       "  ('these', 'O'),\n",
       "  (',', 'O'),\n",
       "  ('and', 'O'),\n",
       "  ('you', 'O'),\n",
       "  (\"'ve\", 'O'),\n",
       "  ('broken', 'O'),\n",
       "  ('even', 'O'),\n",
       "  ('.', 'O')],\n",
       " [('You', 'O'),\n",
       "  ('have', 'O'),\n",
       "  ('to', 'O'),\n",
       "  ('increase', 'B-SERVICE'),\n",
       "  ('the', 'I-SERVICE'),\n",
       "  ('service', 'I-SERVICE'),\n",
       "  ('a', 'I-SERVICE'),\n",
       "  ('lot', 'I-SERVICE'),\n",
       "  ('.', 'O')],\n",
       " [('The', 'O'),\n",
       "  ('Singapore', 'B-FOOD'),\n",
       "  ('Mai', 'I-FOOD'),\n",
       "  ('Fun', 'I-FOOD'),\n",
       "  ('had', 'I-FOOD'),\n",
       "  ('NO', 'I-FOOD'),\n",
       "  ('curry', 'I-FOOD'),\n",
       "  ('flavor', 'I-FOOD'),\n",
       "  ('whatsoever', 'O'),\n",
       "  ('.', 'O')],\n",
       " [('This', 'O'),\n",
       "  ('is', 'O'),\n",
       "  ('a', 'O'),\n",
       "  ('great', 'B-FOOD'),\n",
       "  ('Thai', 'I-FOOD'),\n",
       "  ('restaurant', 'I-FOOD'),\n",
       "  ('with', 'O'),\n",
       "  ('a', 'O'),\n",
       "  ('very', 'B-SERVICE'),\n",
       "  ('friendly', 'I-SERVICE'),\n",
       "  ('staff', 'I-SERVICE'),\n",
       "  ('.', 'O')],\n",
       " [('The', 'O'),\n",
       "  ('best', 'O'),\n",
       "  ('part', 'O'),\n",
       "  ('of', 'O'),\n",
       "  ('the', 'O'),\n",
       "  ('experience', 'O'),\n",
       "  ('was', 'O'),\n",
       "  ('knowing', 'O'),\n",
       "  ('that', 'O'),\n",
       "  ('the', 'O'),\n",
       "  ('manager', 'O'),\n",
       "  ('(', 'O'),\n",
       "  ('a', 'O'),\n",
       "  ('bubbly', 'O'),\n",
       "  (',', 'O'),\n",
       "  ('friendly', 'O'),\n",
       "  ('young', 'O'),\n",
       "  ('woman', 'O'),\n",
       "  ('with', 'O'),\n",
       "  ('a', 'O'),\n",
       "  ('great', 'O'),\n",
       "  ('smile', 'O'),\n",
       "  (')', 'O'),\n",
       "  ('truly', 'O'),\n",
       "  ('cared', 'O'),\n",
       "  ('about', 'O'),\n",
       "  ('how', 'O'),\n",
       "  ('we', 'O'),\n",
       "  ('were', 'O'),\n",
       "  ('doing', 'O'),\n",
       "  ('.', 'O')],\n",
       " [('LOVE', 'B-AMBIENCE'),\n",
       "  ('the', 'I-AMBIENCE'),\n",
       "  ('atmosphere', 'I-AMBIENCE'),\n",
       "  ('-', 'O'),\n",
       "  ('felt', 'O'),\n",
       "  ('like', 'O'),\n",
       "  ('I', 'O'),\n",
       "  ('was', 'O'),\n",
       "  ('in', 'O'),\n",
       "  ('Paris', 'O'),\n",
       "  ('.', 'O')]]"
      ]
     },
     "execution_count": 5,
     "metadata": {},
     "output_type": "execute_result"
    }
   ],
   "source": [
    "iob2_results"
   ]
  },
  {
   "cell_type": "markdown",
   "id": "e42009be-5645-4e67-946b-46c5c9a67f14",
   "metadata": {
    "scrolled": true
   },
   "source": [
    "### Add metadata"
   ]
  },
  {
   "cell_type": "code",
   "execution_count": 6,
   "id": "394d97fc-1d69-4842-aade-4b652e772f54",
   "metadata": {
    "scrolled": true
   },
   "outputs": [],
   "source": [
    "assert len(iob2_results) == len(spacy_fmt_data)"
   ]
  },
  {
   "cell_type": "code",
   "execution_count": 41,
   "id": "1ce25ee1-6796-4e13-afad-9ea671f549f2",
   "metadata": {},
   "outputs": [],
   "source": [
    "outputs = []\n",
    "for i in range(len(iob2_results)):\n",
    "    tokens, tags = zip(*iob2_results[i])\n",
    "    output = {\n",
    "        **{k: v for k, v in spacy_fmt_data[i].items() if k != 'label'},\n",
    "        \"tokens\": tokens,\n",
    "        \"ner_tags\": tags,\n",
    "    }\n",
    "    outputs.append(output)"
   ]
  },
  {
   "cell_type": "code",
   "execution_count": 42,
   "id": "3e2a4973-6b10-42c0-89b4-afb3335e6408",
   "metadata": {
    "scrolled": true
   },
   "outputs": [
    {
     "data": {
      "text/plain": [
       "[{'id': '339593553392192228390882582566160737164',\n",
       "  'text': 'The place was nice and calm.',\n",
       "  'Comments': [],\n",
       "  'tokens': ('The', 'place', 'was', 'nice', 'and', 'calm', '.'),\n",
       "  'ner_tags': ('O',\n",
       "   'B-AMBIENCE',\n",
       "   'I-AMBIENCE',\n",
       "   'I-AMBIENCE',\n",
       "   'I-AMBIENCE',\n",
       "   'I-AMBIENCE',\n",
       "   'O')},\n",
       " {'id': '114101779017082109603328579450586119271',\n",
       "  'text': 'Their sake martini is wonderful.',\n",
       "  'Comments': [],\n",
       "  'tokens': ('Their', 'sake', 'martini', 'is', 'wonderful', '.'),\n",
       "  'ner_tags': ('O', 'B-FOOD', 'I-FOOD', 'I-FOOD', 'I-FOOD', 'O')},\n",
       " {'id': '92175068642289365519888727785080877606',\n",
       "  'text': 'Great for groups, great for a date, great for early brunch or a nightcap.',\n",
       "  'Comments': [],\n",
       "  'tokens': ('Great',\n",
       "   'for',\n",
       "   'groups',\n",
       "   ',',\n",
       "   'great',\n",
       "   'for',\n",
       "   'a',\n",
       "   'date',\n",
       "   ',',\n",
       "   'great',\n",
       "   'for',\n",
       "   'early',\n",
       "   'brunch',\n",
       "   'or',\n",
       "   'a',\n",
       "   'nightcap',\n",
       "   '.'),\n",
       "  'ner_tags': ('O',\n",
       "   'O',\n",
       "   'O',\n",
       "   'O',\n",
       "   'O',\n",
       "   'O',\n",
       "   'O',\n",
       "   'O',\n",
       "   'O',\n",
       "   'O',\n",
       "   'O',\n",
       "   'O',\n",
       "   'O',\n",
       "   'O',\n",
       "   'O',\n",
       "   'O',\n",
       "   'O')},\n",
       " {'id': '275534048062756000231583449127142411586',\n",
       "  'text': 'i recommend the thai popcorn :)',\n",
       "  'Comments': [],\n",
       "  'tokens': ('i', 'recommend', 'the', 'thai', 'popcorn', ':)'),\n",
       "  'ner_tags': ('O', 'B-FOOD', 'I-FOOD', 'I-FOOD', 'I-FOOD', 'O')},\n",
       " {'id': '180532750388022609210582093855641757291',\n",
       "  'text': 'Most of the servers are very attentive, friendly and quite attractive.',\n",
       "  'Comments': [],\n",
       "  'tokens': ('Most',\n",
       "   'of',\n",
       "   'the',\n",
       "   'servers',\n",
       "   'are',\n",
       "   'very',\n",
       "   'attentive',\n",
       "   ',',\n",
       "   'friendly',\n",
       "   'and',\n",
       "   'quite',\n",
       "   'attractive',\n",
       "   '.'),\n",
       "  'ner_tags': ('O',\n",
       "   'O',\n",
       "   'O',\n",
       "   'B-SERVICE',\n",
       "   'I-SERVICE',\n",
       "   'I-SERVICE',\n",
       "   'I-SERVICE',\n",
       "   'I-SERVICE',\n",
       "   'I-SERVICE',\n",
       "   'I-SERVICE',\n",
       "   'I-SERVICE',\n",
       "   'I-SERVICE',\n",
       "   'O')}]"
      ]
     },
     "execution_count": 42,
     "metadata": {},
     "output_type": "execute_result"
    }
   ],
   "source": [
    "outputs[:5]"
   ]
  },
  {
   "cell_type": "markdown",
   "id": "21aaedd3-3cb6-4714-a639-0c323ceac482",
   "metadata": {},
   "source": [
    "## Convert tags to int"
   ]
  },
  {
   "cell_type": "code",
   "execution_count": 43,
   "id": "a8ddfb63-3a3c-4b37-8aff-e72b9b61d468",
   "metadata": {},
   "outputs": [],
   "source": [
    "ner_tags_set = set()\n",
    "for record in outputs:\n",
    "    ner_tags_set.update(list(record['ner_tags']))"
   ]
  },
  {
   "cell_type": "code",
   "execution_count": 44,
   "id": "894e6c46-43b8-4102-b70e-06335042b427",
   "metadata": {},
   "outputs": [],
   "source": [
    "ner_tags_set.remove('O')"
   ]
  },
  {
   "cell_type": "code",
   "execution_count": 45,
   "id": "4f0251aa-07ce-4f76-9162-fe0d1764f719",
   "metadata": {},
   "outputs": [
    {
     "name": "stdout",
     "output_type": "stream",
     "text": [
      "ner_tags_label_mapper={0: 'O', 1: 'B-AMBIENCE', 2: 'I-AMBIENCE', 3: 'B-FOOD', 4: 'I-FOOD', 5: 'B-LOCATION', 6: 'I-LOCATION', 7: 'B-PRICE', 8: 'I-PRICE', 9: 'B-SERVICE', 10: 'I-SERVICE'}\n",
      "ner_tags_label_reverse_mapper={'O': 0, 'B-AMBIENCE': 1, 'I-AMBIENCE': 2, 'B-FOOD': 3, 'I-FOOD': 4, 'B-LOCATION': 5, 'I-LOCATION': 6, 'B-PRICE': 7, 'I-PRICE': 8, 'B-SERVICE': 9, 'I-SERVICE': 10}\n"
     ]
    }
   ],
   "source": [
    "def key_sort_ner_tags(tag):\n",
    "    \"\"\"Convert from B-FOOD to FOOD-B, I-FOOD to FOOD-I\n",
    "    \"\"\"\n",
    "    pre, suf = tag.split('-')\n",
    "    return f\"{suf}-{pre}\"\n",
    "\n",
    "ner_tags_label = sorted(list(ner_tags_set), key=key_sort_ner_tags)\n",
    "ner_tags_label.insert(0, 'O')\n",
    "ner_tags_label_mapper = {i: v for i, v in enumerate(ner_tags_label)}\n",
    "ner_tags_label_reverse_mapper = {v: i for i, v in enumerate(ner_tags_label)}\n",
    "\n",
    "print(f\"{ner_tags_label_mapper=}\")\n",
    "print(f\"{ner_tags_label_reverse_mapper=}\")"
   ]
  },
  {
   "cell_type": "code",
   "execution_count": 50,
   "id": "755c628b-9d68-4b13-ad4f-5d2cc52c3cb4",
   "metadata": {},
   "outputs": [
    {
     "data": {
      "text/plain": [
       "[{'id': '339593553392192228390882582566160737164',\n",
       "  'text': 'The place was nice and calm.',\n",
       "  'Comments': [],\n",
       "  'tokens': ('The', 'place', 'was', 'nice', 'and', 'calm', '.'),\n",
       "  'ner_tags': [0, 1, 2, 2, 2, 2, 0]},\n",
       " {'id': '114101779017082109603328579450586119271',\n",
       "  'text': 'Their sake martini is wonderful.',\n",
       "  'Comments': [],\n",
       "  'tokens': ('Their', 'sake', 'martini', 'is', 'wonderful', '.'),\n",
       "  'ner_tags': [0, 3, 4, 4, 4, 0]},\n",
       " {'id': '92175068642289365519888727785080877606',\n",
       "  'text': 'Great for groups, great for a date, great for early brunch or a nightcap.',\n",
       "  'Comments': [],\n",
       "  'tokens': ('Great',\n",
       "   'for',\n",
       "   'groups',\n",
       "   ',',\n",
       "   'great',\n",
       "   'for',\n",
       "   'a',\n",
       "   'date',\n",
       "   ',',\n",
       "   'great',\n",
       "   'for',\n",
       "   'early',\n",
       "   'brunch',\n",
       "   'or',\n",
       "   'a',\n",
       "   'nightcap',\n",
       "   '.'),\n",
       "  'ner_tags': [0, 0, 0, 0, 0, 0, 0, 0, 0, 0, 0, 0, 0, 0, 0, 0, 0]},\n",
       " {'id': '275534048062756000231583449127142411586',\n",
       "  'text': 'i recommend the thai popcorn :)',\n",
       "  'Comments': [],\n",
       "  'tokens': ('i', 'recommend', 'the', 'thai', 'popcorn', ':)'),\n",
       "  'ner_tags': [0, 3, 4, 4, 4, 0]},\n",
       " {'id': '180532750388022609210582093855641757291',\n",
       "  'text': 'Most of the servers are very attentive, friendly and quite attractive.',\n",
       "  'Comments': [],\n",
       "  'tokens': ('Most',\n",
       "   'of',\n",
       "   'the',\n",
       "   'servers',\n",
       "   'are',\n",
       "   'very',\n",
       "   'attentive',\n",
       "   ',',\n",
       "   'friendly',\n",
       "   'and',\n",
       "   'quite',\n",
       "   'attractive',\n",
       "   '.'),\n",
       "  'ner_tags': [0, 0, 0, 9, 10, 10, 10, 10, 10, 10, 10, 10, 0]}]"
      ]
     },
     "execution_count": 50,
     "metadata": {},
     "output_type": "execute_result"
    }
   ],
   "source": [
    "for output in outputs:\n",
    "    new_ner_tags = []\n",
    "    for t in output['ner_tags']:\n",
    "        new_ner_tags.append(ner_tags_label_reverse_mapper[t])\n",
    "    output['ner_tags'] = new_ner_tags\n",
    "\n",
    "outputs[:5]"
   ]
  },
  {
   "cell_type": "markdown",
   "id": "aba6e4f6-4502-4e24-96d5-62f33c9fce50",
   "metadata": {},
   "source": [
    "#### Persist"
   ]
  },
  {
   "cell_type": "code",
   "execution_count": 51,
   "id": "90859258-c66a-4ec3-86fc-3e2c4fe82359",
   "metadata": {},
   "outputs": [
    {
     "name": "stdout",
     "output_type": "stream",
     "text": [
      "len(train_outputs)=24, len(val_outputs)=6\n"
     ]
    }
   ],
   "source": [
    "# Split to train and validation\n",
    "from sklearn.model_selection import train_test_split\n",
    "\n",
    "train_outputs, val_outputs = train_test_split(outputs, test_size=0.2, random_state=42)\n",
    "\n",
    "print(f\"{len(train_outputs)=}, {len(val_outputs)=}\")"
   ]
  },
  {
   "cell_type": "code",
   "execution_count": 52,
   "id": "a44c23b5-b819-414e-8c6c-af1d933a5886",
   "metadata": {},
   "outputs": [],
   "source": [
    "def save_to_jsonl(data, filename):\n",
    "    with open(filename, 'w') as f:\n",
    "        for item in data:\n",
    "            json_line = json.dumps(item)\n",
    "            f.write(json_line + '\\n')"
   ]
  },
  {
   "cell_type": "code",
   "execution_count": 53,
   "id": "81d4461f-4548-4dc4-94ed-fcda39de0e72",
   "metadata": {},
   "outputs": [],
   "source": [
    "iob2_formatted_persist_path = '../data/sampled_results_openai_iob2_format_{split}.jsonl'\n",
    "iob2_train = train_outputs[:]\n",
    "iob2_val = val_outputs[:]\n",
    "\n",
    "save_to_jsonl(iob2_train, iob2_formatted_persist_path.format(split='train'))\n",
    "save_to_jsonl(iob2_val, iob2_formatted_persist_path.format(split='val'))"
   ]
  },
  {
   "cell_type": "markdown",
   "id": "e0f35b72-9fa1-4557-b710-7fdb97e8f5af",
   "metadata": {},
   "source": [
    "# Push dataset to HuggingFace Datasets"
   ]
  },
  {
   "cell_type": "markdown",
   "id": "87a1855d-d163-431e-8352-b57ec90ffc24",
   "metadata": {},
   "source": [
    "## Add Dataset features"
   ]
  },
  {
   "cell_type": "code",
   "execution_count": 76,
   "id": "fbe7e466-09fd-46af-819d-225d428b79eb",
   "metadata": {},
   "outputs": [],
   "source": [
    "from datasets import Features, ClassLabel, Sequence, Value"
   ]
  },
  {
   "cell_type": "code",
   "execution_count": 81,
   "id": "51b610de-259d-488f-bcc7-292bb4a02ad6",
   "metadata": {},
   "outputs": [],
   "source": [
    "ner_feature = Sequence(feature=ClassLabel(num_classes=len(ner_tags_label), names=ner_tags_label, id=None))\n",
    "\n",
    "features = Features(\n",
    "    {\n",
    "        'id': Value('string'),\n",
    "        'text': Value('large_string'),\n",
    "        'Comments': Sequence(Value('string')),\n",
    "        'tokens': Sequence(Value('string')),\n",
    "        'ner_tags': ner_feature\n",
    "    }\n",
    ")"
   ]
  },
  {
   "cell_type": "code",
   "execution_count": 82,
   "id": "36890206-21f6-483a-ac9f-4222c6d77357",
   "metadata": {},
   "outputs": [
    {
     "data": {
      "application/vnd.jupyter.widget-view+json": {
       "model_id": "49c08d3148d74102875be38359d674d6",
       "version_major": 2,
       "version_minor": 0
      },
      "text/plain": [
       "Generating train split: 0 examples [00:00, ? examples/s]"
      ]
     },
     "metadata": {},
     "output_type": "display_data"
    },
    {
     "data": {
      "application/vnd.jupyter.widget-view+json": {
       "model_id": "77ce449ccb2143ff8fb72a0484612d16",
       "version_major": 2,
       "version_minor": 0
      },
      "text/plain": [
       "Generating val split: 0 examples [00:00, ? examples/s]"
      ]
     },
     "metadata": {},
     "output_type": "display_data"
    }
   ],
   "source": [
    "from datasets import load_dataset, Dataset\n",
    "\n",
    "# Example of loading a CSV file\n",
    "data_files = {'train': iob2_formatted_persist_path.format(split='train'), 'val': iob2_formatted_persist_path.format(split='val')}\n",
    "dataset = load_dataset('json', data_files=data_files, features=features)"
   ]
  },
  {
   "cell_type": "code",
   "execution_count": 83,
   "id": "105db7f8-b9d4-4a44-a775-09064c6a4e0f",
   "metadata": {},
   "outputs": [
    {
     "data": {
      "text/plain": [
       "DatasetDict({\n",
       "    train: Dataset({\n",
       "        features: ['id', 'text', 'Comments', 'tokens', 'ner_tags'],\n",
       "        num_rows: 24\n",
       "    })\n",
       "    val: Dataset({\n",
       "        features: ['id', 'text', 'Comments', 'tokens', 'ner_tags'],\n",
       "        num_rows: 6\n",
       "    })\n",
       "})"
      ]
     },
     "execution_count": 83,
     "metadata": {},
     "output_type": "execute_result"
    }
   ],
   "source": [
    "dataset"
   ]
  },
  {
   "cell_type": "markdown",
   "id": "564251cf-e09e-4f46-ad99-708412784d29",
   "metadata": {},
   "source": [
    "## Push"
   ]
  },
  {
   "cell_type": "code",
   "execution_count": 84,
   "id": "6352e0f9-8034-4258-9d92-f06d30e353fb",
   "metadata": {},
   "outputs": [
    {
     "data": {
      "text/plain": [
       "True"
      ]
     },
     "execution_count": 84,
     "metadata": {},
     "output_type": "execute_result"
    }
   ],
   "source": [
    "from dotenv import load_dotenv\n",
    "\n",
    "load_dotenv()"
   ]
  },
  {
   "cell_type": "code",
   "execution_count": 85,
   "id": "5cb747ae-af59-4c4e-8caa-8854ca3f3281",
   "metadata": {},
   "outputs": [
    {
     "name": "stdout",
     "output_type": "stream",
     "text": [
      "Token is valid (permission: write).\n",
      "Your token has been saved in your configured git credential helpers (store).\n",
      "Your token has been saved to /home/dvquys/.cache/huggingface/token\n",
      "Login successful\n"
     ]
    }
   ],
   "source": [
    "!huggingface-cli login --token $HUGGINGFACE_WRITE_TOKEN --add-to-git-credential"
   ]
  },
  {
   "cell_type": "code",
   "execution_count": 86,
   "id": "640770ad-106c-4568-8200-d161eda5d87a",
   "metadata": {},
   "outputs": [
    {
     "data": {
      "application/vnd.jupyter.widget-view+json": {
       "model_id": "2cd3ddc4e0204f8e9f8e6b64f69c539a",
       "version_major": 2,
       "version_minor": 0
      },
      "text/plain": [
       "Uploading the dataset shards:   0%|          | 0/1 [00:00<?, ?it/s]"
      ]
     },
     "metadata": {},
     "output_type": "display_data"
    },
    {
     "data": {
      "application/vnd.jupyter.widget-view+json": {
       "model_id": "3b42406e7de540f4b0cff51aa3e46216",
       "version_major": 2,
       "version_minor": 0
      },
      "text/plain": [
       "Creating parquet from Arrow format:   0%|          | 0/1 [00:00<?, ?ba/s]"
      ]
     },
     "metadata": {},
     "output_type": "display_data"
    },
    {
     "data": {
      "application/vnd.jupyter.widget-view+json": {
       "model_id": "c0352f1582084491b38fbfd1d77f436e",
       "version_major": 2,
       "version_minor": 0
      },
      "text/plain": [
       "Uploading the dataset shards:   0%|          | 0/1 [00:00<?, ?it/s]"
      ]
     },
     "metadata": {},
     "output_type": "display_data"
    },
    {
     "data": {
      "application/vnd.jupyter.widget-view+json": {
       "model_id": "b625da22141e4b1682d539a6d844c24b",
       "version_major": 2,
       "version_minor": 0
      },
      "text/plain": [
       "Creating parquet from Arrow format:   0%|          | 0/1 [00:00<?, ?ba/s]"
      ]
     },
     "metadata": {},
     "output_type": "display_data"
    },
    {
     "data": {
      "application/vnd.jupyter.widget-view+json": {
       "model_id": "cc9f6b64c3db450da96ee56dca7fb387",
       "version_major": 2,
       "version_minor": 0
      },
      "text/plain": [
       "README.md:   0%|          | 0.00/503 [00:00<?, ?B/s]"
      ]
     },
     "metadata": {},
     "output_type": "display_data"
    },
    {
     "data": {
      "text/plain": [
       "CommitInfo(commit_url='https://huggingface.co/datasets/dvquys/restaurant-reviews-public-sources/commit/f81a1e8cd7e5d7a7b65df4db63c5df71dc021c3a', commit_message='Register Features', commit_description='', oid='f81a1e8cd7e5d7a7b65df4db63c5df71dc021c3a', pr_url=None, pr_revision=None, pr_num=None)"
      ]
     },
     "execution_count": 86,
     "metadata": {},
     "output_type": "execute_result"
    }
   ],
   "source": [
    "HUGGINGFACE_DS = 'dvquys/restaurant-reviews-public-sources'\n",
    "dataset.push_to_hub(HUGGINGFACE_DS, commit_message='Register Features')"
   ]
  },
  {
   "cell_type": "code",
   "execution_count": null,
   "id": "3d197702-be90-4fc4-a2bf-63d6efca918c",
   "metadata": {},
   "outputs": [],
   "source": []
  }
 ],
 "metadata": {
  "kernelspec": {
   "display_name": "Python 3 (ipykernel)",
   "language": "python",
   "name": "python3"
  },
  "language_info": {
   "codemirror_mode": {
    "name": "ipython",
    "version": 3
   },
   "file_extension": ".py",
   "mimetype": "text/x-python",
   "name": "python",
   "nbconvert_exporter": "python",
   "pygments_lexer": "ipython3",
   "version": "3.9.19"
  }
 },
 "nbformat": 4,
 "nbformat_minor": 5
}
