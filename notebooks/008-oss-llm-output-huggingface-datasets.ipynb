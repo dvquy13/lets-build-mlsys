{
 "cells": [
  {
   "cell_type": "markdown",
   "id": "f036a3cd-189b-4888-8dff-38a9ed33c6d7",
   "metadata": {},
   "source": [
    "# Set up"
   ]
  },
  {
   "cell_type": "code",
   "execution_count": 1,
   "id": "d94f8caa-d7da-4f29-a25a-a3e96b55f0ec",
   "metadata": {},
   "outputs": [],
   "source": [
    "%load_ext autoreload\n",
    "%autoreload 2"
   ]
  },
  {
   "cell_type": "code",
   "execution_count": 2,
   "id": "3dc5ed33-b184-40f2-a7f5-cbd250461d64",
   "metadata": {},
   "outputs": [],
   "source": [
    "import json"
   ]
  },
  {
   "cell_type": "code",
   "execution_count": 3,
   "id": "6b06378f-e0ab-425f-964f-1c0fe2070c48",
   "metadata": {},
   "outputs": [],
   "source": [
    "import sys\n",
    "sys.path.insert(0, '..')\n",
    "\n",
    "from loguru import logger"
   ]
  },
  {
   "cell_type": "markdown",
   "id": "05745c5d-2d7a-437b-bb2c-ac25d4a7782f",
   "metadata": {},
   "source": [
    "# Constants"
   ]
  },
  {
   "cell_type": "code",
   "execution_count": 4,
   "id": "b6401137-7fba-4fc2-a1c2-3e5ac8df8ca2",
   "metadata": {},
   "outputs": [],
   "source": [
    "VERSION = '20240706095040'"
   ]
  },
  {
   "cell_type": "markdown",
   "id": "21af2aca-4422-4178-a27c-a54c43b76423",
   "metadata": {},
   "source": [
    "# Load data"
   ]
  },
  {
   "cell_type": "code",
   "execution_count": 5,
   "id": "94ab49a9-6625-4091-bd2a-9b10fc03a796",
   "metadata": {},
   "outputs": [],
   "source": [
    "# llm output\n",
    "llm_output_spacy_fp = f\"../data/output/llm_extract_output_{VERSION}_spacy.json\"\n",
    "with open(llm_output_spacy_fp, \"r\") as f:\n",
    "    llm_output = json.load(f)"
   ]
  },
  {
   "cell_type": "code",
   "execution_count": 6,
   "id": "1feb8273-f09c-47f5-a6f3-c1ea79147ee4",
   "metadata": {},
   "outputs": [],
   "source": [
    "# holdout\n",
    "holdout_spacy_fp = \"../data/output/llm_extract_output_holdout_spacy.json\"\n",
    "with open(holdout_spacy_fp, \"r\") as f:\n",
    "    holdout = json.load(f)"
   ]
  },
  {
   "cell_type": "markdown",
   "id": "c45e06f7-9e8c-4571-9f13-4e1efc77f08d",
   "metadata": {},
   "source": [
    "# Exclude holdout from llm output"
   ]
  },
  {
   "cell_type": "code",
   "execution_count": 7,
   "id": "a255178c-4fea-44ec-ab5f-01b86950e8b2",
   "metadata": {},
   "outputs": [
    {
     "data": {
      "text/plain": [
       "[{'id': '53745975096161334446695170010345366844',\n",
       "  'text': 'The restaurant looks out over beautiful green lawns to the Hudson River and the Statue of Liberty.',\n",
       "  'label': [[15, 51, 'VIEW'], [59, 97, 'VIEW']],\n",
       "  'Comments': []},\n",
       " {'id': '14008356808251230170256576349676573112',\n",
       "  'text': \"Also, the sandwiches (nearing $7) didn't come with anything like chips or a side.\",\n",
       "  'label': [[10, 33, 'PRICE'], [10, 80, 'FOOD']],\n",
       "  'Comments': []},\n",
       " {'id': '196846222781357184059657962635349503302',\n",
       "  'text': 'Luckily we saved room for the BBQ Salmon, Sea Bass and Crispy Duck.',\n",
       "  'label': [[30, 66, 'FOOD']],\n",
       "  'Comments': []},\n",
       " {'id': '122902927917699489714278789756481778575',\n",
       "  'text': \"I've been to Naples 45 for dinner twice.\",\n",
       "  'label': [[0, 39, 'SERVICE']],\n",
       "  'Comments': []},\n",
       " {'id': '209028716300947491053334478581226250868',\n",
       "  'text': 'Haru serves very fresh fish, has a trendy, modern ambiance, prime location on Park Avenue South and friendly service.',\n",
       "  'label': [[5, 27, 'FOOD'],\n",
       "   [35, 58, 'AMBIENCE'],\n",
       "   [60, 95, 'LOCATION'],\n",
       "   [100, 116, 'SERVICE']],\n",
       "  'Comments': []},\n",
       " {'id': '107194042387090285961537420164584011178',\n",
       "  'text': \"At the end you're left with a mild broth with noodles that you can slurp out of a cup.\",\n",
       "  'label': [[30, 85, 'FOOD']],\n",
       "  'Comments': []},\n",
       " {'id': '116402253760754483972564443016647814121',\n",
       "  'text': 'The food inludes famous scrumptious bombay style chaat such as bhelpuri, sevpuri and samosa chaats, as well as other great indian appetizers.',\n",
       "  'label': [[17, 54, 'FOOD'], [63, 98, 'FOOD'], [117, 140, 'FOOD']],\n",
       "  'Comments': []},\n",
       " {'id': '139490241432960688311126149732609375376',\n",
       "  'text': 'The food is delicious - from the specials to the regular menu-fare, the dishes are never a disappointment.',\n",
       "  'label': [[4, 105, 'FOOD']],\n",
       "  'Comments': []},\n",
       " {'id': '230847082446528180009685043448022333641',\n",
       "  'text': \"they didn't disappoint, service from the second i arrived at the door was extremely pleasant and attentive with almost one server per table.\",\n",
       "  'label': [[5, 22, 'SERVICE'], [24, 139, 'SERVICE']],\n",
       "  'Comments': []},\n",
       " {'id': '232822456831564201782863122913381195308',\n",
       "  'text': \"I think I've had some the best meals of my life at minnow.\",\n",
       "  'label': [[8, 47, 'OVERALL']],\n",
       "  'Comments': []}]"
      ]
     },
     "execution_count": 7,
     "metadata": {},
     "output_type": "execute_result"
    }
   ],
   "source": [
    "holdout"
   ]
  },
  {
   "cell_type": "code",
   "execution_count": 8,
   "id": "f1945401-adcc-46ca-8ab6-95f799a740fe",
   "metadata": {},
   "outputs": [],
   "source": [
    "holdout_texts = set([e['text'] for e in holdout])\n",
    "llm_output_exc = [e for e in llm_output if e['text'] not in holdout_texts]\n",
    "assert len(llm_output_exc) == (len(llm_output) - len(holdout))"
   ]
  },
  {
   "cell_type": "markdown",
   "id": "e598382f-d28f-48b0-af88-2f189af58976",
   "metadata": {},
   "source": [
    "# Convert to IOB2"
   ]
  },
  {
   "cell_type": "code",
   "execution_count": 9,
   "id": "f61bab75-2b7d-4e02-a5c9-6eaa6c54d6b1",
   "metadata": {},
   "outputs": [],
   "source": [
    "from src.convert_ner_format.spacy_to_iob2 import convert_from_spacy_to_iob2"
   ]
  },
  {
   "cell_type": "code",
   "execution_count": 10,
   "id": "9048a129-f043-4bb0-9915-48eac8d4b40e",
   "metadata": {
    "scrolled": true
   },
   "outputs": [
    {
     "name": "stderr",
     "output_type": "stream",
     "text": [
      "\u001b[32m2024-07-09 10:58:17.226\u001b[0m | \u001b[1mINFO    \u001b[0m | \u001b[36msrc.utils.time.timer\u001b[0m:\u001b[36mtimed\u001b[0m:\u001b[36m23\u001b[0m - \u001b[1mconvert_from_spacy_to_iob2 runtime: 0.043s\u001b[0m\n",
      "\u001b[32m2024-07-09 10:58:23.701\u001b[0m | \u001b[1mINFO    \u001b[0m | \u001b[36msrc.utils.time.timer\u001b[0m:\u001b[36mtimed\u001b[0m:\u001b[36m23\u001b[0m - \u001b[1mconvert_from_spacy_to_iob2 runtime: 6.474s\u001b[0m\n"
     ]
    }
   ],
   "source": [
    "holdout_iob2 = convert_from_spacy_to_iob2(holdout)\n",
    "llm_output_exc_iob2 = convert_from_spacy_to_iob2(llm_output_exc)"
   ]
  },
  {
   "cell_type": "code",
   "execution_count": 11,
   "id": "5bbd48ef-a11b-4c6a-9b6b-074333e53498",
   "metadata": {},
   "outputs": [
    {
     "name": "stderr",
     "output_type": "stream",
     "text": [
      "\u001b[32m2024-07-09 10:58:23.716\u001b[0m | \u001b[1mINFO    \u001b[0m | \u001b[36m__main__\u001b[0m:\u001b[36m<module>\u001b[0m:\u001b[36m1\u001b[0m - \u001b[1mlen(holdout_iob2)=10, len(llm_output_exc_iob2)=1988\u001b[0m\n"
     ]
    }
   ],
   "source": [
    "logger.info(f\"{len(holdout_iob2)=}, {len(llm_output_exc_iob2)=}\")"
   ]
  },
  {
   "cell_type": "markdown",
   "id": "097d4c00-3ac1-4efe-9209-35108628cdc1",
   "metadata": {
    "scrolled": true
   },
   "source": [
    "# Add metadata"
   ]
  },
  {
   "cell_type": "code",
   "execution_count": 12,
   "id": "74f13a1d-c312-464f-81ba-8bae65bf86b9",
   "metadata": {},
   "outputs": [],
   "source": [
    "from src.convert_ner_format.spacy_to_iob2 import add_metadata"
   ]
  },
  {
   "cell_type": "code",
   "execution_count": 13,
   "id": "fef228e4-b567-4dc3-aac3-c8b5d36b9636",
   "metadata": {},
   "outputs": [],
   "source": [
    "holdout_iob2_conll = add_metadata(holdout_iob2, holdout)\n",
    "llm_output_exc_iob2_conll = add_metadata(llm_output_exc_iob2, llm_output_exc)"
   ]
  },
  {
   "cell_type": "markdown",
   "id": "4b449800-416a-4ec2-8ce8-e7fde1a61e0c",
   "metadata": {},
   "source": [
    "# Convert Tags to Int"
   ]
  },
  {
   "cell_type": "code",
   "execution_count": 14,
   "id": "9eebfc64-7a65-47c2-8cfe-2582b2e68dfd",
   "metadata": {},
   "outputs": [],
   "source": [
    "from src.convert_ner_format.spacy_to_iob2 import build_ner_tags_label\n",
    "from pprint import pprint"
   ]
  },
  {
   "cell_type": "code",
   "execution_count": 15,
   "id": "4514eee0-75a2-43c5-b241-80728c1dd2f8",
   "metadata": {
    "scrolled": true
   },
   "outputs": [
    {
     "name": "stdout",
     "output_type": "stream",
     "text": [
      "ner_tags_label_mapper:\n",
      "{0: 'O',\n",
      " 1: 'B-AMBIENCE',\n",
      " 2: 'I-AMBIENCE',\n",
      " 3: 'B-BEVERAGE',\n",
      " 4: 'I-BEVERAGE',\n",
      " 5: 'B-FOOD',\n",
      " 6: 'I-FOOD',\n",
      " 7: 'B-LOCATION',\n",
      " 8: 'I-LOCATION',\n",
      " 9: 'B-OVERALL',\n",
      " 10: 'I-OVERALL',\n",
      " 11: 'B-PRICE',\n",
      " 12: 'I-PRICE',\n",
      " 13: 'B-SERVICE',\n",
      " 14: 'I-SERVICE',\n",
      " 15: 'B-STAFF',\n",
      " 16: 'I-STAFF',\n",
      " 17: 'B-VALUE',\n",
      " 18: 'I-VALUE',\n",
      " 19: 'B-VIEW',\n",
      " 20: 'I-VIEW'}\n",
      "ner_tags_label_reverse_mapper:\n",
      "{'B-AMBIENCE': 1,\n",
      " 'B-BEVERAGE': 3,\n",
      " 'B-FOOD': 5,\n",
      " 'B-LOCATION': 7,\n",
      " 'B-OVERALL': 9,\n",
      " 'B-PRICE': 11,\n",
      " 'B-SERVICE': 13,\n",
      " 'B-STAFF': 15,\n",
      " 'B-VALUE': 17,\n",
      " 'B-VIEW': 19,\n",
      " 'I-AMBIENCE': 2,\n",
      " 'I-BEVERAGE': 4,\n",
      " 'I-FOOD': 6,\n",
      " 'I-LOCATION': 8,\n",
      " 'I-OVERALL': 10,\n",
      " 'I-PRICE': 12,\n",
      " 'I-SERVICE': 14,\n",
      " 'I-STAFF': 16,\n",
      " 'I-VALUE': 18,\n",
      " 'I-VIEW': 20,\n",
      " 'O': 0}\n"
     ]
    }
   ],
   "source": [
    "ner_tags_label = build_ner_tags_label(llm_output_exc_iob2_conll)\n",
    "ner_tags_label_mapper = {i: v for i, v in enumerate(ner_tags_label)}\n",
    "ner_tags_label_reverse_mapper = {v: i for i, v in enumerate(ner_tags_label)}\n",
    "\n",
    "print(\"ner_tags_label_mapper:\")\n",
    "pprint(ner_tags_label_mapper)\n",
    "\n",
    "print(\"ner_tags_label_reverse_mapper:\")\n",
    "pprint(ner_tags_label_reverse_mapper)"
   ]
  },
  {
   "cell_type": "code",
   "execution_count": null,
   "id": "85477320-08fe-4181-b3f2-32445ecc61db",
   "metadata": {},
   "outputs": [],
   "source": []
  },
  {
   "cell_type": "code",
   "execution_count": null,
   "id": "d7d57ba9-4404-4987-abdf-c434b5558b4c",
   "metadata": {},
   "outputs": [],
   "source": []
  }
 ],
 "metadata": {
  "kernelspec": {
   "display_name": "Python 3 (ipykernel)",
   "language": "python",
   "name": "python3"
  },
  "language_info": {
   "codemirror_mode": {
    "name": "ipython",
    "version": 3
   },
   "file_extension": ".py",
   "mimetype": "text/x-python",
   "name": "python",
   "nbconvert_exporter": "python",
   "pygments_lexer": "ipython3",
   "version": "3.9.19"
  }
 },
 "nbformat": 4,
 "nbformat_minor": 5
}
