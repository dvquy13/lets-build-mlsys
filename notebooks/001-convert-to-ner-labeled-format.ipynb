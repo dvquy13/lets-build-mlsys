{
 "cells": [
  {
   "cell_type": "markdown",
   "id": "45c04707-23ca-42e8-b259-0a768ce4b194",
   "metadata": {},
   "source": [
    "# Set up"
   ]
  },
  {
   "cell_type": "code",
   "execution_count": 1,
   "id": "f82da442-f482-4bb0-a3d4-483ac5479b6c",
   "metadata": {},
   "outputs": [],
   "source": [
    "import json"
   ]
  },
  {
   "cell_type": "markdown",
   "id": "c01a0164-8edc-492c-88a3-eab23755f50c",
   "metadata": {},
   "source": [
    "# Load data"
   ]
  },
  {
   "cell_type": "code",
   "execution_count": 2,
   "id": "a9962487-8b6e-41f5-9e72-cfd8f47858c9",
   "metadata": {},
   "outputs": [],
   "source": [
    "sample_persist_path = '../data/sampled_results_openai.json'\n",
    "with open(sample_persist_path, 'r') as f:\n",
    "    raw = json.load(f)"
   ]
  },
  {
   "cell_type": "code",
   "execution_count": 3,
   "id": "10008fe8-eeb5-43f2-b7bd-41d42a7da27e",
   "metadata": {
    "scrolled": true
   },
   "outputs": [
    {
     "data": {
      "text/plain": [
       "[{'text': 'The place was nice and calm.',\n",
       "  'entities': [['place was nice and calm', 'AMBIENCE']]},\n",
       " {'text': 'Their sake martini is wonderful.',\n",
       "  'entities': [['sake martini is wonderful', 'FOOD']]},\n",
       " {'text': 'Great for groups, great for a date, great for early brunch or a nightcap.',\n",
       "  'entities': []},\n",
       " {'text': 'i recommend the thai popcorn :)',\n",
       "  'entities': [['recommend the thai popcorn', 'FOOD']]},\n",
       " {'text': 'Most of the servers are very attentive, friendly and quite attractive.',\n",
       "  'entities': [['servers are very attentive, friendly and quite attractive',\n",
       "    'SERVICE']]},\n",
       " {'text': 'My boyfriend had the New England Chowder it was good but I think the award should go to the Lobster Bisque.',\n",
       "  'entities': [['New England Chowder it was good', 'FOOD'],\n",
       "   ['award should go to the Lobster Bisque', 'FOOD']]},\n",
       " {'text': 'They are not helpful in the least and will give you the grand run around so by the time the event date rolls around you will not only regret chosing this place, but also become hostile!',\n",
       "  'entities': [['not helpful in the least', 'SERVICE']]},\n",
       " {'text': 'If you love seafood, you would love this place!',\n",
       "  'entities': [['love seafood', 'FOOD']]},\n",
       " {'text': 'Nice ambiance, nice little bar, good bartender, Francois, and good service.',\n",
       "  'entities': [['Nice ambiance', 'AMBIENCE'],\n",
       "   ['nice little bar', 'AMBIENCE'],\n",
       "   ['good bartender, Francois', 'SERVICE'],\n",
       "   ['good service', 'SERVICE']]},\n",
       " {'text': 'The food was bland oily.',\n",
       "  'entities': [['food was bland oily', 'FOOD']]},\n",
       " {'text': 'Over the years, it has always provided a pleasurable dining experience with quality food and wine.',\n",
       "  'entities': [['pleasurable dining experience', 'AMBIENCE'],\n",
       "   ['quality food and wine', 'FOOD']]},\n",
       " {'text': \"people are rude bit again it's new york!\",\n",
       "  'entities': [['people are rude', 'SERVICE']]},\n",
       " {'text': 'Great friendly service, Fast seating, Fast Delivery, Excellent sushi.',\n",
       "  'entities': [['Great friendly service', 'SERVICE'],\n",
       "   ['Fast seating', 'SERVICE'],\n",
       "   ['Fast Delivery', 'SERVICE'],\n",
       "   ['Excellent sushi', 'FOOD']]},\n",
       " {'text': 'The only friendly staff member was the guy at the bar.',\n",
       "  'entities': [['friendly staff member', 'SERVICE']]},\n",
       " {'text': \"Lahore is a great place to duck into late-night when you need some really tasty food on the cheap -- you'll likely have trouble finishing the amount of food you get for FOUR DOLLARS.\",\n",
       "  'entities': [['great place to duck into late-night', 'LOCATION'],\n",
       "   ['really tasty food on the cheap', 'FOOD'],\n",
       "   ['amount of food you get for FOUR DOLLARS', 'PRICE']]},\n",
       " {'text': 'The highlight of the night was the mayonaisse for my side of fries I received from one of the food runners, which is not good considering the bill was nearly $100.',\n",
       "  'entities': [['mayonaisse for my side of fries', 'FOOD'],\n",
       "   ['bill was nearly $100', 'PRICE']]},\n",
       " {'text': 'I particularly love their yellowfun tuna and their mussel selection.',\n",
       "  'entities': [['yellowfun tuna', 'FOOD'], ['mussel selection', 'FOOD']]},\n",
       " {'text': 'The signs, the specials menus, food, and even all the waitstaff are ALL TOTALLY Japanese.',\n",
       "  'entities': [['signs', 'AMBIENCE'],\n",
       "   ['specials menus', 'FOOD'],\n",
       "   ['food', 'FOOD'],\n",
       "   ['waitstaff are ALL TOTALLY Japanese', 'SERVICE']]},\n",
       " {'text': 'We arrived on time for our reservation and seated promptly.',\n",
       "  'entities': [['arrived on time for our reservation', 'SERVICE'],\n",
       "   ['seated promptly', 'SERVICE']]},\n",
       " {'text': \"Last time I went here, the waitress didn't come back after taking our order.\",\n",
       "  'entities': [[\"waitress didn't come back after taking our order\",\n",
       "    'SERVICE']]},\n",
       " {'text': 'Warm, comfortable surroundings, nice appointments (witness the etched glass and brickwork separating the dining rooms).',\n",
       "  'entities': [['Warm, comfortable surroundings', 'AMBIENCE'],\n",
       "   ['nice appointments', 'AMBIENCE']]},\n",
       " {'text': \"The pesto pizza was excellent, thin-crust pizza with a nice amount of spicy Italian cheese that I'd never heard of before.\",\n",
       "  'entities': [['pesto pizza was excellent', 'FOOD'],\n",
       "   ['thin-crust pizza with a nice amount of spicy Italian cheese', 'FOOD']]},\n",
       " {'text': 'The wine is always good, the tapas are always yummy, especially with the warm pita bread.',\n",
       "  'entities': [['wine is always good', 'FOOD'],\n",
       "   ['tapas are always yummy', 'FOOD'],\n",
       "   ['warm pita bread', 'FOOD']]},\n",
       " {'text': 'Pastrami or corned beef are juicy and piled high (ask for extra rye bread).',\n",
       "  'entities': [['Pastrami or corned beef are juicy and piled high', 'FOOD']]},\n",
       " {'text': \"Seriously, this is the best all you can eat in town- As everyone says, the Spicy Tuna hand rolls are the best- have 4 of these, and you've broken even.\",\n",
       "  'entities': [['best all you can eat in town', 'FOOD'],\n",
       "   ['Spicy Tuna hand rolls are the best', 'FOOD']]},\n",
       " {'text': 'You have to increase the service a lot.',\n",
       "  'entities': [['increase the service a lot', 'SERVICE']]},\n",
       " {'text': 'The Singapore Mai Fun had NO curry flavor whatsoever.',\n",
       "  'entities': [['Singapore Mai Fun had NO curry flavor', 'FOOD']]},\n",
       " {'text': 'This is a great Thai restaurant with a very friendly staff.',\n",
       "  'entities': [['great Thai restaurant', 'FOOD'],\n",
       "   ['very friendly staff', 'SERVICE']]},\n",
       " {'text': 'The best part of the experience was knowing that the manager (a bubbly, friendly young woman with a great smile) truly cared about how we were doing.',\n",
       "  'entities': [['manager truly cared about how we were doing', 'SERVICE']]},\n",
       " {'text': 'LOVE the atmosphere - felt like I was in Paris.',\n",
       "  'entities': [['LOVE the atmosphere', 'AMBIENCE']]}]"
      ]
     },
     "execution_count": 3,
     "metadata": {},
     "output_type": "execute_result"
    }
   ],
   "source": [
    "raw"
   ]
  },
  {
   "cell_type": "markdown",
   "id": "e8ee6fae-097f-4b75-8d00-d6dc308fdc5a",
   "metadata": {},
   "source": [
    "# Convert to SpaCy JSON format"
   ]
  },
  {
   "cell_type": "code",
   "execution_count": 4,
   "id": "b189af52-cbb3-4af6-95fd-5ee6aa252e22",
   "metadata": {},
   "outputs": [
    {
     "name": "stdout",
     "output_type": "stream",
     "text": [
      "[{'id': '339593553392192228390882582566160737164', 'text': 'The place was nice and calm.', 'label': [[4, 27, 'AMBIENCE']], 'Comments': []}, {'id': '114101779017082109603328579450586119271', 'text': 'Their sake martini is wonderful.', 'label': [[6, 31, 'FOOD']], 'Comments': []}]\n"
     ]
    }
   ],
   "source": [
    "import hashlib\n",
    "\n",
    "def deterministic_hash(text):\n",
    "    return int(hashlib.md5(text.encode()).hexdigest(), 16)\n",
    "\n",
    "def convert_to_spacy_ner_format(data):\n",
    "    spacy_data = []\n",
    "    for item in data:\n",
    "        text = item['text']\n",
    "        entities = item['entities']\n",
    "        labels = []\n",
    "        for entity in entities:\n",
    "            entity_text, entity_label = entity\n",
    "            start_idx = text.find(entity_text)\n",
    "            end_idx = start_idx + len(entity_text)\n",
    "            if start_idx != -1:\n",
    "                labels.append([start_idx, end_idx, entity_label])\n",
    "        spacy_item = {\n",
    "            \"id\": str(deterministic_hash(text)),\n",
    "            \"text\": text,\n",
    "            \"label\": labels,\n",
    "            \"Comments\": []\n",
    "        }\n",
    "        spacy_data.append(spacy_item)\n",
    "    return spacy_data\n",
    "\n",
    "# Example input\n",
    "data = [\n",
    "    {'text': 'The place was nice and calm.', 'entities': [['place was nice and calm', 'AMBIENCE']]},\n",
    "    {'text': 'Their sake martini is wonderful.', 'entities': [['sake martini is wonderful', 'FOOD']]}\n",
    "]\n",
    "\n",
    "# Convert data\n",
    "spacy_data = convert_to_spacy_ner_format(data)\n",
    "\n",
    "# Print the converted data\n",
    "print(spacy_data)"
   ]
  },
  {
   "cell_type": "code",
   "execution_count": 5,
   "id": "3e9f86e4-4e47-4cff-bef4-943a92c3d007",
   "metadata": {},
   "outputs": [],
   "source": [
    "converted = convert_to_spacy_ner_format(raw)"
   ]
  },
  {
   "cell_type": "code",
   "execution_count": 6,
   "id": "3caf429a-78d7-45f6-aacb-ba27f092e8b5",
   "metadata": {
    "scrolled": true
   },
   "outputs": [
    {
     "data": {
      "text/plain": [
       "[{'id': '339593553392192228390882582566160737164',\n",
       "  'text': 'The place was nice and calm.',\n",
       "  'label': [[4, 27, 'AMBIENCE']],\n",
       "  'Comments': []},\n",
       " {'id': '114101779017082109603328579450586119271',\n",
       "  'text': 'Their sake martini is wonderful.',\n",
       "  'label': [[6, 31, 'FOOD']],\n",
       "  'Comments': []},\n",
       " {'id': '92175068642289365519888727785080877606',\n",
       "  'text': 'Great for groups, great for a date, great for early brunch or a nightcap.',\n",
       "  'label': [],\n",
       "  'Comments': []},\n",
       " {'id': '275534048062756000231583449127142411586',\n",
       "  'text': 'i recommend the thai popcorn :)',\n",
       "  'label': [[2, 28, 'FOOD']],\n",
       "  'Comments': []},\n",
       " {'id': '180532750388022609210582093855641757291',\n",
       "  'text': 'Most of the servers are very attentive, friendly and quite attractive.',\n",
       "  'label': [[12, 69, 'SERVICE']],\n",
       "  'Comments': []},\n",
       " {'id': '29354025005625774664623066330713768130',\n",
       "  'text': 'My boyfriend had the New England Chowder it was good but I think the award should go to the Lobster Bisque.',\n",
       "  'label': [[21, 52, 'FOOD'], [69, 106, 'FOOD']],\n",
       "  'Comments': []},\n",
       " {'id': '313661779363892370322187292420979126622',\n",
       "  'text': 'They are not helpful in the least and will give you the grand run around so by the time the event date rolls around you will not only regret chosing this place, but also become hostile!',\n",
       "  'label': [[9, 33, 'SERVICE']],\n",
       "  'Comments': []},\n",
       " {'id': '289378403349708526021436676529439837073',\n",
       "  'text': 'If you love seafood, you would love this place!',\n",
       "  'label': [[7, 19, 'FOOD']],\n",
       "  'Comments': []},\n",
       " {'id': '118518328056723667387593275392796295760',\n",
       "  'text': 'Nice ambiance, nice little bar, good bartender, Francois, and good service.',\n",
       "  'label': [[0, 13, 'AMBIENCE'],\n",
       "   [15, 30, 'AMBIENCE'],\n",
       "   [32, 56, 'SERVICE'],\n",
       "   [62, 74, 'SERVICE']],\n",
       "  'Comments': []},\n",
       " {'id': '206345210449947877892109819724726215894',\n",
       "  'text': 'The food was bland oily.',\n",
       "  'label': [[4, 23, 'FOOD']],\n",
       "  'Comments': []},\n",
       " {'id': '55503083561920290517118489804012211355',\n",
       "  'text': 'Over the years, it has always provided a pleasurable dining experience with quality food and wine.',\n",
       "  'label': [[41, 70, 'AMBIENCE'], [76, 97, 'FOOD']],\n",
       "  'Comments': []},\n",
       " {'id': '124106595967862310606825313406345118017',\n",
       "  'text': \"people are rude bit again it's new york!\",\n",
       "  'label': [[0, 15, 'SERVICE']],\n",
       "  'Comments': []},\n",
       " {'id': '239085274501657870932662255358267866034',\n",
       "  'text': 'Great friendly service, Fast seating, Fast Delivery, Excellent sushi.',\n",
       "  'label': [[0, 22, 'SERVICE'],\n",
       "   [24, 36, 'SERVICE'],\n",
       "   [38, 51, 'SERVICE'],\n",
       "   [53, 68, 'FOOD']],\n",
       "  'Comments': []},\n",
       " {'id': '235675989327663733150567538052364874813',\n",
       "  'text': 'The only friendly staff member was the guy at the bar.',\n",
       "  'label': [[9, 30, 'SERVICE']],\n",
       "  'Comments': []},\n",
       " {'id': '206472659432103704132901887623795413669',\n",
       "  'text': \"Lahore is a great place to duck into late-night when you need some really tasty food on the cheap -- you'll likely have trouble finishing the amount of food you get for FOUR DOLLARS.\",\n",
       "  'label': [[12, 47, 'LOCATION'], [67, 97, 'FOOD'], [142, 181, 'PRICE']],\n",
       "  'Comments': []},\n",
       " {'id': '53459514664252498451869218578793776401',\n",
       "  'text': 'The highlight of the night was the mayonaisse for my side of fries I received from one of the food runners, which is not good considering the bill was nearly $100.',\n",
       "  'label': [[35, 66, 'FOOD'], [142, 162, 'PRICE']],\n",
       "  'Comments': []},\n",
       " {'id': '212304181018116656278231174770870768771',\n",
       "  'text': 'I particularly love their yellowfun tuna and their mussel selection.',\n",
       "  'label': [[26, 40, 'FOOD'], [51, 67, 'FOOD']],\n",
       "  'Comments': []},\n",
       " {'id': '102776973799768765751470546904285498898',\n",
       "  'text': 'The signs, the specials menus, food, and even all the waitstaff are ALL TOTALLY Japanese.',\n",
       "  'label': [[4, 9, 'AMBIENCE'],\n",
       "   [15, 29, 'FOOD'],\n",
       "   [31, 35, 'FOOD'],\n",
       "   [54, 88, 'SERVICE']],\n",
       "  'Comments': []},\n",
       " {'id': '119131345990002210914694828989242357561',\n",
       "  'text': 'We arrived on time for our reservation and seated promptly.',\n",
       "  'label': [[3, 38, 'SERVICE'], [43, 58, 'SERVICE']],\n",
       "  'Comments': []},\n",
       " {'id': '123376323841496150467233087751998876772',\n",
       "  'text': \"Last time I went here, the waitress didn't come back after taking our order.\",\n",
       "  'label': [[27, 75, 'SERVICE']],\n",
       "  'Comments': []},\n",
       " {'id': '214491638660153337463413408109371823671',\n",
       "  'text': 'Warm, comfortable surroundings, nice appointments (witness the etched glass and brickwork separating the dining rooms).',\n",
       "  'label': [[0, 30, 'AMBIENCE'], [32, 49, 'AMBIENCE']],\n",
       "  'Comments': []},\n",
       " {'id': '154171610898617955163838478655350811651',\n",
       "  'text': \"The pesto pizza was excellent, thin-crust pizza with a nice amount of spicy Italian cheese that I'd never heard of before.\",\n",
       "  'label': [[4, 29, 'FOOD'], [31, 90, 'FOOD']],\n",
       "  'Comments': []},\n",
       " {'id': '47678398977466271290076929159988746427',\n",
       "  'text': 'The wine is always good, the tapas are always yummy, especially with the warm pita bread.',\n",
       "  'label': [[4, 23, 'FOOD'], [29, 51, 'FOOD'], [73, 88, 'FOOD']],\n",
       "  'Comments': []},\n",
       " {'id': '252126218762222549541701311366903886453',\n",
       "  'text': 'Pastrami or corned beef are juicy and piled high (ask for extra rye bread).',\n",
       "  'label': [[0, 48, 'FOOD']],\n",
       "  'Comments': []},\n",
       " {'id': '256666243853097376752660535929506603633',\n",
       "  'text': \"Seriously, this is the best all you can eat in town- As everyone says, the Spicy Tuna hand rolls are the best- have 4 of these, and you've broken even.\",\n",
       "  'label': [[23, 51, 'FOOD'], [75, 109, 'FOOD']],\n",
       "  'Comments': []},\n",
       " {'id': '140087693174824212981682825836640118565',\n",
       "  'text': 'You have to increase the service a lot.',\n",
       "  'label': [[12, 38, 'SERVICE']],\n",
       "  'Comments': []},\n",
       " {'id': '187298667132568270361105531530184507357',\n",
       "  'text': 'The Singapore Mai Fun had NO curry flavor whatsoever.',\n",
       "  'label': [[4, 41, 'FOOD']],\n",
       "  'Comments': []},\n",
       " {'id': '145159149165134867360995596199637385672',\n",
       "  'text': 'This is a great Thai restaurant with a very friendly staff.',\n",
       "  'label': [[10, 31, 'FOOD'], [39, 58, 'SERVICE']],\n",
       "  'Comments': []},\n",
       " {'id': '269716628673107248818839164188929603886',\n",
       "  'text': 'The best part of the experience was knowing that the manager (a bubbly, friendly young woman with a great smile) truly cared about how we were doing.',\n",
       "  'label': [],\n",
       "  'Comments': []},\n",
       " {'id': '84475949554577900270332668006770614727',\n",
       "  'text': 'LOVE the atmosphere - felt like I was in Paris.',\n",
       "  'label': [[0, 19, 'AMBIENCE']],\n",
       "  'Comments': []}]"
      ]
     },
     "execution_count": 6,
     "metadata": {},
     "output_type": "execute_result"
    }
   ],
   "source": [
    "converted"
   ]
  },
  {
   "cell_type": "markdown",
   "id": "ebbd6ef4-6705-45a9-bccb-0f74ac3e5b08",
   "metadata": {},
   "source": [
    "# Parsed"
   ]
  },
  {
   "cell_type": "code",
   "execution_count": 7,
   "id": "7788c0d5-de47-4d00-b453-95604a1b79dc",
   "metadata": {},
   "outputs": [],
   "source": [
    "def save_to_jsonl(data, filename):\n",
    "    with open(filename, 'w') as f:\n",
    "        for item in data:\n",
    "            json_line = json.dumps(item)\n",
    "            f.write(json_line + '\\n')"
   ]
  },
  {
   "cell_type": "code",
   "execution_count": 8,
   "id": "636cb8b8-5f3a-4bc9-9ea2-8f9bebcfbe75",
   "metadata": {},
   "outputs": [],
   "source": [
    "spacy_formatted_persist_path = '../data/sampled_results_openai_spacy_format.jsonl'\n",
    "save_to_jsonl(converted, spacy_formatted_persist_path)"
   ]
  }
 ],
 "metadata": {
  "kernelspec": {
   "display_name": "Python 3 (ipykernel)",
   "language": "python",
   "name": "python3"
  },
  "language_info": {
   "codemirror_mode": {
    "name": "ipython",
    "version": 3
   },
   "file_extension": ".py",
   "mimetype": "text/x-python",
   "name": "python",
   "nbconvert_exporter": "python",
   "pygments_lexer": "ipython3",
   "version": "3.9.19"
  }
 },
 "nbformat": 4,
 "nbformat_minor": 5
}
