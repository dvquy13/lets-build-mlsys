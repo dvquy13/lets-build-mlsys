{
 "cells": [
  {
   "cell_type": "markdown",
   "id": "c220cdd8-a482-4083-a9d4-88688472fec1",
   "metadata": {},
   "source": [
    "# PoC Aspect NER and Sentiment Analysis on Restaurant Reviews data\n",
    "---"
   ]
  },
  {
   "cell_type": "markdown",
   "id": "2e460636-04cf-4ee2-8e32-b585215f1b99",
   "metadata": {},
   "source": [
    "# Set up"
   ]
  },
  {
   "cell_type": "code",
   "execution_count": 1,
   "id": "1d835be7-c376-4faf-80df-d49e12acce93",
   "metadata": {},
   "outputs": [],
   "source": [
    "import os\n",
    "\n",
    "from openai import OpenAI\n",
    "from dotenv import load_dotenv\n",
    "\n",
    "load_dotenv()\n",
    "\n",
    "openai_client = OpenAI(\n",
    "    # This is the default and can be omitted\n",
    "    api_key=os.environ.get(\"OPENAI_API_KEY\"),\n",
    ")"
   ]
  },
  {
   "cell_type": "markdown",
   "id": "e3f36e2a-f463-4751-a3ab-5e6e238c369c",
   "metadata": {},
   "source": [
    "# Test OpenAI API"
   ]
  },
  {
   "cell_type": "code",
   "execution_count": 24,
   "id": "7434ff36-f1c1-40ae-9635-e2d2eac8566f",
   "metadata": {},
   "outputs": [],
   "source": [
    "system_prompt = \"\"\"\n",
    "You are a helpful expert Machine Learning annotator.\n",
    "\"\"\"\n",
    "\n",
    "prompt = \"\"\"\n",
    "Given these text review, your task is to generate structured training data for an NER task.\n",
    "\n",
    "Requirements:\n",
    "- Entities are defined as the phrase or clause that contains a full statement mentioning a reviewed aspect.\n",
    "- List of useful aspects: FOOD, BEVERAGE, AMBIENCE, SERVICE, LOCATION, MUSIC, KITCHEN, PRICE, VIEW, GOOD_FOR\n",
    "- The extracted phrases/clauses should be shortest possible while still containing enough information about ther sentiment regarding the aspect\n",
    "- The extracted phrases/clauses should be a subset of the input text\n",
    "- The extracted phrases/clauses can be overlapping with each other\n",
    "\n",
    "Output should be a list of extracted phrases, clauses with annotated entities.\n",
    "\n",
    "Example 1:\n",
    "Input:\n",
    "[\n",
    "  {{\"text\": \"But the staff was so horrible to us.\"}}\n",
    "]\n",
    "\n",
    "Output:\n",
    "[\n",
    "  {{\n",
    "    \"text\": \"But the staff was so horrible to us.\",\n",
    "    \"entities\": [\n",
    "      [\"staff was so horrible\", \"STAFF\"],\n",
    "      [\"staff was so horrible\", \"SERVICE\"],\n",
    "    ]\n",
    "  }}\n",
    "]\n",
    "\n",
    "Example 2:\n",
    "Input:\n",
    "[\n",
    "  {{\"text\": \"But the staff was so horrible to us.\"}}\n",
    "]\n",
    "\n",
    "Output:\n",
    "[\n",
    "  {{\n",
    "    \"text\": \"The food is uniformly exceptional, with a very capable kitchen which will proudly whip up whatever you feel like eating, whether it's on the menu or not.\",\n",
    "    \"entities\": [\n",
    "      [\"food is uniformly exceptional\", \"FOOD\"],\n",
    "      [\"very capable kitchen\", \"KITCHEN\"],\n",
    "    ]\n",
    "  }}\n",
    "]\n",
    "\n",
    "Example 3:\n",
    "Input:\n",
    "[\n",
    "  {{\"text\": \"I particularly love their yellowfun tuna and their mussel selection.\"}}\n",
    "]\n",
    "\n",
    "Output:\n",
    "[\n",
    "  {{\n",
    "    \"text\": \"I particularly love their yellowfun tuna and their mussel selection.\",\n",
    "    \"entities\": [\n",
    "      [\"love their yellowfun tuna\", \"FOOD\"],\n",
    "      [\"love their yellowfun tuna and their mussel selection\", \"FOOD\"],\n",
    "    ]\n",
    "  }}\n",
    "]\n",
    "\n",
    "\n",
    "\n",
    "Inputs:\n",
    "{input_texts}\n",
    "\"\"\""
   ]
  },
  {
   "cell_type": "code",
   "execution_count": 36,
   "id": "68659afa-9c4e-4e63-8950-c97473bc1ca0",
   "metadata": {},
   "outputs": [],
   "source": [
    "input_texts = [\n",
    "  \"But the staff was so horrible to us.\",\n",
    "  \"The food is uniformly exceptional, with a very capable kitchen which will proudly whip up whatever you feel like eating, whether it's on the menu or not.\",\n",
    "  \"this little place has a cute interior decor and affordable city prices.\"\n",
    "]\n",
    "input_texts_formatted = [{\"text\": text} for text in input_texts]\n",
    "\n",
    "response = openai_client.chat.completions.create(\n",
    "    model=\"gpt-4o\",\n",
    "    messages=[\n",
    "    {\n",
    "      \"role\": \"system\",\n",
    "      \"content\": [\n",
    "        {\n",
    "          \"type\": \"text\",\n",
    "          \"text\": system_prompt\n",
    "        }\n",
    "      ]\n",
    "    },\n",
    "    {\n",
    "      \"role\": \"user\",\n",
    "      \"content\": [\n",
    "        {\n",
    "          \"type\": \"text\",\n",
    "          \"text\": prompt.format(input_texts=str(input_texts_formatted))\n",
    "        }\n",
    "      ]\n",
    "    }\n",
    "    ],\n",
    "    temperature=0,\n",
    "    max_tokens=1024,\n",
    "    top_p=1,\n",
    "    frequency_penalty=0,\n",
    "    presence_penalty=0\n",
    ")"
   ]
  },
  {
   "cell_type": "code",
   "execution_count": 37,
   "id": "ebda433d-4c67-4fbe-963b-75f3d6c54f27",
   "metadata": {},
   "outputs": [
    {
     "name": "stdout",
     "output_type": "stream",
     "text": [
      "```json\n",
      "[\n",
      "  {\n",
      "    \"text\": \"But the staff was so horrible to us.\",\n",
      "    \"entities\": [\n",
      "      [\"staff was so horrible\", \"SERVICE\"]\n",
      "    ]\n",
      "  },\n",
      "  {\n",
      "    \"text\": \"The food is uniformly exceptional, with a very capable kitchen which will proudly whip up whatever you feel like eating, whether it's on the menu or not.\",\n",
      "    \"entities\": [\n",
      "      [\"food is uniformly exceptional\", \"FOOD\"],\n",
      "      [\"very capable kitchen\", \"KITCHEN\"]\n",
      "    ]\n",
      "  },\n",
      "  {\n",
      "    \"text\": \"this little place has a cute interior decor and affordable city prices.\",\n",
      "    \"entities\": [\n",
      "      [\"cute interior decor\", \"AMBIENCE\"],\n",
      "      [\"affordable city prices\", \"PRICE\"]\n",
      "    ]\n",
      "  }\n",
      "]\n",
      "```\n"
     ]
    }
   ],
   "source": [
    "print(response.choices[0].message.content)"
   ]
  },
  {
   "cell_type": "code",
   "execution_count": 35,
   "id": "de108a94-18dd-40fa-86e2-248d4f14aa44",
   "metadata": {},
   "outputs": [],
   "source": [
    "from typing import List\n",
    "\n",
    "def get_openai_annotations(input_texts: List[str]):\n",
    "    input_texts_formatted = [{\"text\": text} for text in input_texts]\n",
    "    response = openai_client.chat.completions.create(\n",
    "        model=\"gpt-4o\",\n",
    "        messages=[\n",
    "        {\n",
    "          \"role\": \"system\",\n",
    "          \"content\": [\n",
    "            {\n",
    "              \"type\": \"text\",\n",
    "              \"text\": system_prompt\n",
    "            }\n",
    "          ]\n",
    "        },\n",
    "        {\n",
    "          \"role\": \"user\",\n",
    "          \"content\": [\n",
    "            {\n",
    "              \"type\": \"text\",\n",
    "              \"text\": prompt.format(input_texts=str(input_texts_formatted))\n",
    "            }\n",
    "          ]\n",
    "        }\n",
    "        ],\n",
    "        temperature=0,\n",
    "        max_tokens=1024,\n",
    "        top_p=1,\n",
    "        frequency_penalty=0,\n",
    "        presence_penalty=0\n",
    "    )\n",
    "    return response.choices[0].message.content"
   ]
  },
  {
   "cell_type": "code",
   "execution_count": 39,
   "id": "5742c3ec-cc5f-463e-9494-232934c25c3c",
   "metadata": {},
   "outputs": [
    {
     "name": "stdout",
     "output_type": "stream",
     "text": [
      "```json\n",
      "[\n",
      "  {\n",
      "    \"text\": \"They did not have mayonnaise, forgot our toast, left out ingredients (ie cheese in an omelet), below hot temperatures and the bacon was so over cooked it crumbled on the plate when you touched it.\",\n",
      "    \"entities\": [\n",
      "      [\"did not have mayonnaise\", \"FOOD\"],\n",
      "      [\"forgot our toast\", \"FOOD\"],\n",
      "      [\"left out ingredients (ie cheese in an omelet)\", \"FOOD\"],\n",
      "      [\"below hot temperatures\", \"FOOD\"],\n",
      "      [\"bacon was so over cooked it crumbled on the plate\", \"FOOD\"]\n",
      "    ]\n",
      "  },\n",
      "  {\n",
      "    \"text\": \"The pizza is the best if you like thin crusted pizza.\",\n",
      "    \"entities\": [\n",
      "      [\"pizza is the best\", \"FOOD\"],\n",
      "      [\"thin crusted pizza\", \"FOOD\"]\n",
      "    ]\n",
      "  },\n",
      "  {\n",
      "    \"text\": \"All the money went into the interior decoration, none of it went to the chefs.\",\n",
      "    \"entities\": [\n",
      "      [\"money went into the interior decoration\", \"AMBIENCE\"],\n",
      "      [\"none of it went to the chefs\", \"KITCHEN\"]\n",
      "    ]\n",
      "  }\n",
      "]\n",
      "```\n"
     ]
    }
   ],
   "source": [
    "input_texts = [\n",
    "    \"They did not have mayonnaise, forgot our toast, left out ingredients (ie cheese in an omelet), below hot temperatures and the bacon was so over cooked it crumbled on the plate when you touched it.\",\n",
    "    \"The pizza is the best if you like thin crusted pizza.\",\n",
    "    \"All the money went into the interior decoration, none of it went to the chefs.\"\n",
    "]\n",
    "\n",
    "result = get_openai_annotations(input_texts)\n",
    "print(result)"
   ]
  },
  {
   "cell_type": "markdown",
   "id": "1215ea9b-06ec-4f6f-9a80-06810eef9ca9",
   "metadata": {},
   "source": [
    "# Load data"
   ]
  },
  {
   "cell_type": "code",
   "execution_count": 40,
   "id": "0d15864d-10e1-47a7-a101-c47148f2f076",
   "metadata": {},
   "outputs": [],
   "source": [
    "import pandas as pd"
   ]
  },
  {
   "cell_type": "code",
   "execution_count": 47,
   "id": "9694bc8a-00da-49b4-ab4c-b5f802ccda5c",
   "metadata": {},
   "outputs": [],
   "source": [
    "splits = {'train': 'data/train-00000-of-00001.parquet', 'test': 'data/test-00000-of-00001.parquet'}\n",
    "train_df = pd.read_parquet(\"hf://datasets/tomaarsen/setfit-absa-semeval-restaurants/\" + splits[\"train\"])"
   ]
  },
  {
   "cell_type": "code",
   "execution_count": 51,
   "id": "2980aaf6-73c6-47a8-a171-9d3e48c178f0",
   "metadata": {},
   "outputs": [
    {
     "data": {
      "text/plain": [
       "2019"
      ]
     },
     "execution_count": 51,
     "metadata": {},
     "output_type": "execute_result"
    }
   ],
   "source": [
    "semeval_texts = train_df['text'].unique()\n",
    "len(semeval_texts)"
   ]
  },
  {
   "cell_type": "code",
   "execution_count": 56,
   "id": "f324ddd5-d16a-424a-94c9-e9edf0f11ae0",
   "metadata": {},
   "outputs": [
    {
     "data": {
      "text/plain": [
       "array(['The place was nice and calm.', 'Their sake martini is wonderful.',\n",
       "       'Great for groups, great for a date, great for early brunch or a nightcap.',\n",
       "       'i recommend the thai popcorn :)',\n",
       "       'Most of the servers are very attentive, friendly and quite attractive.',\n",
       "       'My boyfriend had the New England Chowder it was good but I think the award should go to the Lobster Bisque.',\n",
       "       'They are not helpful in the least and will give you the grand run around so by the time the event date rolls around you will not only regret chosing this place, but also become hostile!',\n",
       "       'If you love seafood, you would love this place!',\n",
       "       'Nice ambiance, nice little bar, good bartender, Francois, and good service.',\n",
       "       'The food was bland oily.',\n",
       "       'Over the years, it has always provided a pleasurable dining experience with quality food and wine.',\n",
       "       \"people are rude bit again it's new york!\",\n",
       "       'Great friendly service, Fast seating, Fast Delivery, Excellent sushi.',\n",
       "       'The only friendly staff member was the guy at the bar.',\n",
       "       \"Lahore is a great place to duck into late-night when you need some really tasty food on the cheap -- you'll likely have trouble finishing the amount of food you get for FOUR DOLLARS.\",\n",
       "       'The highlight of the night was the mayonaisse for my side of fries I received from one of the food runners, which is not good considering the bill was nearly $100.',\n",
       "       'I particularly love their yellowfun tuna and their mussel selection.',\n",
       "       'The signs, the specials menus, food, and even all the waitstaff are ALL TOTALLY Japanese.',\n",
       "       'We arrived on time for our reservation and seated promptly.The',\n",
       "       \"Last time I went here, the waitress didn't come back after taking our order.\",\n",
       "       'Warm, comfortable surroundings, nice appointments (witness the etched glass and brickwork separating the dining rooms).',\n",
       "       \"The pesto pizza was excellent, thin-crust pizza with a nice amount of spicy Italian cheese that I'd never heard of before.\",\n",
       "       'The wine is always good, the tapas are always yummy, especially with the warm pita bread.',\n",
       "       'Pastrami or corned beef are juicy and piled high (ask for extra rye bread).',\n",
       "       \"Seriously, this is the best all you can eat in town- As everyone says, the Spicy Tuna hand rolls are the best- have 4 of these, and you've broken even.\",\n",
       "       'You have to increase the service a lot.',\n",
       "       'The Singapore Mai Fun had NO curry flavor whatsoever.',\n",
       "       'This is a great Thai restaurant with a very friendly staff.',\n",
       "       'The best part of the experience was knowing that the manager (a bubbly, friendly young woman with a great smile) truly cared about how we were doing.',\n",
       "       'LOVE the atmosphere - felt like I was in Paris.'], dtype=object)"
      ]
     },
     "execution_count": 56,
     "metadata": {},
     "output_type": "execute_result"
    }
   ],
   "source": [
    "import numpy as np\n",
    "np.random.seed(42)\n",
    "sampled_texts = np.random.choice(semeval_texts, 30)\n",
    "sampled_texts"
   ]
  },
  {
   "cell_type": "code",
   "execution_count": 67,
   "id": "eb621149-0476-4842-8ed0-71f905080784",
   "metadata": {},
   "outputs": [
    {
     "data": {
      "application/vnd.jupyter.widget-view+json": {
       "model_id": "30b7da9a356f4fd1963d9f10a74085e7",
       "version_major": 2,
       "version_minor": 0
      },
      "text/plain": [
       "  0%|          | 0/3 [00:00<?, ?it/s]"
      ]
     },
     "metadata": {},
     "output_type": "display_data"
    }
   ],
   "source": [
    "import math\n",
    "from tqdm.notebook import tqdm\n",
    "\n",
    "CHUNK_SIZE = 10\n",
    "\n",
    "def chunk_list(lst, k):\n",
    "    \"\"\"\n",
    "    Break a list into chunks of size up to K and turn it into a generator.\n",
    "\n",
    "    :param lst: List to be chunked\n",
    "    :param k: Maximum size of each chunk\n",
    "    :return: Generator yielding chunks of the list\n",
    "    \"\"\"\n",
    "    for i in range(0, len(lst), k):\n",
    "        yield lst[i:i + k]\n",
    "\n",
    "results = []\n",
    "for chunk in tqdm(chunk_list(sampled_texts, CHUNK_SIZE), total=math.ceil(len(sampled_texts) / CHUNK_SIZE)):\n",
    "    result = get_openai_annotations(chunk)\n",
    "    results.append(result)"
   ]
  },
  {
   "cell_type": "code",
   "execution_count": 72,
   "id": "561e3a6c-d4f9-40ab-98fb-099d65a88967",
   "metadata": {},
   "outputs": [
    {
     "name": "stdout",
     "output_type": "stream",
     "text": [
      "```json\n",
      "[\n",
      "  {\n",
      "    \"text\": \"Warm, comfortable surroundings, nice appointments (witness the etched glass and brickwork separating the dining rooms).\",\n",
      "    \"entities\": [\n",
      "      [\"Warm, comfortable surroundings\", \"AMBIENCE\"],\n",
      "      [\"nice appointments\", \"AMBIENCE\"]\n",
      "    ]\n",
      "  },\n",
      "  {\n",
      "    \"text\": \"The pesto pizza was excellent, thin-crust pizza with a nice amount of spicy Italian cheese that I'd never heard of before.\",\n",
      "    \"entities\": [\n",
      "      [\"pesto pizza was excellent\", \"FOOD\"],\n",
      "      [\"thin-crust pizza with a nice amount of spicy Italian cheese\", \"FOOD\"]\n",
      "    ]\n",
      "  },\n",
      "  {\n",
      "    \"text\": \"The wine is always good, the tapas are always yummy, especially with the warm pita bread.\",\n",
      "    \"entities\": [\n",
      "      [\"wine is always good\", \"FOOD\"],\n",
      "      [\"tapas are always yummy\", \"FOOD\"],\n",
      "      [\"warm pita bread\", \"FOOD\"]\n",
      "    ]\n",
      "  },\n",
      "  {\n",
      "    \"text\": \"Pastrami or corned beef are juicy and piled high (ask for extra rye bread).\",\n",
      "    \"entities\": [\n",
      "      [\"Pastrami or corned beef are juicy and piled high\", \"FOOD\"]\n",
      "    ]\n",
      "  },\n",
      "  {\n",
      "    \"text\": \"Seriously, this is the best all you can eat in town- As everyone says, the Spicy Tuna hand rolls are the best- have 4 of these, and you've broken even.\",\n",
      "    \"entities\": [\n",
      "      [\"best all you can eat in town\", \"FOOD\"],\n",
      "      [\"Spicy Tuna hand rolls are the best\", \"FOOD\"]\n",
      "    ]\n",
      "  },\n",
      "  {\n",
      "    \"text\": \"You have to increase the service a lot.\",\n",
      "    \"entities\": [\n",
      "      [\"increase the service a lot\", \"SERVICE\"]\n",
      "    ]\n",
      "  },\n",
      "  {\n",
      "    \"text\": \"The Singapore Mai Fun had NO curry flavor whatsoever.\",\n",
      "    \"entities\": [\n",
      "      [\"Singapore Mai Fun had NO curry flavor\", \"FOOD\"]\n",
      "    ]\n",
      "  },\n",
      "  {\n",
      "    \"text\": \"This is a great Thai restaurant with a very friendly staff.\",\n",
      "    \"entities\": [\n",
      "      [\"great Thai restaurant\", \"FOOD\"],\n",
      "      [\"very friendly staff\", \"SERVICE\"]\n",
      "    ]\n",
      "  },\n",
      "  {\n",
      "    \"text\": \"The best part of the experience was knowing that the manager (a bubbly, friendly young woman with a great smile) truly cared about how we were doing.\",\n",
      "    \"entities\": [\n",
      "      [\"manager truly cared about how we were doing\", \"SERVICE\"]\n",
      "    ]\n",
      "  },\n",
      "  {\n",
      "    \"text\": \"LOVE the atmosphere - felt like I was in Paris.\",\n",
      "    \"entities\": [\n",
      "      [\"LOVE the atmosphere\", \"AMBIENCE\"]\n",
      "    ]\n",
      "  }\n",
      "]\n",
      "```\n"
     ]
    }
   ],
   "source": [
    "print(results[2])"
   ]
  },
  {
   "cell_type": "markdown",
   "id": "7fa35293-b121-4368-a8c8-b22355935dcb",
   "metadata": {},
   "source": [
    "# Persist labeled samples"
   ]
  },
  {
   "cell_type": "code",
   "execution_count": 73,
   "id": "acd71056-cd2e-477a-a183-979442ac8715",
   "metadata": {},
   "outputs": [],
   "source": [
    "import json"
   ]
  },
  {
   "cell_type": "code",
   "execution_count": 81,
   "id": "6682932d-2d30-4d12-9463-99097aff96c2",
   "metadata": {},
   "outputs": [],
   "source": [
    "def strip_result(text: str):\n",
    "    return json.loads(text.strip(\"```json\\n\").strip(\"\\n```\"))"
   ]
  },
  {
   "cell_type": "code",
   "execution_count": 86,
   "id": "dcb8dd85-416d-4ea6-8e5c-6be0283f6e2b",
   "metadata": {},
   "outputs": [
    {
     "data": {
      "text/plain": [
       "[{'text': 'The place was nice and calm.',\n",
       "  'entities': [['place was nice and calm', 'AMBIENCE']]},\n",
       " {'text': 'Their sake martini is wonderful.',\n",
       "  'entities': [['sake martini is wonderful', 'FOOD']]},\n",
       " {'text': 'Great for groups, great for a date, great for early brunch or a nightcap.',\n",
       "  'entities': []},\n",
       " {'text': 'i recommend the thai popcorn :)',\n",
       "  'entities': [['recommend the thai popcorn', 'FOOD']]},\n",
       " {'text': 'Most of the servers are very attentive, friendly and quite attractive.',\n",
       "  'entities': [['servers are very attentive, friendly and quite attractive',\n",
       "    'SERVICE']]},\n",
       " {'text': 'My boyfriend had the New England Chowder it was good but I think the award should go to the Lobster Bisque.',\n",
       "  'entities': [['New England Chowder it was good', 'FOOD'],\n",
       "   ['award should go to the Lobster Bisque', 'FOOD']]},\n",
       " {'text': 'They are not helpful in the least and will give you the grand run around so by the time the event date rolls around you will not only regret chosing this place, but also become hostile!',\n",
       "  'entities': [['not helpful in the least', 'SERVICE']]},\n",
       " {'text': 'If you love seafood, you would love this place!',\n",
       "  'entities': [['love seafood', 'FOOD']]},\n",
       " {'text': 'Nice ambiance, nice little bar, good bartender, Francois, and good service.',\n",
       "  'entities': [['Nice ambiance', 'AMBIENCE'],\n",
       "   ['nice little bar', 'AMBIENCE'],\n",
       "   ['good bartender, Francois', 'SERVICE'],\n",
       "   ['good service', 'SERVICE']]},\n",
       " {'text': 'The food was bland oily.',\n",
       "  'entities': [['food was bland oily', 'FOOD']]},\n",
       " {'text': 'Over the years, it has always provided a pleasurable dining experience with quality food and wine.',\n",
       "  'entities': [['pleasurable dining experience', 'AMBIENCE'],\n",
       "   ['quality food and wine', 'FOOD']]},\n",
       " {'text': \"people are rude bit again it's new york!\",\n",
       "  'entities': [['people are rude', 'SERVICE']]},\n",
       " {'text': 'Great friendly service, Fast seating, Fast Delivery, Excellent sushi.',\n",
       "  'entities': [['Great friendly service', 'SERVICE'],\n",
       "   ['Fast seating', 'SERVICE'],\n",
       "   ['Fast Delivery', 'SERVICE'],\n",
       "   ['Excellent sushi', 'FOOD']]},\n",
       " {'text': 'The only friendly staff member was the guy at the bar.',\n",
       "  'entities': [['friendly staff member', 'SERVICE']]},\n",
       " {'text': \"Lahore is a great place to duck into late-night when you need some really tasty food on the cheap -- you'll likely have trouble finishing the amount of food you get for FOUR DOLLARS.\",\n",
       "  'entities': [['great place to duck into late-night', 'LOCATION'],\n",
       "   ['really tasty food on the cheap', 'FOOD'],\n",
       "   ['amount of food you get for FOUR DOLLARS', 'PRICE']]},\n",
       " {'text': 'The highlight of the night was the mayonaisse for my side of fries I received from one of the food runners, which is not good considering the bill was nearly $100.',\n",
       "  'entities': [['mayonaisse for my side of fries', 'FOOD'],\n",
       "   ['bill was nearly $100', 'PRICE']]},\n",
       " {'text': 'I particularly love their yellowfun tuna and their mussel selection.',\n",
       "  'entities': [['yellowfun tuna', 'FOOD'], ['mussel selection', 'FOOD']]},\n",
       " {'text': 'The signs, the specials menus, food, and even all the waitstaff are ALL TOTALLY Japanese.',\n",
       "  'entities': [['signs', 'AMBIENCE'],\n",
       "   ['specials menus', 'FOOD'],\n",
       "   ['food', 'FOOD'],\n",
       "   ['waitstaff are ALL TOTALLY Japanese', 'SERVICE']]},\n",
       " {'text': 'We arrived on time for our reservation and seated promptly.',\n",
       "  'entities': [['arrived on time for our reservation', 'SERVICE'],\n",
       "   ['seated promptly', 'SERVICE']]},\n",
       " {'text': \"Last time I went here, the waitress didn't come back after taking our order.\",\n",
       "  'entities': [[\"waitress didn't come back after taking our order\",\n",
       "    'SERVICE']]},\n",
       " {'text': 'Warm, comfortable surroundings, nice appointments (witness the etched glass and brickwork separating the dining rooms).',\n",
       "  'entities': [['Warm, comfortable surroundings', 'AMBIENCE'],\n",
       "   ['nice appointments', 'AMBIENCE']]},\n",
       " {'text': \"The pesto pizza was excellent, thin-crust pizza with a nice amount of spicy Italian cheese that I'd never heard of before.\",\n",
       "  'entities': [['pesto pizza was excellent', 'FOOD'],\n",
       "   ['thin-crust pizza with a nice amount of spicy Italian cheese', 'FOOD']]},\n",
       " {'text': 'The wine is always good, the tapas are always yummy, especially with the warm pita bread.',\n",
       "  'entities': [['wine is always good', 'FOOD'],\n",
       "   ['tapas are always yummy', 'FOOD'],\n",
       "   ['warm pita bread', 'FOOD']]},\n",
       " {'text': 'Pastrami or corned beef are juicy and piled high (ask for extra rye bread).',\n",
       "  'entities': [['Pastrami or corned beef are juicy and piled high', 'FOOD']]},\n",
       " {'text': \"Seriously, this is the best all you can eat in town- As everyone says, the Spicy Tuna hand rolls are the best- have 4 of these, and you've broken even.\",\n",
       "  'entities': [['best all you can eat in town', 'FOOD'],\n",
       "   ['Spicy Tuna hand rolls are the best', 'FOOD']]},\n",
       " {'text': 'You have to increase the service a lot.',\n",
       "  'entities': [['increase the service a lot', 'SERVICE']]},\n",
       " {'text': 'The Singapore Mai Fun had NO curry flavor whatsoever.',\n",
       "  'entities': [['Singapore Mai Fun had NO curry flavor', 'FOOD']]},\n",
       " {'text': 'This is a great Thai restaurant with a very friendly staff.',\n",
       "  'entities': [['great Thai restaurant', 'FOOD'],\n",
       "   ['very friendly staff', 'SERVICE']]},\n",
       " {'text': 'The best part of the experience was knowing that the manager (a bubbly, friendly young woman with a great smile) truly cared about how we were doing.',\n",
       "  'entities': [['manager truly cared about how we were doing', 'SERVICE']]},\n",
       " {'text': 'LOVE the atmosphere - felt like I was in Paris.',\n",
       "  'entities': [['LOVE the atmosphere', 'AMBIENCE']]}]"
      ]
     },
     "execution_count": 86,
     "metadata": {},
     "output_type": "execute_result"
    }
   ],
   "source": [
    "results_parsed = []\n",
    "for text in results:\n",
    "    parsed = strip_result(text)\n",
    "    results_parsed.extend(parsed)\n",
    "results_parsed"
   ]
  },
  {
   "cell_type": "code",
   "execution_count": 87,
   "id": "be9cc7f1-ecf5-490f-90fb-5fc8b91c159c",
   "metadata": {},
   "outputs": [],
   "source": [
    "sample_persist_path = '../data/sampled_results_openai.json'\n",
    "with open(sample_persist_path, 'w') as f:\n",
    "    json.dump(results_parsed, f)"
   ]
  },
  {
   "cell_type": "code",
   "execution_count": 88,
   "id": "4536615f-3dfb-477d-8822-d931746f1453",
   "metadata": {},
   "outputs": [
    {
     "data": {
      "text/plain": [
       "[{'text': 'The place was nice and calm.',\n",
       "  'entities': [['place was nice and calm', 'AMBIENCE']]},\n",
       " {'text': 'Their sake martini is wonderful.',\n",
       "  'entities': [['sake martini is wonderful', 'FOOD']]},\n",
       " {'text': 'Great for groups, great for a date, great for early brunch or a nightcap.',\n",
       "  'entities': []},\n",
       " {'text': 'i recommend the thai popcorn :)',\n",
       "  'entities': [['recommend the thai popcorn', 'FOOD']]},\n",
       " {'text': 'Most of the servers are very attentive, friendly and quite attractive.',\n",
       "  'entities': [['servers are very attentive, friendly and quite attractive',\n",
       "    'SERVICE']]},\n",
       " {'text': 'My boyfriend had the New England Chowder it was good but I think the award should go to the Lobster Bisque.',\n",
       "  'entities': [['New England Chowder it was good', 'FOOD'],\n",
       "   ['award should go to the Lobster Bisque', 'FOOD']]},\n",
       " {'text': 'They are not helpful in the least and will give you the grand run around so by the time the event date rolls around you will not only regret chosing this place, but also become hostile!',\n",
       "  'entities': [['not helpful in the least', 'SERVICE']]},\n",
       " {'text': 'If you love seafood, you would love this place!',\n",
       "  'entities': [['love seafood', 'FOOD']]},\n",
       " {'text': 'Nice ambiance, nice little bar, good bartender, Francois, and good service.',\n",
       "  'entities': [['Nice ambiance', 'AMBIENCE'],\n",
       "   ['nice little bar', 'AMBIENCE'],\n",
       "   ['good bartender, Francois', 'SERVICE'],\n",
       "   ['good service', 'SERVICE']]},\n",
       " {'text': 'The food was bland oily.',\n",
       "  'entities': [['food was bland oily', 'FOOD']]},\n",
       " {'text': 'Over the years, it has always provided a pleasurable dining experience with quality food and wine.',\n",
       "  'entities': [['pleasurable dining experience', 'AMBIENCE'],\n",
       "   ['quality food and wine', 'FOOD']]},\n",
       " {'text': \"people are rude bit again it's new york!\",\n",
       "  'entities': [['people are rude', 'SERVICE']]},\n",
       " {'text': 'Great friendly service, Fast seating, Fast Delivery, Excellent sushi.',\n",
       "  'entities': [['Great friendly service', 'SERVICE'],\n",
       "   ['Fast seating', 'SERVICE'],\n",
       "   ['Fast Delivery', 'SERVICE'],\n",
       "   ['Excellent sushi', 'FOOD']]},\n",
       " {'text': 'The only friendly staff member was the guy at the bar.',\n",
       "  'entities': [['friendly staff member', 'SERVICE']]},\n",
       " {'text': \"Lahore is a great place to duck into late-night when you need some really tasty food on the cheap -- you'll likely have trouble finishing the amount of food you get for FOUR DOLLARS.\",\n",
       "  'entities': [['great place to duck into late-night', 'LOCATION'],\n",
       "   ['really tasty food on the cheap', 'FOOD'],\n",
       "   ['amount of food you get for FOUR DOLLARS', 'PRICE']]},\n",
       " {'text': 'The highlight of the night was the mayonaisse for my side of fries I received from one of the food runners, which is not good considering the bill was nearly $100.',\n",
       "  'entities': [['mayonaisse for my side of fries', 'FOOD'],\n",
       "   ['bill was nearly $100', 'PRICE']]},\n",
       " {'text': 'I particularly love their yellowfun tuna and their mussel selection.',\n",
       "  'entities': [['yellowfun tuna', 'FOOD'], ['mussel selection', 'FOOD']]},\n",
       " {'text': 'The signs, the specials menus, food, and even all the waitstaff are ALL TOTALLY Japanese.',\n",
       "  'entities': [['signs', 'AMBIENCE'],\n",
       "   ['specials menus', 'FOOD'],\n",
       "   ['food', 'FOOD'],\n",
       "   ['waitstaff are ALL TOTALLY Japanese', 'SERVICE']]},\n",
       " {'text': 'We arrived on time for our reservation and seated promptly.',\n",
       "  'entities': [['arrived on time for our reservation', 'SERVICE'],\n",
       "   ['seated promptly', 'SERVICE']]},\n",
       " {'text': \"Last time I went here, the waitress didn't come back after taking our order.\",\n",
       "  'entities': [[\"waitress didn't come back after taking our order\",\n",
       "    'SERVICE']]},\n",
       " {'text': 'Warm, comfortable surroundings, nice appointments (witness the etched glass and brickwork separating the dining rooms).',\n",
       "  'entities': [['Warm, comfortable surroundings', 'AMBIENCE'],\n",
       "   ['nice appointments', 'AMBIENCE']]},\n",
       " {'text': \"The pesto pizza was excellent, thin-crust pizza with a nice amount of spicy Italian cheese that I'd never heard of before.\",\n",
       "  'entities': [['pesto pizza was excellent', 'FOOD'],\n",
       "   ['thin-crust pizza with a nice amount of spicy Italian cheese', 'FOOD']]},\n",
       " {'text': 'The wine is always good, the tapas are always yummy, especially with the warm pita bread.',\n",
       "  'entities': [['wine is always good', 'FOOD'],\n",
       "   ['tapas are always yummy', 'FOOD'],\n",
       "   ['warm pita bread', 'FOOD']]},\n",
       " {'text': 'Pastrami or corned beef are juicy and piled high (ask for extra rye bread).',\n",
       "  'entities': [['Pastrami or corned beef are juicy and piled high', 'FOOD']]},\n",
       " {'text': \"Seriously, this is the best all you can eat in town- As everyone says, the Spicy Tuna hand rolls are the best- have 4 of these, and you've broken even.\",\n",
       "  'entities': [['best all you can eat in town', 'FOOD'],\n",
       "   ['Spicy Tuna hand rolls are the best', 'FOOD']]},\n",
       " {'text': 'You have to increase the service a lot.',\n",
       "  'entities': [['increase the service a lot', 'SERVICE']]},\n",
       " {'text': 'The Singapore Mai Fun had NO curry flavor whatsoever.',\n",
       "  'entities': [['Singapore Mai Fun had NO curry flavor', 'FOOD']]},\n",
       " {'text': 'This is a great Thai restaurant with a very friendly staff.',\n",
       "  'entities': [['great Thai restaurant', 'FOOD'],\n",
       "   ['very friendly staff', 'SERVICE']]},\n",
       " {'text': 'The best part of the experience was knowing that the manager (a bubbly, friendly young woman with a great smile) truly cared about how we were doing.',\n",
       "  'entities': [['manager truly cared about how we were doing', 'SERVICE']]},\n",
       " {'text': 'LOVE the atmosphere - felt like I was in Paris.',\n",
       "  'entities': [['LOVE the atmosphere', 'AMBIENCE']]}]"
      ]
     },
     "execution_count": 88,
     "metadata": {},
     "output_type": "execute_result"
    }
   ],
   "source": [
    "results_parsed"
   ]
  },
  {
   "cell_type": "code",
   "execution_count": 92,
   "id": "1d6d1585-b378-4822-a525-60952124919b",
   "metadata": {},
   "outputs": [],
   "source": [
    "with open(sample_persist_path, 'r') as f:\n",
    "    tmp = json.load(f)"
   ]
  },
  {
   "cell_type": "code",
   "execution_count": null,
   "id": "8b8f0883-9357-4064-985d-328466b811e6",
   "metadata": {},
   "outputs": [],
   "source": []
  }
 ],
 "metadata": {
  "kernelspec": {
   "display_name": "Python 3 (ipykernel)",
   "language": "python",
   "name": "python3"
  },
  "language_info": {
   "codemirror_mode": {
    "name": "ipython",
    "version": 3
   },
   "file_extension": ".py",
   "mimetype": "text/x-python",
   "name": "python",
   "nbconvert_exporter": "python",
   "pygments_lexer": "ipython3",
   "version": "3.9.19"
  }
 },
 "nbformat": 4,
 "nbformat_minor": 5
}
