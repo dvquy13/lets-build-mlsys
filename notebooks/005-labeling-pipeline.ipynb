{
 "cells": [
  {
   "cell_type": "markdown",
   "id": "a72d7177-73e2-4be0-97e1-bfccdba442fc",
   "metadata": {},
   "source": [
    "# Set up"
   ]
  },
  {
   "cell_type": "code",
   "execution_count": 1,
   "id": "7aa7ffdd-d0dc-4b63-8641-8bfb4d42061b",
   "metadata": {},
   "outputs": [],
   "source": [
    "%load_ext autoreload\n",
    "%autoreload 2"
   ]
  },
  {
   "cell_type": "code",
   "execution_count": 2,
   "id": "39f2b533-27f0-4412-b7be-7625bc5140e5",
   "metadata": {},
   "outputs": [],
   "source": [
    "import sys\n",
    "sys.path.insert(0, '..')"
   ]
  },
  {
   "cell_type": "markdown",
   "id": "8affb80d-de3b-4b91-ad5c-3b40c80d254a",
   "metadata": {},
   "source": [
    "# Load data"
   ]
  },
  {
   "cell_type": "code",
   "execution_count": 3,
   "id": "e101a64b-93d0-47fb-9d66-dddac33fd4cf",
   "metadata": {},
   "outputs": [],
   "source": [
    "import pandas as pd"
   ]
  },
  {
   "cell_type": "code",
   "execution_count": 4,
   "id": "b4984794-486a-4863-96bd-ea14048dbbfc",
   "metadata": {},
   "outputs": [],
   "source": [
    "splits = {'train': 'data/train-00000-of-00001.parquet', 'test': 'data/test-00000-of-00001.parquet'}\n",
    "train_df = pd.read_parquet(\"hf://datasets/tomaarsen/setfit-absa-semeval-restaurants/\" + splits[\"train\"])"
   ]
  },
  {
   "cell_type": "code",
   "execution_count": 5,
   "id": "b40c533a-3049-4889-80fe-e434cc5ac34e",
   "metadata": {},
   "outputs": [
    {
     "data": {
      "text/plain": [
       "2019"
      ]
     },
     "execution_count": 5,
     "metadata": {},
     "output_type": "execute_result"
    }
   ],
   "source": [
    "semeval_texts = train_df['text'].unique()\n",
    "len(semeval_texts)"
   ]
  },
  {
   "cell_type": "code",
   "execution_count": 6,
   "id": "992629fc-7a4e-4c25-a0c3-555b4d286aa0",
   "metadata": {},
   "outputs": [
    {
     "data": {
      "text/plain": [
       "array([\"I've had the chicken with garlic sauce, chicken with black bean sauce, and hunan chicken.\",\n",
       "       \"We ate out in the back patio, which is worth it as it's cool and the music is hear well there.\",\n",
       "       'Traditional French decour was pleasant though the hall was rather noisy - the restaurant was full and we had to raise our voices to be able to maintain a conversation.',\n",
       "       'Each table has a pot of boiling water sunken into its surface, and you get platters of thin sliced meats, various vegetables, and rice and glass noodles.',\n",
       "       'We were worried we would have trouble getting in, but somehow managed to have a short wait.',\n",
       "       'my personal favorite is an everything bagel with lox spread, but all the bagles are unbeliavably good.',\n",
       "       'The man that was hosting promised to save a table for our party of 7, then sat a party of 2 at the very table he was saving (mean while there were boths open all around).',\n",
       "       'The main course had an average portion, and was decent overall.',\n",
       "       'The restaurant is rather small but we were lucky to get a table quickly.',\n",
       "       'It is nearly impossible to get a table, so if you ever have the chance to go here for dinner, DO NOT pass it up.',\n",
       "       \"We could not catch our waiter's eye, and he ignored us.\",\n",
       "       'Some servers make you feel like they are doing you a favor to bring you the food.',\n",
       "       'Acceptable prices.',\n",
       "       'I would definitely recommend SEA if you like thai cuisine!',\n",
       "       'Try the tandoori salmon!',\n",
       "       'I recieved prompt service with a smile.',\n",
       "       'The crackling calamari salad, which is usually a cheap disaster at many restaurants, is crispy and lightly dressed.',\n",
       "       'This is a nice restaurant if you are looking for a good place to host an intimate dinner meeting with business associates.',\n",
       "       'A cool place to hang with your friends for a couple of healthy drinks and desserts.',\n",
       "       'We could only get through an appetizer and cheese fondue.',\n",
       "       'Meanwhile, the bartender continued to pour champagne from his reserve after we had finished our bottle and we enjoyed an amuse of turnip soup with pureed basil, gratis.',\n",
       "       'The staff is incredibly helpful and attentive.',\n",
       "       'When we sat, we got great and fast service.',\n",
       "       'Very good service and very good prices.',\n",
       "       'Example is the soup which was about 6 oz for $12 dollars and the mushrooms where $12 for about 1oz.',\n",
       "       'BUt their best dish is thh Thai spiced curry noodles with shrimp - a dish that would cost $23.95 is most places, but it is $16 here.',\n",
       "       \"I've eaten thai many times, and am very familiar with the cuisine.\",\n",
       "       'I highly recommend visiting this restaurant and having dinner and drinks!',\n",
       "       'While this is a pretty place in that overly cute French way, the food was insultingly horrible.',\n",
       "       'Found service above average, but that could be because we were 13 of us.',\n",
       "       \"Some of the workers ignore me and talk to the female customers, other times, they've skipped my order.\",\n",
       "       \"If you've ever been along the river in Weehawken you have an idea of the top of view the chart house has to offer.\",\n",
       "       'What is even better, is that the prices are very affordable as well, and the food is really good.'],\n",
       "      dtype=object)"
      ]
     },
     "execution_count": 6,
     "metadata": {},
     "output_type": "execute_result"
    }
   ],
   "source": [
    "import numpy as np\n",
    "np.random.seed(41)\n",
    "sampled_texts = np.random.choice(semeval_texts, 33)\n",
    "sampled_texts"
   ]
  },
  {
   "cell_type": "markdown",
   "id": "24849e9d-2118-4150-a5e9-9e17f58b0d7c",
   "metadata": {},
   "source": [
    "# Prompt"
   ]
  },
  {
   "cell_type": "code",
   "execution_count": 7,
   "id": "650457f4-a59a-4afc-9cd4-33831a6ae8fa",
   "metadata": {},
   "outputs": [],
   "source": [
    "import os\n",
    "from ollama import Client"
   ]
  },
  {
   "cell_type": "code",
   "execution_count": 8,
   "id": "5a8e22ed-71ec-4248-b8c5-6173ffa4b31e",
   "metadata": {},
   "outputs": [],
   "source": [
    "# LLM_SERVER_HOST = '192.168.100.16'\n",
    "LLM_SERVER_HOST = '192.168.100.10'\n",
    "LLM_SERVER_PORT = 11434\n",
    "client = Client(host=f'http://{LLM_SERVER_HOST}:{LLM_SERVER_PORT}')"
   ]
  },
  {
   "cell_type": "code",
   "execution_count": 9,
   "id": "8f6eb0c3-8c54-40f4-8a0a-6e45b3c6c485",
   "metadata": {},
   "outputs": [],
   "source": [
    "system_prompt_fp = '../src/prompt/v6.txt'\n",
    "with open(system_prompt_fp, 'r') as f:\n",
    "    system_prompt = f.read()"
   ]
  },
  {
   "cell_type": "code",
   "execution_count": 10,
   "id": "8272eead-7e55-433c-8199-e33bf82a10a4",
   "metadata": {},
   "outputs": [],
   "source": [
    "prompt = \"\"\"\n",
    "Input:\n",
    "{input_texts}\n",
    "\"\"\""
   ]
  },
  {
   "cell_type": "code",
   "execution_count": 11,
   "id": "02e7a0b5-26b7-4b30-b9a1-4031854c3a70",
   "metadata": {},
   "outputs": [
    {
     "name": "stdout",
     "output_type": "stream",
     "text": [
      "prompt_approx_token_counts=2368.0\n"
     ]
    }
   ],
   "source": [
    "APPROX_CHARS_PER_TOKEN = 4\n",
    "prompt_approx_token_counts = (len(system_prompt) + len(prompt)) / APPROX_CHARS_PER_TOKEN\n",
    "print(f\"{prompt_approx_token_counts=}\")"
   ]
  },
  {
   "cell_type": "markdown",
   "id": "f67fb907-0d48-422b-8048-622ede42810d",
   "metadata": {},
   "source": [
    "## Call LLM Extract"
   ]
  },
  {
   "cell_type": "code",
   "execution_count": 12,
   "id": "a9f32a65-3f4a-4a6a-ab8a-28773ec0c844",
   "metadata": {},
   "outputs": [],
   "source": [
    "from src.wrapper.v1 import llm_extract, logger as p_logger\n",
    "from src.utils.id.idfy import deterministic_hash\n",
    "from tqdm.notebook import tqdm\n",
    "import math\n",
    "from loguru import logger"
   ]
  },
  {
   "cell_type": "code",
   "execution_count": 13,
   "id": "4028cd59-fce4-4cbe-ab2a-ca9c9571a035",
   "metadata": {},
   "outputs": [
    {
     "name": "stderr",
     "output_type": "stream",
     "text": [
      "\u001b[32m2024-07-05 19:05:04.908\u001b[0m | \u001b[1mINFO    \u001b[0m | \u001b[36m__main__\u001b[0m:\u001b[36m<module>\u001b[0m:\u001b[36m8\u001b[0m - \u001b[1mlen(input_texts)=33\u001b[0m\n"
     ]
    }
   ],
   "source": [
    "input_texts = []\n",
    "for t in sampled_texts:\n",
    "    # Strangely if add the hashed id then the LLM would mess up with its output structure\n",
    "    # t_ = {\"id\": str(deterministic_hash(t)), \"text\": t}\n",
    "    t_ = {\"text\": t}\n",
    "    input_texts.append(t_)\n",
    "\n",
    "logger.info(f\"{len(input_texts)=}\")"
   ]
  },
  {
   "cell_type": "code",
   "execution_count": 14,
   "id": "6928b3c3-895a-4818-be5e-a77976a5f03f",
   "metadata": {},
   "outputs": [
    {
     "data": {
      "text/plain": [
       "{'text': \"I've had the chicken with garlic sauce, chicken with black bean sauce, and hunan chicken.\"}"
      ]
     },
     "execution_count": 14,
     "metadata": {},
     "output_type": "execute_result"
    }
   ],
   "source": [
    "input_texts[0]"
   ]
  },
  {
   "cell_type": "code",
   "execution_count": 15,
   "id": "ba878861-38db-4bff-985e-4ddff304e2d4",
   "metadata": {
    "scrolled": true
   },
   "outputs": [
    {
     "data": {
      "application/vnd.jupyter.widget-view+json": {
       "model_id": "026e6479f57d46f595e92fac9e63161b",
       "version_major": 2,
       "version_minor": 0
      },
      "text/plain": [
       "  0%|          | 0/4 [00:00<?, ?it/s]"
      ]
     },
     "metadata": {},
     "output_type": "display_data"
    },
    {
     "name": "stderr",
     "output_type": "stream",
     "text": [
      "\u001b[32m2024-07-05 19:06:04.381\u001b[0m | \u001b[34m\u001b[1mDEBUG   \u001b[0m | \u001b[36msrc.utils.time.timer\u001b[0m:\u001b[36mtimed\u001b[0m:\u001b[36m23\u001b[0m - \u001b[34m\u001b[1mcall_llm runtime: 47.313s\u001b[0m\n",
      "\u001b[32m2024-07-05 19:06:04.382\u001b[0m | \u001b[34m\u001b[1mDEBUG   \u001b[0m | \u001b[36msrc.wrapper.v1\u001b[0m:\u001b[36mllm_extract\u001b[0m:\u001b[36m62\u001b[0m - \u001b[34m\u001b[1m[OUTPUT] LLM Extracted successfully\u001b[0m\n",
      "\u001b[32m2024-07-05 19:06:36.943\u001b[0m | \u001b[34m\u001b[1mDEBUG   \u001b[0m | \u001b[36msrc.utils.time.timer\u001b[0m:\u001b[36mtimed\u001b[0m:\u001b[36m23\u001b[0m - \u001b[34m\u001b[1mcall_llm runtime: 32.559s\u001b[0m\n",
      "\u001b[32m2024-07-05 19:06:36.944\u001b[0m | \u001b[34m\u001b[1mDEBUG   \u001b[0m | \u001b[36msrc.wrapper.v1\u001b[0m:\u001b[36mllm_extract\u001b[0m:\u001b[36m62\u001b[0m - \u001b[34m\u001b[1m[OUTPUT] LLM Extracted successfully\u001b[0m\n",
      "\u001b[32m2024-07-05 19:07:09.301\u001b[0m | \u001b[34m\u001b[1mDEBUG   \u001b[0m | \u001b[36msrc.utils.time.timer\u001b[0m:\u001b[36mtimed\u001b[0m:\u001b[36m23\u001b[0m - \u001b[34m\u001b[1mcall_llm runtime: 32.356s\u001b[0m\n",
      "\u001b[32m2024-07-05 19:07:09.303\u001b[0m | \u001b[34m\u001b[1mDEBUG   \u001b[0m | \u001b[36msrc.wrapper.v1\u001b[0m:\u001b[36mllm_extract\u001b[0m:\u001b[36m62\u001b[0m - \u001b[34m\u001b[1m[OUTPUT] LLM Extracted successfully\u001b[0m\n",
      "\u001b[32m2024-07-05 19:07:22.996\u001b[0m | \u001b[34m\u001b[1mDEBUG   \u001b[0m | \u001b[36msrc.utils.time.timer\u001b[0m:\u001b[36mtimed\u001b[0m:\u001b[36m23\u001b[0m - \u001b[34m\u001b[1mcall_llm runtime: 13.692s\u001b[0m\n",
      "\u001b[32m2024-07-05 19:07:22.997\u001b[0m | \u001b[34m\u001b[1mDEBUG   \u001b[0m | \u001b[36msrc.wrapper.v1\u001b[0m:\u001b[36mllm_extract\u001b[0m:\u001b[36m62\u001b[0m - \u001b[34m\u001b[1m[OUTPUT] LLM Extracted successfully\u001b[0m\n"
     ]
    }
   ],
   "source": [
    "# input_texts = [\n",
    "#     {\"text\": \"They did not have mayonnaise, forgot our toast, left out ingredients (ie cheese in an omelet), below hot temperatures and the bacon was so over cooked it crumbled on the plate when you touched it.\"},\n",
    "#     {\"text\": \"The pizza is the best if you like thin crusted pizza.\"},\n",
    "#     {\"text\": \"All the money went into the interior decoration, none of it went to the chefs.\"}\n",
    "# ]\n",
    "# input_texts = [\n",
    "#     {\"id\": \"302410369143631686124488347381689095554\", \"text\": \"They did not have mayonnaise, forgot our toast, left out ingredients (ie cheese in an omelet), below hot temperatures and the bacon was so over cooked it crumbled on the plate when you touched it.\"},\n",
    "#     {\"id\": \"33613397660052989608475259485429283361\", \"text\": \"The pizza is the best if you like thin crusted pizza.\"},\n",
    "#     {\"id\": \"4217358929495711855940033134574696129\", \"text\": \"All the money went into the interior decoration, none of it went to the chefs.\"}\n",
    "# ]\n",
    "\n",
    "CHUNK_SIZE=10\n",
    "\n",
    "extracted_results = []\n",
    "for i in tqdm(range(0, len(input_texts), CHUNK_SIZE), total=math.ceil(len(input_texts) / CHUNK_SIZE)):\n",
    "    batch = input_texts[i:i + CHUNK_SIZE]\n",
    "    extracted = llm_extract(batch, system_prompt)\n",
    "    extracted_results.extend(list(extracted.values()))"
   ]
  },
  {
   "cell_type": "code",
   "execution_count": 19,
   "id": "91a73e84-ff1f-4816-b2ad-ba69dac57e7d",
   "metadata": {},
   "outputs": [
    {
     "data": {
      "text/plain": [
       "33"
      ]
     },
     "execution_count": 19,
     "metadata": {},
     "output_type": "execute_result"
    }
   ],
   "source": [
    "len(extracted_results)"
   ]
  },
  {
   "cell_type": "code",
   "execution_count": 22,
   "id": "5288a9e8-797c-4eb7-942f-b8b56c379459",
   "metadata": {},
   "outputs": [],
   "source": [
    "# Check loguru logging output\n",
    "import json\n",
    "\n",
    "with open('llm_extract_output_2024-07-05_19-05-04_881767.log', 'r') as f:\n",
    "    results = [json.loads(jline) for jline in f.readlines()]\n",
    "\n",
    "result_list = []\n",
    "for result in results:\n",
    "    result_json = json.loads(result['record']['extra']['llm_extracted'])\n",
    "    result_list.extend(list(result_json.values()))"
   ]
  },
  {
   "cell_type": "code",
   "execution_count": 25,
   "id": "8620bef8-167c-40bb-bfb4-d7fe1f819971",
   "metadata": {},
   "outputs": [
    {
     "data": {
      "text/plain": [
       "[{'text': 'The restaurant is rather small but we were lucky to get a table quickly.',\n",
       "  'entities': [['restaurant is rather small', 'AMBIENCE', 0.4, -0.3],\n",
       "   ['table quickly', 'SERVICE', 0.7, 0.5]]},\n",
       " {'text': 'It is nearly impossible to get a table, so if you ever have the chance to go here for dinner, DO NOT pass it up.',\n",
       "  'entities': [['nearly impossible to get a table', 'SERVICE', 0.5, -0.6],\n",
       "   ['DO NOT pass it up', 'FOOD', 0.9, 0.7]]},\n",
       " {'text': 'The service was poor.',\n",
       "  'entities': [[\"could not catch our waiter's eye\", 'SERVICE', 0.5, -0.6],\n",
       "   ['he ignored us', 'SERVICE', 0.4, -0.7]]},\n",
       " {'text': 'Some servers are unfriendly.',\n",
       "  'entities': [['some servers make you feel like they are doing you a favor',\n",
       "    'SERVICE',\n",
       "    0.3,\n",
       "    -0.5]]},\n",
       " {'text': 'The prices are acceptable.',\n",
       "  'entities': [['acceptable prices', 'PRICE', 0.7, 0.2]]}]"
      ]
     },
     "execution_count": 25,
     "metadata": {},
     "output_type": "execute_result"
    }
   ],
   "source": [
    "result_list[8:13]"
   ]
  },
  {
   "cell_type": "code",
   "execution_count": null,
   "id": "e0ccd3c6-c372-46f4-8f63-730a2dafe411",
   "metadata": {},
   "outputs": [],
   "source": []
  },
  {
   "cell_type": "code",
   "execution_count": null,
   "id": "f7f0cf6c-1f70-4d95-b24d-389b9535eb05",
   "metadata": {},
   "outputs": [],
   "source": []
  },
  {
   "cell_type": "code",
   "execution_count": null,
   "id": "3a9bc8af-f4f1-4ee1-b390-03305c8f55f0",
   "metadata": {},
   "outputs": [],
   "source": []
  },
  {
   "cell_type": "markdown",
   "id": "1f9b6989-ca09-4826-9845-7a764b514cae",
   "metadata": {},
   "source": [
    "# Archive"
   ]
  },
  {
   "cell_type": "raw",
   "id": "8e8a4c0c-af0d-4672-a308-d117f06d6601",
   "metadata": {},
   "source": [
    "# Count prompt tokens\n",
    "from transformers import AutoTokenizer\n",
    "tokenizer = AutoTokenizer.from_pretrained(\"meta-llama/Meta-Llama-3-8B\")\n",
    "tokens = tokenizer.tokenize(prompt)\n",
    "num_tokens = len(tokens)\n",
    "print(f\"Number of tokens in your prompt: {num_tokens}\")"
   ]
  },
  {
   "cell_type": "raw",
   "id": "ef997584-2c4f-4635-85bc-6419aa106c91",
   "metadata": {},
   "source": [
    "%%time\n",
    "input_texts = [\n",
    "    {\"id\": \"1\", \"text\": \"They did not have mayonnaise, forgot our toast, left out ingredients (ie cheese in an omelet), below hot temperatures and the bacon was so over cooked it crumbled on the plate when you touched it.\"},\n",
    "    {\"id\": \"2\", \"text\": \"The pizza is the best if you like thin crusted pizza.\"},\n",
    "    {\"id\": \"3\", \"text\": \"All the money went into the interior decoration, none of it went to the chefs.\"}\n",
    "]\n",
    "\n",
    "response = client.chat(\n",
    "    model='llama3',\n",
    "    messages=[\n",
    "        {\n",
    "          \"role\": \"system\",\n",
    "          \"content\": system_prompt\n",
    "        },\n",
    "        {\n",
    "          \"role\": \"user\",\n",
    "          \"content\": prompt.format(input_texts=str(input_texts))\n",
    "        }\n",
    "    ],\n",
    "    options=dict(\n",
    "        temperature=0,\n",
    "        num_predict=1024,\n",
    "        top_p=1,\n",
    "        frequency_penalty=0,\n",
    "        presence_penalty=0\n",
    "    ),\n",
    "    format='json'\n",
    ")\n",
    "print(response['message']['content'])"
   ]
  },
  {
   "cell_type": "raw",
   "id": "8277ba9c-0b2a-4601-bd6a-4ae2a7dfd2b3",
   "metadata": {},
   "source": [
    "# Check loguru logging error\n",
    "import json\n",
    "\n",
    "with open('llm_extract_errors_2024-07-05_17-26-46_927084.log', 'r') as f:\n",
    "    result = [json.loads(jline) for jline in f.readlines()]\n",
    "result[0]"
   ]
  },
  {
   "cell_type": "markdown",
   "id": "785c0b17-bd21-4917-8d93-4a0eb72d8f5c",
   "metadata": {},
   "source": [
    "## Convert output to hashed id"
   ]
  },
  {
   "cell_type": "raw",
   "id": "97a67fd3-8f50-4295-a627-bbc0b59ddf81",
   "metadata": {},
   "source": [
    "tmp = [\n",
    "  {\"id\": \"1\", \"text\": \"The seating arrangement could be better.\"},\n",
    "  {\"id\": \"2\", \"text\": \"I felt the lighting was a bit too dim for my liking.\"},\n",
    "  {\"id\": \"3\", \"text\": \"The waiting time was not great but the food was decent.\"},\n",
    "  {\"id\": \"4\", \"text\": \"The decor is quite old-fashioned and could use some updates.\"},\n",
    "  {\"id\": \"5\", \"text\": \"I think the desserts were okay, not the best.\"},\n",
    "  {\"id\": \"6\", \"text\": \"The noise level was quite high, making it hard to have a conversation.\"},\n",
    "  {\"id\": \"7\", \"text\": \"I wasn't too impressed with the salad bar, but the drinks were fine.\"},\n",
    "  {\"id\": \"8\", \"text\": \"The restrooms were clean, but the hand dryers didn't work well.\"},\n",
    "  {\"id\": \"9\", \"text\": \"The view from the window wasn't as good as I expected.\"},\n",
    "  {\"id\": \"10\", \"text\": \"The ambiance is neither good nor bad, just average.\"}\n",
    "]\n",
    "tmp_ = []\n",
    "for _tmp in tmp:\n",
    "    _tmp['id'] = str(deterministic_hash(_tmp['text']))\n",
    "    tmp_.append(_tmp)\n",
    "tmp_"
   ]
  },
  {
   "cell_type": "raw",
   "id": "a2aa2292-66c3-48ce-96a7-84fc9770717d",
   "metadata": {
    "scrolled": true
   },
   "source": [
    "tmp = {\n",
    "  \"1\": {\n",
    "    \"text\": \"The seating arrangement could be better.\",\n",
    "    \"entities\": [\n",
    "      [\"seating arrangement could be better\", \"AMBIENCE\", 0.6, -0.3]\n",
    "    ]\n",
    "  },\n",
    "  \"2\": {\n",
    "    \"text\": \"I felt the lighting was a bit too dim for my liking.\",\n",
    "    \"entities\": [\n",
    "      [\"lighting was a bit too dim\", \"AMBIENCE\", 0.5, -0.4]\n",
    "    ]\n",
    "  },\n",
    "  \"3\": {\n",
    "    \"text\": \"The waiting time was not great but the food was decent.\",\n",
    "    \"entities\": [\n",
    "      [\"waiting time was not great\", \"SERVICE\", 0.5, -0.5],\n",
    "      [\"food was decent\", \"FOOD\", 0.7, 0.3]\n",
    "    ]\n",
    "  },\n",
    "  \"4\": {\n",
    "    \"text\": \"The decor is quite old-fashioned and could use some updates.\",\n",
    "    \"entities\": [\n",
    "      [\"decor is quite old-fashioned\", \"AMBIENCE\", 0.4, -0.4],\n",
    "      [\"could use some updates\", \"AMBIENCE\", 0.6, -0.2]\n",
    "    ]\n",
    "  },\n",
    "  \"5\": {\n",
    "    \"text\": \"I think the desserts were okay, not the best.\",\n",
    "    \"entities\": [\n",
    "      [\"desserts were okay\", \"FOOD\", 0.6, 0.1],\n",
    "      [\"not the best\", \"FOOD\", 0.5, -0.3]\n",
    "    ]\n",
    "  },\n",
    "  \"6\": {\n",
    "    \"text\": \"The noise level was quite high, making it hard to have a conversation.\",\n",
    "    \"entities\": [\n",
    "      [\"noise level was quite high\", \"AMBIENCE\", 0.6, -0.6]\n",
    "    ]\n",
    "  },\n",
    "  \"7\": {\n",
    "    \"text\": \"I wasn't too impressed with the salad bar, but the drinks were fine.\",\n",
    "    \"entities\": [\n",
    "      [\"wasn't too impressed with the salad bar\", \"FOOD\", 0.6, -0.5],\n",
    "      [\"drinks were fine\", \"BEVERAGE\", 0.7, 0.3]\n",
    "    ]\n",
    "  },\n",
    "  \"8\": {\n",
    "    \"text\": \"The restrooms were clean, but the hand dryers didn't work well.\",\n",
    "    \"entities\": [\n",
    "      [\"restrooms were clean\", \"SERVICE\", 0.7, 0.4],\n",
    "      [\"hand dryers didn't work well\", \"SERVICE\", 0.5, -0.5]\n",
    "    ]\n",
    "  },\n",
    "  \"9\": {\n",
    "    \"text\": \"The view from the window wasn't as good as I expected.\",\n",
    "    \"entities\": [\n",
    "      [\"view from the window wasn't as good\", \"VIEW\", 0.4, -0.4]\n",
    "    ]\n",
    "  },\n",
    "  \"10\": {\n",
    "    \"text\": \"The ambiance is neither good nor bad, just average.\",\n",
    "    \"entities\": [\n",
    "      [\"ambiance is neither good nor bad\", \"AMBIENCE\", 0.3, 0.0]\n",
    "    ]\n",
    "  }\n",
    "}\n",
    "tmp_ = {}\n",
    "for i, _tmp in tmp.items():\n",
    "    i = int(i)\n",
    "    _tmp['id'] = str(deterministic_hash(_tmp['text']))\n",
    "    tmp_[i] = _tmp\n",
    "tmp_"
   ]
  },
  {
   "cell_type": "code",
   "execution_count": null,
   "id": "2cdba360-107b-4626-aae9-f1bf0ecf118e",
   "metadata": {},
   "outputs": [],
   "source": []
  }
 ],
 "metadata": {
  "kernelspec": {
   "display_name": "Python 3 (ipykernel)",
   "language": "python",
   "name": "python3"
  },
  "language_info": {
   "codemirror_mode": {
    "name": "ipython",
    "version": 3
   },
   "file_extension": ".py",
   "mimetype": "text/x-python",
   "name": "python",
   "nbconvert_exporter": "python",
   "pygments_lexer": "ipython3",
   "version": "3.9.19"
  }
 },
 "nbformat": 4,
 "nbformat_minor": 5
}
