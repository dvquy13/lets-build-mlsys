{
 "cells": [
  {
   "cell_type": "markdown",
   "id": "a72d7177-73e2-4be0-97e1-bfccdba442fc",
   "metadata": {},
   "source": [
    "# Set up"
   ]
  },
  {
   "cell_type": "code",
   "execution_count": 1,
   "id": "7aa7ffdd-d0dc-4b63-8641-8bfb4d42061b",
   "metadata": {},
   "outputs": [],
   "source": [
    "%load_ext autoreload\n",
    "%autoreload 2"
   ]
  },
  {
   "cell_type": "code",
   "execution_count": 2,
   "id": "39f2b533-27f0-4412-b7be-7625bc5140e5",
   "metadata": {},
   "outputs": [],
   "source": [
    "import json\n",
    "\n",
    "import sys\n",
    "sys.path.insert(0, '..')"
   ]
  },
  {
   "cell_type": "markdown",
   "id": "8affb80d-de3b-4b91-ad5c-3b40c80d254a",
   "metadata": {},
   "source": [
    "# Load data"
   ]
  },
  {
   "cell_type": "code",
   "execution_count": 3,
   "id": "e101a64b-93d0-47fb-9d66-dddac33fd4cf",
   "metadata": {},
   "outputs": [],
   "source": [
    "import pandas as pd"
   ]
  },
  {
   "cell_type": "code",
   "execution_count": 4,
   "id": "b4984794-486a-4863-96bd-ea14048dbbfc",
   "metadata": {},
   "outputs": [],
   "source": [
    "splits = {'train': 'data/train-00000-of-00001.parquet', 'test': 'data/test-00000-of-00001.parquet'}\n",
    "train_df = pd.read_parquet(\"hf://datasets/tomaarsen/setfit-absa-semeval-restaurants/\" + splits[\"train\"])"
   ]
  },
  {
   "cell_type": "code",
   "execution_count": 5,
   "id": "b40c533a-3049-4889-80fe-e434cc5ac34e",
   "metadata": {},
   "outputs": [
    {
     "data": {
      "text/plain": [
       "2019"
      ]
     },
     "execution_count": 5,
     "metadata": {},
     "output_type": "execute_result"
    }
   ],
   "source": [
    "semeval_texts = train_df['text'].unique()\n",
    "len(semeval_texts)"
   ]
  },
  {
   "cell_type": "markdown",
   "id": "24849e9d-2118-4150-a5e9-9e17f58b0d7c",
   "metadata": {},
   "source": [
    "# Prompt"
   ]
  },
  {
   "cell_type": "code",
   "execution_count": 6,
   "id": "650457f4-a59a-4afc-9cd4-33831a6ae8fa",
   "metadata": {},
   "outputs": [],
   "source": [
    "import os\n",
    "from ollama import Client"
   ]
  },
  {
   "cell_type": "code",
   "execution_count": 7,
   "id": "5a8e22ed-71ec-4248-b8c5-6173ffa4b31e",
   "metadata": {},
   "outputs": [],
   "source": [
    "# LLM_SERVER_HOST = '192.168.100.16'\n",
    "LLM_SERVER_HOST = '192.168.100.10'\n",
    "LLM_SERVER_PORT = 11434\n",
    "client = Client(host=f'http://{LLM_SERVER_HOST}:{LLM_SERVER_PORT}')"
   ]
  },
  {
   "cell_type": "code",
   "execution_count": 8,
   "id": "8f6eb0c3-8c54-40f4-8a0a-6e45b3c6c485",
   "metadata": {},
   "outputs": [],
   "source": [
    "system_prompt_fp = '../src/prompt/v8.txt'\n",
    "with open(system_prompt_fp, 'r') as f:\n",
    "    system_prompt = f.read()"
   ]
  },
  {
   "cell_type": "code",
   "execution_count": 9,
   "id": "8272eead-7e55-433c-8199-e33bf82a10a4",
   "metadata": {},
   "outputs": [],
   "source": [
    "prompt = \"\"\"\n",
    "Input:\n",
    "{input_texts}\n",
    "\"\"\""
   ]
  },
  {
   "cell_type": "code",
   "execution_count": 10,
   "id": "02e7a0b5-26b7-4b30-b9a1-4031854c3a70",
   "metadata": {},
   "outputs": [
    {
     "name": "stdout",
     "output_type": "stream",
     "text": [
      "prompt_approx_token_counts=2849.75\n"
     ]
    }
   ],
   "source": [
    "APPROX_CHARS_PER_TOKEN = 4\n",
    "prompt_approx_token_counts = (len(system_prompt) + len(prompt)) / APPROX_CHARS_PER_TOKEN\n",
    "print(f\"{prompt_approx_token_counts=}\")"
   ]
  },
  {
   "cell_type": "markdown",
   "id": "f67fb907-0d48-422b-8048-622ede42810d",
   "metadata": {},
   "source": [
    "## Call LLM Extract"
   ]
  },
  {
   "cell_type": "code",
   "execution_count": 11,
   "id": "a9f32a65-3f4a-4a6a-ab8a-28773ec0c844",
   "metadata": {},
   "outputs": [],
   "source": [
    "from src.wrapper.v1 import llm_extract_modelfile\n",
    "from src.utils.id.idfy import deterministic_hash\n",
    "from tqdm.notebook import tqdm\n",
    "import math\n",
    "from loguru import logger"
   ]
  },
  {
   "cell_type": "code",
   "execution_count": 12,
   "id": "5099d45f-d1b4-482b-9da6-ebbc382c1f34",
   "metadata": {},
   "outputs": [],
   "source": [
    "to_process = semeval_texts"
   ]
  },
  {
   "cell_type": "code",
   "execution_count": 13,
   "id": "ba313737-0fcc-4d14-81b7-8173046a2117",
   "metadata": {},
   "outputs": [],
   "source": [
    "REMOVE_TEXTS_IN_CACHED = False\n",
    "\n",
    "def build_cache_from_log_output(fp):\n",
    "    with open(fp, 'r') as f:\n",
    "        results = [json.loads(jline) for jline in f.readlines()]\n",
    "\n",
    "    cache = set()\n",
    "    for result in results:\n",
    "        result_json = json.loads(result['record']['extra']['llm_extracted'])\n",
    "        for rj in result_json.values():\n",
    "            cache.add(rj['text'])\n",
    "\n",
    "    return cache\n",
    "\n",
    "if REMOVE_TEXTS_IN_CACHED:\n",
    "    prev_log_output_fp = 'llm_extract_output_2024-07-05_19-35-03_258376.jsonl'\n",
    "    cached = build_cache_from_log_output(prev_log_output_fp)\n",
    "    \n",
    "    # remainings = [text for text in semeval_texts if text not in cached]\n",
    "    remainings = set(semeval_texts) - cached\n",
    "    logger.info(f\"original: {len(semeval_texts)} - cached: {len(cached)} - remainings: {len(remainings)}\")\n",
    "    to_process = remainings"
   ]
  },
  {
   "cell_type": "code",
   "execution_count": null,
   "id": "fedecdab-24d2-41b5-9db3-0f041257f698",
   "metadata": {},
   "outputs": [],
   "source": []
  },
  {
   "cell_type": "markdown",
   "id": "be9f1c5e-b888-4160-96d5-81f9a4121449",
   "metadata": {
    "jp-MarkdownHeadingCollapsed": true
   },
   "source": [
    "# Check cached"
   ]
  },
  {
   "cell_type": "raw",
   "id": "7be117c6-4da9-4d53-a9ad-7c8997f0091a",
   "metadata": {},
   "source": [
    "len(set(semeval_texts) - cached)"
   ]
  },
  {
   "cell_type": "raw",
   "id": "674bf0c1-1384-43e2-90c3-7ab8084a297a",
   "metadata": {},
   "source": [
    "with open(prev_log_output_fp, 'r') as f:\n",
    "    cached_results = [json.loads(jline) for jline in f.readlines()]"
   ]
  },
  {
   "cell_type": "raw",
   "id": "c6c33e25-c0cc-417e-913f-7113bd12d6ed",
   "metadata": {},
   "source": [
    "cached"
   ]
  },
  {
   "cell_type": "raw",
   "id": "ae14bb5f-a33a-4627-857d-5918a630dd65",
   "metadata": {},
   "source": [
    "result_json = json.loads(cached_results[0]['record']['extra']['llm_extracted'])\n",
    "result_json"
   ]
  },
  {
   "cell_type": "raw",
   "id": "e7426d31-5a09-4aba-bcc3-fa0266c870c1",
   "metadata": {},
   "source": [
    "sampled_texts"
   ]
  },
  {
   "cell_type": "code",
   "execution_count": null,
   "id": "7b10f161-bcce-449b-8e6e-21531fe531fc",
   "metadata": {},
   "outputs": [],
   "source": []
  },
  {
   "cell_type": "markdown",
   "id": "52c28055-6f02-4729-8a53-f9f9e18dda9e",
   "metadata": {},
   "source": [
    "# Pipeline "
   ]
  },
  {
   "cell_type": "code",
   "execution_count": 14,
   "id": "992629fc-7a4e-4c25-a0c3-555b4d286aa0",
   "metadata": {},
   "outputs": [
    {
     "data": {
      "text/plain": [
       "array([\"I've had the chicken with garlic sauce, chicken with black bean sauce, and hunan chicken.\",\n",
       "       \"We ate out in the back patio, which is worth it as it's cool and the music is hear well there.\",\n",
       "       'Traditional French decour was pleasant though the hall was rather noisy - the restaurant was full and we had to raise our voices to be able to maintain a conversation.',\n",
       "       'Each table has a pot of boiling water sunken into its surface, and you get platters of thin sliced meats, various vegetables, and rice and glass noodles.',\n",
       "       'We were worried we would have trouble getting in, but somehow managed to have a short wait.'],\n",
       "      dtype=object)"
      ]
     },
     "execution_count": 14,
     "metadata": {},
     "output_type": "execute_result"
    }
   ],
   "source": [
    "import numpy as np\n",
    "np.random.seed(41)\n",
    "sampled_texts = np.random.choice(to_process, 33)\n",
    "sampled_texts[:5]"
   ]
  },
  {
   "cell_type": "code",
   "execution_count": 15,
   "id": "4028cd59-fce4-4cbe-ab2a-ca9c9571a035",
   "metadata": {},
   "outputs": [
    {
     "name": "stderr",
     "output_type": "stream",
     "text": [
      "\u001b[32m2024-07-06 14:03:28.358\u001b[0m | \u001b[1mINFO    \u001b[0m | \u001b[36m__main__\u001b[0m:\u001b[36m<module>\u001b[0m:\u001b[36m8\u001b[0m - \u001b[1mlen(input_texts)=33\u001b[0m\n"
     ]
    }
   ],
   "source": [
    "input_texts = []\n",
    "for t in sampled_texts:\n",
    "    # Strangely if add the hashed id then the LLM would mess up with its output structure\n",
    "    # t_ = {\"id\": str(deterministic_hash(t)), \"text\": t}\n",
    "    t_ = {\"text\": t}\n",
    "    input_texts.append(t_)\n",
    "\n",
    "logger.info(f\"{len(input_texts)=}\")"
   ]
  },
  {
   "cell_type": "code",
   "execution_count": 17,
   "id": "ba878861-38db-4bff-985e-4ddff304e2d4",
   "metadata": {},
   "outputs": [
    {
     "data": {
      "application/vnd.jupyter.widget-view+json": {
       "model_id": "644d60345c2a475496031fbff3c557ac",
       "version_major": 2,
       "version_minor": 0
      },
      "text/plain": [
       "  0%|          | 0/4 [00:00<?, ?it/s]"
      ]
     },
     "metadata": {},
     "output_type": "display_data"
    },
    {
     "name": "stderr",
     "output_type": "stream",
     "text": [
      "\u001b[32m2024-07-06 14:04:34.268\u001b[0m | \u001b[34m\u001b[1mDEBUG   \u001b[0m | \u001b[36msrc.utils.time.timer\u001b[0m:\u001b[36mtimed\u001b[0m:\u001b[36m23\u001b[0m - \u001b[34m\u001b[1mcall_llm runtime: 49.936s\u001b[0m\n",
      "\u001b[32m2024-07-06 14:04:34.270\u001b[0m | \u001b[34m\u001b[1mDEBUG   \u001b[0m | \u001b[36msrc.wrapper.v1\u001b[0m:\u001b[36mllm_extract_modelfile\u001b[0m:\u001b[36m108\u001b[0m - \u001b[34m\u001b[1m[OUTPUT] LLM Extracted successfully\u001b[0m\n"
     ]
    },
    {
     "ename": "KeyError",
     "evalue": "'text'",
     "output_type": "error",
     "traceback": [
      "\u001b[0;31m---------------------------------------------------------------------------\u001b[0m",
      "\u001b[0;31mKeyError\u001b[0m                                  Traceback (most recent call last)",
      "Cell \u001b[0;32mIn[17], line 6\u001b[0m\n\u001b[1;32m      4\u001b[0m \u001b[38;5;28;01mfor\u001b[39;00m i \u001b[38;5;129;01min\u001b[39;00m tqdm(\u001b[38;5;28mrange\u001b[39m(\u001b[38;5;241m0\u001b[39m, \u001b[38;5;28mlen\u001b[39m(input_texts), CHUNK_SIZE), total\u001b[38;5;241m=\u001b[39mmath\u001b[38;5;241m.\u001b[39mceil(\u001b[38;5;28mlen\u001b[39m(input_texts) \u001b[38;5;241m/\u001b[39m CHUNK_SIZE)):\n\u001b[1;32m      5\u001b[0m     batch \u001b[38;5;241m=\u001b[39m input_texts[i:i \u001b[38;5;241m+\u001b[39m CHUNK_SIZE]\n\u001b[0;32m----> 6\u001b[0m     extracted \u001b[38;5;241m=\u001b[39m \u001b[43mllm_extract_modelfile\u001b[49m\u001b[43m(\u001b[49m\u001b[43mbatch\u001b[49m\u001b[43m)\u001b[49m\n\u001b[1;32m      7\u001b[0m     extracted_results\u001b[38;5;241m.\u001b[39mextend(\u001b[38;5;28mlist\u001b[39m(extracted\u001b[38;5;241m.\u001b[39mvalues()))\n",
      "File \u001b[0;32m~/frostmourne/lets-build-mlsys/notebooks/../src/wrapper/v1.py:114\u001b[0m, in \u001b[0;36mllm_extract_modelfile\u001b[0;34m(input_texts)\u001b[0m\n\u001b[1;32m    107\u001b[0m (\n\u001b[1;32m    108\u001b[0m     logger\n\u001b[1;32m    109\u001b[0m     \u001b[38;5;241m.\u001b[39mopt(lazy\u001b[38;5;241m=\u001b[39m\u001b[38;5;28;01mTrue\u001b[39;00m)\n\u001b[1;32m    110\u001b[0m     \u001b[38;5;241m.\u001b[39mbind(input_texts\u001b[38;5;241m=\u001b[39minput_texts, llm_extracted\u001b[38;5;241m=\u001b[39moutput)\n\u001b[1;32m    111\u001b[0m     \u001b[38;5;241m.\u001b[39mdebug(\u001b[38;5;124m'\u001b[39m\u001b[38;5;124m[OUTPUT] LLM Extracted successfully\u001b[39m\u001b[38;5;124m'\u001b[39m)\n\u001b[1;32m    112\u001b[0m )\n\u001b[1;32m    113\u001b[0m input_texts_texts \u001b[38;5;241m=\u001b[39m [e[\u001b[38;5;124m'\u001b[39m\u001b[38;5;124mtext\u001b[39m\u001b[38;5;124m'\u001b[39m] \u001b[38;5;28;01mfor\u001b[39;00m e \u001b[38;5;129;01min\u001b[39;00m input_texts]\n\u001b[0;32m--> 114\u001b[0m output_json_texts \u001b[38;5;241m=\u001b[39m [e[\u001b[38;5;124m'\u001b[39m\u001b[38;5;124mtext\u001b[39m\u001b[38;5;124m'\u001b[39m] \u001b[38;5;28;01mfor\u001b[39;00m e \u001b[38;5;129;01min\u001b[39;00m output_json\u001b[38;5;241m.\u001b[39mvalues()]\n\u001b[1;32m    115\u001b[0m \u001b[38;5;28;01massert\u001b[39;00m \u001b[38;5;28mset\u001b[39m(input_texts_texts) \u001b[38;5;241m==\u001b[39m \u001b[38;5;28mset\u001b[39m(output_json_texts), \u001b[38;5;124m\"\u001b[39m\u001b[38;5;124mInput texts do not match output texts\u001b[39m\u001b[38;5;124m\"\u001b[39m\n\u001b[1;32m    116\u001b[0m assert_extracted_entity_is_subtext(output_json)\n",
      "File \u001b[0;32m~/frostmourne/lets-build-mlsys/notebooks/../src/wrapper/v1.py:114\u001b[0m, in \u001b[0;36m<listcomp>\u001b[0;34m(.0)\u001b[0m\n\u001b[1;32m    107\u001b[0m (\n\u001b[1;32m    108\u001b[0m     logger\n\u001b[1;32m    109\u001b[0m     \u001b[38;5;241m.\u001b[39mopt(lazy\u001b[38;5;241m=\u001b[39m\u001b[38;5;28;01mTrue\u001b[39;00m)\n\u001b[1;32m    110\u001b[0m     \u001b[38;5;241m.\u001b[39mbind(input_texts\u001b[38;5;241m=\u001b[39minput_texts, llm_extracted\u001b[38;5;241m=\u001b[39moutput)\n\u001b[1;32m    111\u001b[0m     \u001b[38;5;241m.\u001b[39mdebug(\u001b[38;5;124m'\u001b[39m\u001b[38;5;124m[OUTPUT] LLM Extracted successfully\u001b[39m\u001b[38;5;124m'\u001b[39m)\n\u001b[1;32m    112\u001b[0m )\n\u001b[1;32m    113\u001b[0m input_texts_texts \u001b[38;5;241m=\u001b[39m [e[\u001b[38;5;124m'\u001b[39m\u001b[38;5;124mtext\u001b[39m\u001b[38;5;124m'\u001b[39m] \u001b[38;5;28;01mfor\u001b[39;00m e \u001b[38;5;129;01min\u001b[39;00m input_texts]\n\u001b[0;32m--> 114\u001b[0m output_json_texts \u001b[38;5;241m=\u001b[39m [\u001b[43me\u001b[49m\u001b[43m[\u001b[49m\u001b[38;5;124;43m'\u001b[39;49m\u001b[38;5;124;43mtext\u001b[39;49m\u001b[38;5;124;43m'\u001b[39;49m\u001b[43m]\u001b[49m \u001b[38;5;28;01mfor\u001b[39;00m e \u001b[38;5;129;01min\u001b[39;00m output_json\u001b[38;5;241m.\u001b[39mvalues()]\n\u001b[1;32m    115\u001b[0m \u001b[38;5;28;01massert\u001b[39;00m \u001b[38;5;28mset\u001b[39m(input_texts_texts) \u001b[38;5;241m==\u001b[39m \u001b[38;5;28mset\u001b[39m(output_json_texts), \u001b[38;5;124m\"\u001b[39m\u001b[38;5;124mInput texts do not match output texts\u001b[39m\u001b[38;5;124m\"\u001b[39m\n\u001b[1;32m    116\u001b[0m assert_extracted_entity_is_subtext(output_json)\n",
      "\u001b[0;31mKeyError\u001b[0m: 'text'"
     ]
    }
   ],
   "source": [
    "CHUNK_SIZE = 10\n",
    "\n",
    "extracted_results = []\n",
    "for i in tqdm(range(0, len(input_texts), CHUNK_SIZE), total=math.ceil(len(input_texts) / CHUNK_SIZE)):\n",
    "    batch = input_texts[i:i + CHUNK_SIZE]\n",
    "    extracted = llm_extract_modelfile(batch)\n",
    "    extracted_results.extend(list(extracted.values()))"
   ]
  },
  {
   "cell_type": "code",
   "execution_count": 18,
   "id": "00cc237e-ddde-453f-82f8-36cf844f72ce",
   "metadata": {},
   "outputs": [
    {
     "name": "stdout",
     "output_type": "stream",
     "text": [
      "> \u001b[0;32m/home/dvquys/frostmourne/lets-build-mlsys/src/wrapper/v1.py\u001b[0m(114)\u001b[0;36m<listcomp>\u001b[0;34m()\u001b[0m\n",
      "\u001b[0;32m    112 \u001b[0;31m        )\n",
      "\u001b[0m\u001b[0;32m    113 \u001b[0;31m        \u001b[0minput_texts_texts\u001b[0m \u001b[0;34m=\u001b[0m \u001b[0;34m[\u001b[0m\u001b[0me\u001b[0m\u001b[0;34m[\u001b[0m\u001b[0;34m'text'\u001b[0m\u001b[0;34m]\u001b[0m \u001b[0;32mfor\u001b[0m \u001b[0me\u001b[0m \u001b[0;32min\u001b[0m \u001b[0minput_texts\u001b[0m\u001b[0;34m]\u001b[0m\u001b[0;34m\u001b[0m\u001b[0;34m\u001b[0m\u001b[0m\n",
      "\u001b[0m\u001b[0;32m--> 114 \u001b[0;31m        \u001b[0moutput_json_texts\u001b[0m \u001b[0;34m=\u001b[0m \u001b[0;34m[\u001b[0m\u001b[0me\u001b[0m\u001b[0;34m[\u001b[0m\u001b[0;34m'text'\u001b[0m\u001b[0;34m]\u001b[0m \u001b[0;32mfor\u001b[0m \u001b[0me\u001b[0m \u001b[0;32min\u001b[0m \u001b[0moutput_json\u001b[0m\u001b[0;34m.\u001b[0m\u001b[0mvalues\u001b[0m\u001b[0;34m(\u001b[0m\u001b[0;34m)\u001b[0m\u001b[0;34m]\u001b[0m\u001b[0;34m\u001b[0m\u001b[0;34m\u001b[0m\u001b[0m\n",
      "\u001b[0m\u001b[0;32m    115 \u001b[0;31m        \u001b[0;32massert\u001b[0m \u001b[0mset\u001b[0m\u001b[0;34m(\u001b[0m\u001b[0minput_texts_texts\u001b[0m\u001b[0;34m)\u001b[0m \u001b[0;34m==\u001b[0m \u001b[0mset\u001b[0m\u001b[0;34m(\u001b[0m\u001b[0moutput_json_texts\u001b[0m\u001b[0;34m)\u001b[0m\u001b[0;34m,\u001b[0m \u001b[0;34m\"Input texts do not match output texts\"\u001b[0m\u001b[0;34m\u001b[0m\u001b[0;34m\u001b[0m\u001b[0m\n",
      "\u001b[0m\u001b[0;32m    116 \u001b[0;31m        \u001b[0massert_extracted_entity_is_subtext\u001b[0m\u001b[0;34m(\u001b[0m\u001b[0moutput_json\u001b[0m\u001b[0;34m)\u001b[0m\u001b[0;34m\u001b[0m\u001b[0;34m\u001b[0m\u001b[0m\n",
      "\u001b[0m\n"
     ]
    },
    {
     "name": "stdin",
     "output_type": "stream",
     "text": [
      "ipdb>  output_json.values()\n"
     ]
    },
    {
     "name": "stdout",
     "output_type": "stream",
     "text": [
      "*** NameError: name 'output_json' is not defined\n"
     ]
    },
    {
     "name": "stdin",
     "output_type": "stream",
     "text": [
      "ipdb>  output_json\n"
     ]
    },
    {
     "name": "stdout",
     "output_type": "stream",
     "text": [
      "*** NameError: name 'output_json' is not defined\n"
     ]
    },
    {
     "name": "stdin",
     "output_type": "stream",
     "text": [
      "ipdb>  u\n"
     ]
    },
    {
     "name": "stdout",
     "output_type": "stream",
     "text": [
      "> \u001b[0;32m/home/dvquys/frostmourne/lets-build-mlsys/src/wrapper/v1.py\u001b[0m(114)\u001b[0;36mllm_extract_modelfile\u001b[0;34m()\u001b[0m\n",
      "\u001b[0;32m    112 \u001b[0;31m        )\n",
      "\u001b[0m\u001b[0;32m    113 \u001b[0;31m        \u001b[0minput_texts_texts\u001b[0m \u001b[0;34m=\u001b[0m \u001b[0;34m[\u001b[0m\u001b[0me\u001b[0m\u001b[0;34m[\u001b[0m\u001b[0;34m'text'\u001b[0m\u001b[0;34m]\u001b[0m \u001b[0;32mfor\u001b[0m \u001b[0me\u001b[0m \u001b[0;32min\u001b[0m \u001b[0minput_texts\u001b[0m\u001b[0;34m]\u001b[0m\u001b[0;34m\u001b[0m\u001b[0;34m\u001b[0m\u001b[0m\n",
      "\u001b[0m\u001b[0;32m--> 114 \u001b[0;31m        \u001b[0moutput_json_texts\u001b[0m \u001b[0;34m=\u001b[0m \u001b[0;34m[\u001b[0m\u001b[0me\u001b[0m\u001b[0;34m[\u001b[0m\u001b[0;34m'text'\u001b[0m\u001b[0;34m]\u001b[0m \u001b[0;32mfor\u001b[0m \u001b[0me\u001b[0m \u001b[0;32min\u001b[0m \u001b[0moutput_json\u001b[0m\u001b[0;34m.\u001b[0m\u001b[0mvalues\u001b[0m\u001b[0;34m(\u001b[0m\u001b[0;34m)\u001b[0m\u001b[0;34m]\u001b[0m\u001b[0;34m\u001b[0m\u001b[0;34m\u001b[0m\u001b[0m\n",
      "\u001b[0m\u001b[0;32m    115 \u001b[0;31m        \u001b[0;32massert\u001b[0m \u001b[0mset\u001b[0m\u001b[0;34m(\u001b[0m\u001b[0minput_texts_texts\u001b[0m\u001b[0;34m)\u001b[0m \u001b[0;34m==\u001b[0m \u001b[0mset\u001b[0m\u001b[0;34m(\u001b[0m\u001b[0moutput_json_texts\u001b[0m\u001b[0;34m)\u001b[0m\u001b[0;34m,\u001b[0m \u001b[0;34m\"Input texts do not match output texts\"\u001b[0m\u001b[0;34m\u001b[0m\u001b[0;34m\u001b[0m\u001b[0m\n",
      "\u001b[0m\u001b[0;32m    116 \u001b[0;31m        \u001b[0massert_extracted_entity_is_subtext\u001b[0m\u001b[0;34m(\u001b[0m\u001b[0moutput_json\u001b[0m\u001b[0;34m)\u001b[0m\u001b[0;34m\u001b[0m\u001b[0;34m\u001b[0m\u001b[0m\n",
      "\u001b[0m\n"
     ]
    },
    {
     "name": "stdin",
     "output_type": "stream",
     "text": [
      "ipdb>  output_json\n"
     ]
    },
    {
     "name": "stdout",
     "output_type": "stream",
     "text": [
      "{'1': {'text': \"I've had the chicken with garlic sauce, chicken with black bean sauce, and hunan chicken.\", 'entities': [['chicken with garlic sauce', 'FOOD', 0.9, 0.8], ['chicken with black bean sauce', 'FOOD', 0.85, 0.7], ['hunan chicken', 'FOOD', 0.8, 0.6]]}, '2': {'text': \"We ate out in the back patio, which is worth it as it's cool and the music is hear well there.\", 'entities': [['back patio', 'AMBIENCE', 0.9, 0.7], ['cool', 'AMBIENCE', 0.8, 0.5], ['music is hear well there', 'MUSIC', 0.85, 0.6]]}, '3': {\"text': 'Traditional French decour was pleasant though the hall was rather noisy - the restaurant was full and we had to raise our voices to be able to maintain a conversation.'\": [['Traditional French decor', 'AMBIENCE', 0.8, 0.5], ['hall was rather noisy', 'AMBIENCE', 0.6, -0.4]]}, '4': {\"text': 'Each table has a pot of boiling water sunken into its surface, and you get platters of thin sliced meats, various vegetables, and rice and glass noodles.'\": [['pot of boiling water', 'KITCHEN', 0.7, 0.3], ['platters of thin sliced meats', 'FOOD', 0.8, 0.6], ['various vegetables', 'FOOD', 0.75, 0.4]]}, '5': {\"text': 'We were worried we would have trouble getting in, but somehow managed to have a short wait.'\": [['would have trouble getting in', 'SERVICE', 0.6, -0.3], ['short wait', 'SERVICE', 0.8, 0.5]]}, '6': {\"text': 'my personal favorite is an everything bagel with lox spread, but all the bagles are unbeliavably good.'\": [['everything bagel with lox spread', 'FOOD', 0.9, 0.8], ['all the bagels are unbelievably good', 'FOOD', 0.85, 0.7]]}, '7': {\"text': 'The man that was hosting promised to save a table for our party of 7, then sat a party of 2 at the very table he was saving (mean while there were boths open all around).'\": [['promised to save a table', 'SERVICE', 0.5, -0.3], ['party of 2 at the very table he was saving', 'SERVICE', 0.4, -0.4]]}, '8': {\"text': 'The main course had an average portion, and was decent overall.'\": [['main course had an average portion', 'FOOD', 0.7, 0.3], ['was decent overall', 'OVERALL', 0.6, 0.2]]}, '9': {\"text': 'The restaurant is rather small but we were lucky to get a table quickly.'\": [['restaurant is rather small', 'AMBIENCE', 0.5, -0.3], ['lucky to get a table quickly', 'SERVICE', 0.8, 0.6]]}, '10': {\"text': 'It is nearly impossible to get a table, so if you ever have the chance to go here for dinner, DO NOT pass it up.'\": [['nearly impossible to get a table', 'SERVICE', 0.4, -0.5], ['DO NOT pass it up', 'OVERALL', 0.9, 0.8]]}}\n"
     ]
    },
    {
     "name": "stdin",
     "output_type": "stream",
     "text": [
      "ipdb>  output_json.values\n"
     ]
    },
    {
     "name": "stdout",
     "output_type": "stream",
     "text": [
      "<built-in method values of dict object at 0x7de8bf8444c0>\n"
     ]
    },
    {
     "name": "stdin",
     "output_type": "stream",
     "text": [
      "ipdb>  output_json.values()\n"
     ]
    },
    {
     "name": "stdout",
     "output_type": "stream",
     "text": [
      "dict_values([{'text': \"I've had the chicken with garlic sauce, chicken with black bean sauce, and hunan chicken.\", 'entities': [['chicken with garlic sauce', 'FOOD', 0.9, 0.8], ['chicken with black bean sauce', 'FOOD', 0.85, 0.7], ['hunan chicken', 'FOOD', 0.8, 0.6]]}, {'text': \"We ate out in the back patio, which is worth it as it's cool and the music is hear well there.\", 'entities': [['back patio', 'AMBIENCE', 0.9, 0.7], ['cool', 'AMBIENCE', 0.8, 0.5], ['music is hear well there', 'MUSIC', 0.85, 0.6]]}, {\"text': 'Traditional French decour was pleasant though the hall was rather noisy - the restaurant was full and we had to raise our voices to be able to maintain a conversation.'\": [['Traditional French decor', 'AMBIENCE', 0.8, 0.5], ['hall was rather noisy', 'AMBIENCE', 0.6, -0.4]]}, {\"text': 'Each table has a pot of boiling water sunken into its surface, and you get platters of thin sliced meats, various vegetables, and rice and glass noodles.'\": [['pot of boiling water', 'KITCHEN', 0.7, 0.3], ['platters of thin sliced meats', 'FOOD', 0.8, 0.6], ['various vegetables', 'FOOD', 0.75, 0.4]]}, {\"text': 'We were worried we would have trouble getting in, but somehow managed to have a short wait.'\": [['would have trouble getting in', 'SERVICE', 0.6, -0.3], ['short wait', 'SERVICE', 0.8, 0.5]]}, {\"text': 'my personal favorite is an everything bagel with lox spread, but all the bagles are unbeliavably good.'\": [['everything bagel with lox spread', 'FOOD', 0.9, 0.8], ['all the bagels are unbelievably good', 'FOOD', 0.85, 0.7]]}, {\"text': 'The man that was hosting promised to save a table for our party of 7, then sat a party of 2 at the very table he was saving (mean while there were boths open all around).'\": [['promised to save a table', 'SERVICE', 0.5, -0.3], ['party of 2 at the very table he was saving', 'SERVICE', 0.4, -0.4]]}, {\"text': 'The main course had an average portion, and was decent overall.'\": [['main course had an average portion', 'FOOD', 0.7, 0.3], ['was decent overall', 'OVERALL', 0.6, 0.2]]}, {\"text': 'The restaurant is rather small but we were lucky to get a table quickly.'\": [['restaurant is rather small', 'AMBIENCE', 0.5, -0.3], ['lucky to get a table quickly', 'SERVICE', 0.8, 0.6]]}, {\"text': 'It is nearly impossible to get a table, so if you ever have the chance to go here for dinner, DO NOT pass it up.'\": [['nearly impossible to get a table', 'SERVICE', 0.4, -0.5], ['DO NOT pass it up', 'OVERALL', 0.9, 0.8]]}])\n"
     ]
    },
    {
     "name": "stdin",
     "output_type": "stream",
     "text": [
      "ipdb>  !type(output_json)\n"
     ]
    },
    {
     "name": "stdout",
     "output_type": "stream",
     "text": [
      "<class 'dict'>\n"
     ]
    },
    {
     "name": "stdin",
     "output_type": "stream",
     "text": [
      "ipdb>  output_json\n"
     ]
    },
    {
     "name": "stdout",
     "output_type": "stream",
     "text": [
      "{'1': {'text': \"I've had the chicken with garlic sauce, chicken with black bean sauce, and hunan chicken.\", 'entities': [['chicken with garlic sauce', 'FOOD', 0.9, 0.8], ['chicken with black bean sauce', 'FOOD', 0.85, 0.7], ['hunan chicken', 'FOOD', 0.8, 0.6]]}, '2': {'text': \"We ate out in the back patio, which is worth it as it's cool and the music is hear well there.\", 'entities': [['back patio', 'AMBIENCE', 0.9, 0.7], ['cool', 'AMBIENCE', 0.8, 0.5], ['music is hear well there', 'MUSIC', 0.85, 0.6]]}, '3': {\"text': 'Traditional French decour was pleasant though the hall was rather noisy - the restaurant was full and we had to raise our voices to be able to maintain a conversation.'\": [['Traditional French decor', 'AMBIENCE', 0.8, 0.5], ['hall was rather noisy', 'AMBIENCE', 0.6, -0.4]]}, '4': {\"text': 'Each table has a pot of boiling water sunken into its surface, and you get platters of thin sliced meats, various vegetables, and rice and glass noodles.'\": [['pot of boiling water', 'KITCHEN', 0.7, 0.3], ['platters of thin sliced meats', 'FOOD', 0.8, 0.6], ['various vegetables', 'FOOD', 0.75, 0.4]]}, '5': {\"text': 'We were worried we would have trouble getting in, but somehow managed to have a short wait.'\": [['would have trouble getting in', 'SERVICE', 0.6, -0.3], ['short wait', 'SERVICE', 0.8, 0.5]]}, '6': {\"text': 'my personal favorite is an everything bagel with lox spread, but all the bagles are unbeliavably good.'\": [['everything bagel with lox spread', 'FOOD', 0.9, 0.8], ['all the bagels are unbelievably good', 'FOOD', 0.85, 0.7]]}, '7': {\"text': 'The man that was hosting promised to save a table for our party of 7, then sat a party of 2 at the very table he was saving (mean while there were boths open all around).'\": [['promised to save a table', 'SERVICE', 0.5, -0.3], ['party of 2 at the very table he was saving', 'SERVICE', 0.4, -0.4]]}, '8': {\"text': 'The main course had an average portion, and was decent overall.'\": [['main course had an average portion', 'FOOD', 0.7, 0.3], ['was decent overall', 'OVERALL', 0.6, 0.2]]}, '9': {\"text': 'The restaurant is rather small but we were lucky to get a table quickly.'\": [['restaurant is rather small', 'AMBIENCE', 0.5, -0.3], ['lucky to get a table quickly', 'SERVICE', 0.8, 0.6]]}, '10': {\"text': 'It is nearly impossible to get a table, so if you ever have the chance to go here for dinner, DO NOT pass it up.'\": [['nearly impossible to get a table', 'SERVICE', 0.4, -0.5], ['DO NOT pass it up', 'OVERALL', 0.9, 0.8]]}}\n"
     ]
    },
    {
     "name": "stdin",
     "output_type": "stream",
     "text": [
      "ipdb>  output_json.values()[0]\n"
     ]
    },
    {
     "name": "stdout",
     "output_type": "stream",
     "text": [
      "*** TypeError: 'dict_values' object is not subscriptable\n"
     ]
    },
    {
     "name": "stdin",
     "output_type": "stream",
     "text": [
      "ipdb>  list(output_json.values())[0]\n"
     ]
    },
    {
     "name": "stdout",
     "output_type": "stream",
     "text": [
      "*** Error in argument: '(output_json.values())[0]'\n"
     ]
    },
    {
     "name": "stdin",
     "output_type": "stream",
     "text": [
      "ipdb>  !list(output_json.values())[0]\n"
     ]
    },
    {
     "name": "stdout",
     "output_type": "stream",
     "text": [
      "{'text': \"I've had the chicken with garlic sauce, chicken with black bean sauce, and hunan chicken.\", 'entities': [['chicken with garlic sauce', 'FOOD', 0.9, 0.8], ['chicken with black bean sauce', 'FOOD', 0.85, 0.7], ['hunan chicken', 'FOOD', 0.8, 0.6]]}\n"
     ]
    },
    {
     "name": "stdin",
     "output_type": "stream",
     "text": [
      "ipdb>  for e in output_json.values(): print(e.keys())\n"
     ]
    },
    {
     "name": "stdout",
     "output_type": "stream",
     "text": [
      "dict_keys(['text', 'entities'])\n",
      "dict_keys(['text', 'entities'])\n",
      "dict_keys([\"text': 'Traditional French decour was pleasant though the hall was rather noisy - the restaurant was full and we had to raise our voices to be able to maintain a conversation.'\"])\n",
      "dict_keys([\"text': 'Each table has a pot of boiling water sunken into its surface, and you get platters of thin sliced meats, various vegetables, and rice and glass noodles.'\"])\n",
      "dict_keys([\"text': 'We were worried we would have trouble getting in, but somehow managed to have a short wait.'\"])\n",
      "dict_keys([\"text': 'my personal favorite is an everything bagel with lox spread, but all the bagles are unbeliavably good.'\"])\n",
      "dict_keys([\"text': 'The man that was hosting promised to save a table for our party of 7, then sat a party of 2 at the very table he was saving (mean while there were boths open all around).'\"])\n",
      "dict_keys([\"text': 'The main course had an average portion, and was decent overall.'\"])\n",
      "dict_keys([\"text': 'The restaurant is rather small but we were lucky to get a table quickly.'\"])\n",
      "dict_keys([\"text': 'It is nearly impossible to get a table, so if you ever have the chance to go here for dinner, DO NOT pass it up.'\"])\n"
     ]
    },
    {
     "name": "stdin",
     "output_type": "stream",
     "text": [
      "ipdb>  output\n"
     ]
    },
    {
     "name": "stdout",
     "output_type": "stream",
     "text": [
      "'{\\n\"1\": {\\n\"text\": \"I\\'ve had the chicken with garlic sauce, chicken with black bean sauce, and hunan chicken.\",\\n\"entities\": [\\n[\"chicken with garlic sauce\", \"FOOD\", 0.9, 0.8],\\n[\"chicken with black bean sauce\", \"FOOD\", 0.85, 0.7],\\n[\"hunan chicken\", \"FOOD\", 0.8, 0.6]\\n]\\n},\\n\"2\": {\\n\"text\": \"We ate out in the back patio, which is worth it as it\\'s cool and the music is hear well there.\",\\n\"entities\": [\\n[\"back patio\", \"AMBIENCE\", 0.9, 0.7],\\n[\"cool\", \"AMBIENCE\", 0.8, 0.5],\\n[\"music is hear well there\", \"MUSIC\", 0.85, 0.6]\\n]\\n},\\n\"3\": {\\n\"text\\': \\'Traditional French decour was pleasant though the hall was rather noisy - the restaurant was full and we had to raise our voices to be able to maintain a conversation.\\'\"\\n    : [\\n      [\"Traditional French decor\", \"AMBIENCE\", 0.8, 0.5],\\n      [\"hall was rather noisy\", \"AMBIENCE\", 0.6, -0.4]\\n    ]\\n},\\n\"4\": {\\n\"text\\': \\'Each table has a pot of boiling water sunken into its surface, and you get platters of thin sliced meats, various vegetables, and rice and glass noodles.\\'\"\\n    : [\\n      [\"pot of boiling water\", \"KITCHEN\", 0.7, 0.3],\\n      [\"platters of thin sliced meats\", \"FOOD\", 0.8, 0.6],\\n      [\"various vegetables\", \"FOOD\", 0.75, 0.4]\\n    ]\\n},\\n\"5\": {\\n\"text\\': \\'We were worried we would have trouble getting in, but somehow managed to have a short wait.\\'\"\\n    : [\\n      [\"would have trouble getting in\", \"SERVICE\", 0.6, -0.3],\\n      [\"short wait\", \"SERVICE\", 0.8, 0.5]\\n    ]\\n},\\n\"6\": {\\n\"text\\': \\'my personal favorite is an everything bagel with lox spread, but all the bagles are unbeliavably good.\\'\"\\n    : [\\n      [\"everything bagel with lox spread\", \"FOOD\", 0.9, 0.8],\\n      [\"all the bagels are unbelievably good\", \"FOOD\", 0.85, 0.7]\\n    ]\\n},\\n\"7\": {\\n\"text\\': \\'The man that was hosting promised to save a table for our party of 7, then sat a party of 2 at the very table he was saving (mean while there were boths open all around).\\'\"\\n    : [\\n      [\"promised to save a table\", \"SERVICE\", 0.5, -0.3],\\n      [\"party of 2 at the very table he was saving\", \"SERVICE\", 0.4, -0.4]\\n    ]\\n},\\n\"8\": {\\n\"text\\': \\'The main course had an average portion, and was decent overall.\\'\"\\n    : [\\n      [\"main course had an average portion\", \"FOOD\", 0.7, 0.3],\\n      [\"was decent overall\", \"OVERALL\", 0.6, 0.2]\\n    ]\\n},\\n\"9\": {\\n\"text\\': \\'The restaurant is rather small but we were lucky to get a table quickly.\\'\"\\n    : [\\n      [\"restaurant is rather small\", \"AMBIENCE\", 0.5, -0.3],\\n      [\"lucky to get a table quickly\", \"SERVICE\", 0.8, 0.6]\\n    ]\\n},\\n\"10\": {\\n\"text\\': \\'It is nearly impossible to get a table, so if you ever have the chance to go here for dinner, DO NOT pass it up.\\'\"\\n    : [\\n      [\"nearly impossible to get a table\", \"SERVICE\", 0.4, -0.5],\\n      [\"DO NOT pass it up\", \"OVERALL\", 0.9, 0.8]\\n    ]\\n}\\n}'\n"
     ]
    },
    {
     "name": "stdin",
     "output_type": "stream",
     "text": [
      "ipdb>  exit\n"
     ]
    }
   ],
   "source": [
    "%debug"
   ]
  },
  {
   "cell_type": "code",
   "execution_count": 17,
   "id": "91a73e84-ff1f-4816-b2ad-ba69dac57e7d",
   "metadata": {},
   "outputs": [
    {
     "data": {
      "text/plain": [
       "33"
      ]
     },
     "execution_count": 17,
     "metadata": {},
     "output_type": "execute_result"
    }
   ],
   "source": [
    "len(extracted_results)"
   ]
  },
  {
   "cell_type": "code",
   "execution_count": 18,
   "id": "edb4c34d-4329-45e4-b02a-f5e70545ebe6",
   "metadata": {},
   "outputs": [
    {
     "data": {
      "text/plain": [
       "[{'text': \"I've had the chicken with garlic sauce, chicken with black bean sauce, and hunan chicken.\",\n",
       "  'entities': [['chicken with garlic sauce', 'FOOD', 0.7, 0.5],\n",
       "   ['chicken with black bean sauce', 'FOOD', 0.6, 0.4],\n",
       "   ['hunan chicken', 'FOOD', 0.6, 0.3]]},\n",
       " {'text': \"We ate out in the back patio, which is worth it as it's cool and the music is hear well there.\",\n",
       "  'entities': [['back patio', 'AMBIENCE', 0.7, 0.5],\n",
       "   ['cool', 'AMBIENCE', 0.6, 0.4],\n",
       "   ['music is hear well', 'AMBIENCE', 0.6, 0.3]]},\n",
       " {'text': 'Traditional French decour was pleasant though the hall was rather noisy - the restaurant was full and we had to raise our voices to be able to maintain a conversation.',\n",
       "  'entities': [['Traditional French decour', 'AMBIENCE', 0.6, 0.4],\n",
       "   ['hall was rather noisy', 'AMBIENCE', 0.5, -0.5],\n",
       "   ['restaurant was full', 'SERVICE', 0.7, 0.3]]},\n",
       " {'text': 'Each table has a pot of boiling water sunken into its surface, and you get platters of thin sliced meats, various vegetables, and rice and glass noodles.',\n",
       "  'entities': [['pot of boiling water', 'SERVICE', 0.6, 0.3],\n",
       "   ['thin sliced meats', 'FOOD', 0.7, 0.5],\n",
       "   ['various vegetables', 'FOOD', 0.6, 0.4],\n",
       "   ['rice and glass noodles', 'FOOD', 0.6, 0.3]]},\n",
       " {'text': 'We were worried we would have trouble getting in, but somehow managed to have a short wait.',\n",
       "  'entities': [['trouble getting in', 'SERVICE', 0.5, -0.4],\n",
       "   ['short wait', 'SERVICE', 0.6, 0.3]]},\n",
       " {'text': 'my personal favorite is an everything bagel with lox spread, but all the bagles are unbeliavably good.',\n",
       "  'entities': [['everything bagel with lox spread', 'FOOD', 0.8, 0.7],\n",
       "   ['all the bagles are unbeliavably good', 'FOOD', 0.9, 0.6]]},\n",
       " {'text': 'The man that was hosting promised to save a table for our party of 7, then sat a party of 2 at the very table he was saving (mean while there were boths open all around).',\n",
       "  'entities': [['promised to save a table', 'SERVICE', 0.5, -0.3],\n",
       "   ['party of 7', 'SERVICE', 0.6, 0.2]]},\n",
       " {'text': 'The main course had an average portion, and was decent overall.',\n",
       "  'entities': [['main course had an average portion', 'FOOD', 0.5, -0.1],\n",
       "   ['was decent overall', 'FOOD', 0.6, 0.3]]},\n",
       " {'text': 'The restaurant is rather small but we were lucky to get a table quickly.',\n",
       "  'entities': [['restaurant is rather small', 'SERVICE', 0.5, -0.2],\n",
       "   ['lucky to get a table quickly', 'SERVICE', 0.6, 0.4]]},\n",
       " {'text': 'It is nearly impossible to get a table, so if you ever have the chance to go here for dinner, DO NOT pass it up.',\n",
       "  'entities': [['nearly impossible to get a table', 'SERVICE', 0.5, -0.6],\n",
       "   ['DO NOT pass it up', 'RECOMMENDATION', 0.9, 0.8]]},\n",
       " {'text': \"We could not catch our waiter's eye, and he ignored us.\",\n",
       "  'entities': [[\"could not catch our waiter's eye\", 'SERVICE', 0.5, -0.6],\n",
       "   ['he ignored us', 'SERVICE', 0.4, -0.7]]},\n",
       " {'text': 'Some servers make you feel like they are doing you a favor to bring you the food.',\n",
       "  'entities': [['some servers make you feel like they are doing you a favor',\n",
       "    'SERVICE',\n",
       "    0.6,\n",
       "    -0.5],\n",
       "   ['bring you the food', 'FOOD', 0.7, 0.3]]},\n",
       " {'text': 'Acceptable prices.',\n",
       "  'entities': [['acceptable prices', 'PRICE', 0.8, 0.4]]},\n",
       " {'text': 'I would definitely recommend SEA if you like thai cuisine!',\n",
       "  'entities': [['would definitely recommend SEA', 'SERVICE', 0.9, 0.6],\n",
       "   ['like thai cuisine', 'FOOD', 0.8, 0.5]]},\n",
       " {'text': 'Try the tandoori salmon!',\n",
       "  'entities': [['try the tandoori salmon', 'FOOD', 0.7, 0.4]]},\n",
       " {'text': 'I recieved prompt service with a smile.',\n",
       "  'entities': [['recieved prompt service', 'SERVICE', 0.8, 0.5],\n",
       "   ['with a smile', 'SERVICE', 0.9, 0.7]]},\n",
       " {'text': 'The crackling calamari salad, which is usually a cheap disaster at many restaurants, is crispy and lightly dressed.',\n",
       "  'entities': [['crackling calamari salad', 'FOOD', 0.6, 0.3],\n",
       "   ['is crispy and lightly dressed', 'FOOD', 0.7, 0.4]]},\n",
       " {'text': 'This is a nice restaurant if you are looking for a good place to host an intimate dinner meeting with business associates.',\n",
       "  'entities': [['nice restaurant', 'AMBIENCE', 0.6, 0.3],\n",
       "   ['good place to host an intimate dinner meeting', 'SERVICE', 0.7, 0.5]]},\n",
       " {'text': 'A cool place to hang with your friends for a couple of healthy drinks and desserts.',\n",
       "  'entities': [['cool place to hang', 'AMBIENCE', 0.8, 0.6],\n",
       "   ['healthy drinks and desserts', 'BEVERAGE', 0.7, 0.4]]},\n",
       " {'text': 'We could only get through an appetizer and cheese fondue.',\n",
       "  'entities': [['could only get through an appetizer', 'FOOD', 0.6, -0.3],\n",
       "   ['and cheese fondue', 'FOOD', 0.7, 0.2]]},\n",
       " {'text': 'Meanwhile, the bartender continued to pour champagne from his reserve after we had finished our bottle and we enjoyed an amuse of turnip soup with pureed basil, gratis.',\n",
       "  'entities': [['amuse of turnip soup', 'FOOD', 0.7, 0.4],\n",
       "   ['pureed basil', 'FOOD', 0.6, 0.2]]},\n",
       " {'text': 'The staff is incredibly helpful and attentive.',\n",
       "  'entities': [['staff is incredibly helpful', 'SERVICE', 0.8, 0.5],\n",
       "   ['attentive', 'SERVICE', 0.7, 0.4]]},\n",
       " {'text': 'When we sat, we got great and fast service.',\n",
       "  'entities': [['great and fast service', 'SERVICE', 0.9, 0.6]]},\n",
       " {'text': 'Very good service and very good prices.',\n",
       "  'entities': [['very good service', 'SERVICE', 0.8, 0.5],\n",
       "   ['very good prices', 'PRICE', 0.7, 0.3]]},\n",
       " {'text': 'Example is the soup which was about 6 oz for $12 dollars and the mushrooms where $12 for about 1oz.',\n",
       "  'entities': [['soup which was about 6 oz', 'FOOD', 0.4, -0.2],\n",
       "   ['$12 dollars', 'PRICE', 0.3, -0.5],\n",
       "   ['mushrooms where $12', 'FOOD', 0.5, -0.3]]},\n",
       " {'text': 'BUt their best dish is thh Thai spiced curry noodles with shrimp - a dish that would cost $23.95 is most places, but it is $16 here.',\n",
       "  'entities': [['Thai spiced curry noodles', 'FOOD', 0.8, 0.5],\n",
       "   ['$23.95', 'PRICE', 0.4, -0.6],\n",
       "   ['$16', 'PRICE', 0.7, 0.3]]},\n",
       " {'text': \"I've eaten thai many times, and am very familiar with the cuisine.\",\n",
       "  'entities': [['eaten thai many times', 'FOOD', 0.5, 0.1],\n",
       "   ['familiar with the cuisine', 'CUISINE', 0.6, 0.2]]},\n",
       " {'text': 'I highly recommend visiting this restaurant and having dinner and drinks!',\n",
       "  'entities': [['highly recommend visiting', 'SERVICE', 0.9, 0.7],\n",
       "   ['dinner and drinks', 'FOOD/BEVERAGE', 0.8, 0.5]]},\n",
       " {'text': 'While this is a pretty place in that overly cute French way, the food was insultingly horrible.',\n",
       "  'entities': [['pretty place', 'AMBIENCE', 0.6, 0.3],\n",
       "   ['overly cute French way', 'AMBIENCE', 0.5, -0.2],\n",
       "   ['food was insultingly horrible', 'FOOD', 0.4, -0.7]]},\n",
       " {'text': 'Found service above average, but that could be because we were 13 of us.',\n",
       "  'entities': [['service above average', 'SERVICE', 0.8, 0.5],\n",
       "   ['above average', 'SERVICE', 0.6, 0.3]]},\n",
       " {'text': \"Some of the workers ignore me and talk to the female customers, other times, they've skipped my order.\",\n",
       "  'entities': [['workers ignore me', 'SERVICE', 0.6, -0.7],\n",
       "   ['talk to the female customers', 'SERVICE', 0.5, -0.4],\n",
       "   ['skipped my order', 'SERVICE', 0.8, -0.9]]},\n",
       " {'text': \"If you've ever been along the river in Weehawken you have an idea of the top of view the chart house has to offer.\",\n",
       "  'entities': [['has to offer', 'VIEW', 0.7, 0.5]]},\n",
       " {'text': 'What is even better, is that the prices are very affordable as well, and the food is really good.',\n",
       "  'entities': [['prices are very affordable', 'PRICE', 0.8, 0.6],\n",
       "   ['food is really good', 'FOOD', 0.9, 0.7]]}]"
      ]
     },
     "execution_count": 18,
     "metadata": {},
     "output_type": "execute_result"
    }
   ],
   "source": [
    "extracted_results"
   ]
  },
  {
   "cell_type": "code",
   "execution_count": 19,
   "id": "ab526e14-300e-4485-835b-95b515abee79",
   "metadata": {},
   "outputs": [
    {
     "data": {
      "text/plain": [
       "[{'text': \"Some of the workers ignore me and talk to the female customers, other times, they've skipped my order.\"},\n",
       " {'text': \"If you've ever been along the river in Weehawken you have an idea of the top of view the chart house has to offer.\"},\n",
       " {'text': 'What is even better, is that the prices are very affordable as well, and the food is really good.'}]"
      ]
     },
     "execution_count": 19,
     "metadata": {},
     "output_type": "execute_result"
    }
   ],
   "source": [
    "batch"
   ]
  },
  {
   "cell_type": "code",
   "execution_count": null,
   "id": "845f4076-2b14-4303-b972-b0869bb23ed5",
   "metadata": {},
   "outputs": [],
   "source": []
  },
  {
   "cell_type": "code",
   "execution_count": null,
   "id": "db129114-55bb-410a-a007-cab23b3a3a14",
   "metadata": {},
   "outputs": [],
   "source": []
  },
  {
   "cell_type": "code",
   "execution_count": null,
   "id": "2d7519c0-3c36-431b-9848-74a33557e95d",
   "metadata": {},
   "outputs": [],
   "source": []
  },
  {
   "cell_type": "markdown",
   "id": "72ec2cfc-ff02-4012-a0f2-a9a01b092ae2",
   "metadata": {},
   "source": [
    "# Check loguru logging output"
   ]
  },
  {
   "cell_type": "code",
   "execution_count": null,
   "id": "0459dfbd-4fc2-4fba-8aa7-325b040a6af4",
   "metadata": {},
   "outputs": [],
   "source": [
    "with open('llm_extract_output_2024-07-06_13-16-14_331055.jsonl', 'r') as f:\n",
    "    results = [json.loads(jline) for jline in f.readlines()]"
   ]
  },
  {
   "cell_type": "code",
   "execution_count": 30,
   "id": "9d564680-8b46-41ef-81ac-ed1af340cd4d",
   "metadata": {},
   "outputs": [
    {
     "data": {
      "text/plain": [
       "[\"Some of the workers ignore me and talk to the female customers, other times, they've skipped my order.\",\n",
       " \"If you've ever been along the river in Weehawken you have an idea of the top of view the chart house has to offer.\",\n",
       " 'What is even better, is that the prices are very affordable as well, and the food is really good.']"
      ]
     },
     "execution_count": 30,
     "metadata": {},
     "output_type": "execute_result"
    }
   ],
   "source": [
    "[e['text'] for e in results[3]['record']['extra']['input_texts']]"
   ]
  },
  {
   "cell_type": "code",
   "execution_count": 31,
   "id": "0bb516b4-d0d0-47d8-81f4-814c9918ebd6",
   "metadata": {},
   "outputs": [
    {
     "data": {
      "text/plain": [
       "[\"Some of the workers ignore me and talk to the female customers, other times, they've skipped my order.\",\n",
       " \"If you've ever been along the river in Weehawken you have an idea of the top of view the chart house has to offer.\",\n",
       " 'What is even better, is that the prices are very affordable as well, and the food is really good.']"
      ]
     },
     "execution_count": 31,
     "metadata": {},
     "output_type": "execute_result"
    }
   ],
   "source": [
    "[e['text'] for e in json.loads(results[3]['record']['extra']['llm_extracted']).values()]"
   ]
  },
  {
   "cell_type": "code",
   "execution_count": 28,
   "id": "1f16f858-0384-477e-8b35-2335648a80dc",
   "metadata": {},
   "outputs": [],
   "source": [
    "result_list = []\n",
    "for result in results:\n",
    "    result_json = json.loads(result['record']['extra']['llm_extracted'])\n",
    "    result_list.extend(list(result_json.values()))"
   ]
  },
  {
   "cell_type": "code",
   "execution_count": 32,
   "id": "8620bef8-167c-40bb-bfb4-d7fe1f819971",
   "metadata": {},
   "outputs": [
    {
     "data": {
      "text/plain": [
       "[{'text': \"Some of the workers ignore me and talk to the female customers, other times, they've skipped my order.\",\n",
       "  'entities': [['workers ignore me and talk to the female customers',\n",
       "    'SERVICE',\n",
       "    0.8,\n",
       "    -0.7],\n",
       "   ['skipped my order', 'SERVICE', 0.85, -0.6]]},\n",
       " {'text': \"If you've ever been along the river in Weehawken you have an idea of the top of view the chart house has to offer.\",\n",
       "  'entities': [['top of view the chart house has to offer',\n",
       "    'VIEW',\n",
       "    0.9,\n",
       "    0.85]]},\n",
       " {'text': 'What is even better, is that the prices are very affordable as well, and the food is really good.',\n",
       "  'entities': [['prices are very affordable', 'PRICE', 0.8, 0.7],\n",
       "   ['food is really good', 'FOOD', 0.9, 0.85]]}]"
      ]
     },
     "execution_count": 32,
     "metadata": {},
     "output_type": "execute_result"
    }
   ],
   "source": [
    "result_list[-3:]"
   ]
  },
  {
   "cell_type": "code",
   "execution_count": null,
   "id": "e0ccd3c6-c372-46f4-8f63-730a2dafe411",
   "metadata": {},
   "outputs": [],
   "source": []
  },
  {
   "cell_type": "code",
   "execution_count": null,
   "id": "f7f0cf6c-1f70-4d95-b24d-389b9535eb05",
   "metadata": {},
   "outputs": [],
   "source": []
  },
  {
   "cell_type": "code",
   "execution_count": null,
   "id": "3a9bc8af-f4f1-4ee1-b390-03305c8f55f0",
   "metadata": {},
   "outputs": [],
   "source": []
  },
  {
   "cell_type": "markdown",
   "id": "1f9b6989-ca09-4826-9845-7a764b514cae",
   "metadata": {
    "jp-MarkdownHeadingCollapsed": true
   },
   "source": [
    "# Archive"
   ]
  },
  {
   "cell_type": "raw",
   "id": "d749ae5d-b513-4cc2-a437-b63996238144",
   "metadata": {},
   "source": [
    "# input_texts = [\n",
    "#     {\"text\": \"They did not have mayonnaise, forgot our toast, left out ingredients (ie cheese in an omelet), below hot temperatures and the bacon was so over cooked it crumbled on the plate when you touched it.\"},\n",
    "#     {\"text\": \"The pizza is the best if you like thin crusted pizza.\"},\n",
    "#     {\"text\": \"All the money went into the interior decoration, none of it went to the chefs.\"}\n",
    "# ]\n",
    "# input_texts = [\n",
    "#     {\"id\": \"302410369143631686124488347381689095554\", \"text\": \"They did not have mayonnaise, forgot our toast, left out ingredients (ie cheese in an omelet), below hot temperatures and the bacon was so over cooked it crumbled on the plate when you touched it.\"},\n",
    "#     {\"id\": \"33613397660052989608475259485429283361\", \"text\": \"The pizza is the best if you like thin crusted pizza.\"},\n",
    "#     {\"id\": \"4217358929495711855940033134574696129\", \"text\": \"All the money went into the interior decoration, none of it went to the chefs.\"}\n",
    "# ]"
   ]
  },
  {
   "cell_type": "raw",
   "id": "8e8a4c0c-af0d-4672-a308-d117f06d6601",
   "metadata": {},
   "source": [
    "# Count prompt tokens\n",
    "from transformers import AutoTokenizer\n",
    "tokenizer = AutoTokenizer.from_pretrained(\"meta-llama/Meta-Llama-3-8B\")\n",
    "tokens = tokenizer.tokenize(prompt)\n",
    "num_tokens = len(tokens)\n",
    "print(f\"Number of tokens in your prompt: {num_tokens}\")"
   ]
  },
  {
   "cell_type": "raw",
   "id": "ef997584-2c4f-4635-85bc-6419aa106c91",
   "metadata": {},
   "source": [
    "%%time\n",
    "input_texts = [\n",
    "    {\"id\": \"1\", \"text\": \"They did not have mayonnaise, forgot our toast, left out ingredients (ie cheese in an omelet), below hot temperatures and the bacon was so over cooked it crumbled on the plate when you touched it.\"},\n",
    "    {\"id\": \"2\", \"text\": \"The pizza is the best if you like thin crusted pizza.\"},\n",
    "    {\"id\": \"3\", \"text\": \"All the money went into the interior decoration, none of it went to the chefs.\"}\n",
    "]\n",
    "\n",
    "response = client.chat(\n",
    "    model='llama3',\n",
    "    messages=[\n",
    "        {\n",
    "          \"role\": \"system\",\n",
    "          \"content\": system_prompt\n",
    "        },\n",
    "        {\n",
    "          \"role\": \"user\",\n",
    "          \"content\": prompt.format(input_texts=str(input_texts))\n",
    "        }\n",
    "    ],\n",
    "    options=dict(\n",
    "        temperature=0,\n",
    "        num_predict=1024,\n",
    "        top_p=1,\n",
    "        frequency_penalty=0,\n",
    "        presence_penalty=0\n",
    "    ),\n",
    "    format='json'\n",
    ")\n",
    "print(response['message']['content'])"
   ]
  },
  {
   "cell_type": "raw",
   "id": "8277ba9c-0b2a-4601-bd6a-4ae2a7dfd2b3",
   "metadata": {},
   "source": [
    "# Check loguru logging error\n",
    "import json\n",
    "\n",
    "with open('llm_extract_errors_2024-07-05_17-26-46_927084.log', 'r') as f:\n",
    "    result = [json.loads(jline) for jline in f.readlines()]\n",
    "result[0]"
   ]
  },
  {
   "cell_type": "markdown",
   "id": "785c0b17-bd21-4917-8d93-4a0eb72d8f5c",
   "metadata": {},
   "source": [
    "## Convert output to hashed id"
   ]
  },
  {
   "cell_type": "raw",
   "id": "97a67fd3-8f50-4295-a627-bbc0b59ddf81",
   "metadata": {},
   "source": [
    "tmp = [\n",
    "  {\"id\": \"1\", \"text\": \"The seating arrangement could be better.\"},\n",
    "  {\"id\": \"2\", \"text\": \"I felt the lighting was a bit too dim for my liking.\"},\n",
    "  {\"id\": \"3\", \"text\": \"The waiting time was not great but the food was decent.\"},\n",
    "  {\"id\": \"4\", \"text\": \"The decor is quite old-fashioned and could use some updates.\"},\n",
    "  {\"id\": \"5\", \"text\": \"I think the desserts were okay, not the best.\"},\n",
    "  {\"id\": \"6\", \"text\": \"The noise level was quite high, making it hard to have a conversation.\"},\n",
    "  {\"id\": \"7\", \"text\": \"I wasn't too impressed with the salad bar, but the drinks were fine.\"},\n",
    "  {\"id\": \"8\", \"text\": \"The restrooms were clean, but the hand dryers didn't work well.\"},\n",
    "  {\"id\": \"9\", \"text\": \"The view from the window wasn't as good as I expected.\"},\n",
    "  {\"id\": \"10\", \"text\": \"The ambiance is neither good nor bad, just average.\"}\n",
    "]\n",
    "tmp_ = []\n",
    "for _tmp in tmp:\n",
    "    _tmp['id'] = str(deterministic_hash(_tmp['text']))\n",
    "    tmp_.append(_tmp)\n",
    "tmp_"
   ]
  },
  {
   "cell_type": "raw",
   "id": "a2aa2292-66c3-48ce-96a7-84fc9770717d",
   "metadata": {
    "scrolled": true
   },
   "source": [
    "tmp = {\n",
    "  \"1\": {\n",
    "    \"text\": \"The seating arrangement could be better.\",\n",
    "    \"entities\": [\n",
    "      [\"seating arrangement could be better\", \"AMBIENCE\", 0.6, -0.3]\n",
    "    ]\n",
    "  },\n",
    "  \"2\": {\n",
    "    \"text\": \"I felt the lighting was a bit too dim for my liking.\",\n",
    "    \"entities\": [\n",
    "      [\"lighting was a bit too dim\", \"AMBIENCE\", 0.5, -0.4]\n",
    "    ]\n",
    "  },\n",
    "  \"3\": {\n",
    "    \"text\": \"The waiting time was not great but the food was decent.\",\n",
    "    \"entities\": [\n",
    "      [\"waiting time was not great\", \"SERVICE\", 0.5, -0.5],\n",
    "      [\"food was decent\", \"FOOD\", 0.7, 0.3]\n",
    "    ]\n",
    "  },\n",
    "  \"4\": {\n",
    "    \"text\": \"The decor is quite old-fashioned and could use some updates.\",\n",
    "    \"entities\": [\n",
    "      [\"decor is quite old-fashioned\", \"AMBIENCE\", 0.4, -0.4],\n",
    "      [\"could use some updates\", \"AMBIENCE\", 0.6, -0.2]\n",
    "    ]\n",
    "  },\n",
    "  \"5\": {\n",
    "    \"text\": \"I think the desserts were okay, not the best.\",\n",
    "    \"entities\": [\n",
    "      [\"desserts were okay\", \"FOOD\", 0.6, 0.1],\n",
    "      [\"not the best\", \"FOOD\", 0.5, -0.3]\n",
    "    ]\n",
    "  },\n",
    "  \"6\": {\n",
    "    \"text\": \"The noise level was quite high, making it hard to have a conversation.\",\n",
    "    \"entities\": [\n",
    "      [\"noise level was quite high\", \"AMBIENCE\", 0.6, -0.6]\n",
    "    ]\n",
    "  },\n",
    "  \"7\": {\n",
    "    \"text\": \"I wasn't too impressed with the salad bar, but the drinks were fine.\",\n",
    "    \"entities\": [\n",
    "      [\"wasn't too impressed with the salad bar\", \"FOOD\", 0.6, -0.5],\n",
    "      [\"drinks were fine\", \"BEVERAGE\", 0.7, 0.3]\n",
    "    ]\n",
    "  },\n",
    "  \"8\": {\n",
    "    \"text\": \"The restrooms were clean, but the hand dryers didn't work well.\",\n",
    "    \"entities\": [\n",
    "      [\"restrooms were clean\", \"SERVICE\", 0.7, 0.4],\n",
    "      [\"hand dryers didn't work well\", \"SERVICE\", 0.5, -0.5]\n",
    "    ]\n",
    "  },\n",
    "  \"9\": {\n",
    "    \"text\": \"The view from the window wasn't as good as I expected.\",\n",
    "    \"entities\": [\n",
    "      [\"view from the window wasn't as good\", \"VIEW\", 0.4, -0.4]\n",
    "    ]\n",
    "  },\n",
    "  \"10\": {\n",
    "    \"text\": \"The ambiance is neither good nor bad, just average.\",\n",
    "    \"entities\": [\n",
    "      [\"ambiance is neither good nor bad\", \"AMBIENCE\", 0.3, 0.0]\n",
    "    ]\n",
    "  }\n",
    "}\n",
    "tmp_ = {}\n",
    "for i, _tmp in tmp.items():\n",
    "    i = int(i)\n",
    "    _tmp['id'] = str(deterministic_hash(_tmp['text']))\n",
    "    tmp_[i] = _tmp\n",
    "tmp_"
   ]
  },
  {
   "cell_type": "code",
   "execution_count": null,
   "id": "2cdba360-107b-4626-aae9-f1bf0ecf118e",
   "metadata": {},
   "outputs": [],
   "source": []
  }
 ],
 "metadata": {
  "kernelspec": {
   "display_name": "Python 3 (ipykernel)",
   "language": "python",
   "name": "python3"
  },
  "language_info": {
   "codemirror_mode": {
    "name": "ipython",
    "version": 3
   },
   "file_extension": ".py",
   "mimetype": "text/x-python",
   "name": "python",
   "nbconvert_exporter": "python",
   "pygments_lexer": "ipython3",
   "version": "3.9.19"
  }
 },
 "nbformat": 4,
 "nbformat_minor": 5
}
